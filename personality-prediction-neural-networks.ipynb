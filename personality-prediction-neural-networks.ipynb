{
 "cells": [
  {
   "cell_type": "code",
   "execution_count": 1,
   "id": "d81a2d2e",
   "metadata": {
    "_cell_guid": "b1076dfc-b9ad-4769-8c92-a6c4dae69d19",
    "_uuid": "8f2839f25d086af736a60e9eeb907d3b93b6e0e5",
    "execution": {
     "iopub.execute_input": "2024-09-24T15:56:01.228583Z",
     "iopub.status.busy": "2024-09-24T15:56:01.228005Z",
     "iopub.status.idle": "2024-09-24T15:56:20.109707Z",
     "shell.execute_reply": "2024-09-24T15:56:20.108235Z"
    },
    "papermill": {
     "duration": 18.892626,
     "end_time": "2024-09-24T15:56:20.112794",
     "exception": false,
     "start_time": "2024-09-24T15:56:01.220168",
     "status": "completed"
    },
    "tags": []
   },
   "outputs": [],
   "source": [
    "import pandas as pd\n",
    "from sklearn.model_selection import train_test_split\n",
    "from sklearn.preprocessing import OneHotEncoder, StandardScaler\n",
    "from tensorflow.keras.models import Sequential\n",
    "from tensorflow.keras.layers import Dense\n",
    "from tensorflow.keras.utils import to_categorical"
   ]
  },
  {
   "cell_type": "code",
   "execution_count": 2,
   "id": "00c4c1da",
   "metadata": {
    "execution": {
     "iopub.execute_input": "2024-09-24T15:56:20.125728Z",
     "iopub.status.busy": "2024-09-24T15:56:20.124811Z",
     "iopub.status.idle": "2024-09-24T15:56:20.517668Z",
     "shell.execute_reply": "2024-09-24T15:56:20.516259Z"
    },
    "papermill": {
     "duration": 0.403236,
     "end_time": "2024-09-24T15:56:20.521304",
     "exception": false,
     "start_time": "2024-09-24T15:56:20.118068",
     "status": "completed"
    },
    "tags": []
   },
   "outputs": [
    {
     "data": {
      "text/html": [
       "<div>\n",
       "<style scoped>\n",
       "    .dataframe tbody tr th:only-of-type {\n",
       "        vertical-align: middle;\n",
       "    }\n",
       "\n",
       "    .dataframe tbody tr th {\n",
       "        vertical-align: top;\n",
       "    }\n",
       "\n",
       "    .dataframe thead th {\n",
       "        text-align: right;\n",
       "    }\n",
       "</style>\n",
       "<table border=\"1\" class=\"dataframe\">\n",
       "  <thead>\n",
       "    <tr style=\"text-align: right;\">\n",
       "      <th></th>\n",
       "      <th>Age</th>\n",
       "      <th>Gender</th>\n",
       "      <th>Education</th>\n",
       "      <th>Introversion Score</th>\n",
       "      <th>Sensing Score</th>\n",
       "      <th>Thinking Score</th>\n",
       "      <th>Judging Score</th>\n",
       "      <th>Interest</th>\n",
       "      <th>Personality</th>\n",
       "    </tr>\n",
       "  </thead>\n",
       "  <tbody>\n",
       "    <tr>\n",
       "      <th>0</th>\n",
       "      <td>19.0</td>\n",
       "      <td>Male</td>\n",
       "      <td>0</td>\n",
       "      <td>9.47080</td>\n",
       "      <td>7.141434</td>\n",
       "      <td>6.03696</td>\n",
       "      <td>4.360278</td>\n",
       "      <td>Unknown</td>\n",
       "      <td>ENFP</td>\n",
       "    </tr>\n",
       "    <tr>\n",
       "      <th>1</th>\n",
       "      <td>27.0</td>\n",
       "      <td>Female</td>\n",
       "      <td>0</td>\n",
       "      <td>5.85392</td>\n",
       "      <td>6.160195</td>\n",
       "      <td>0.80552</td>\n",
       "      <td>4.221421</td>\n",
       "      <td>Sports</td>\n",
       "      <td>ESFP</td>\n",
       "    </tr>\n",
       "    <tr>\n",
       "      <th>2</th>\n",
       "      <td>21.0</td>\n",
       "      <td>Female</td>\n",
       "      <td>0</td>\n",
       "      <td>7.08615</td>\n",
       "      <td>3.388433</td>\n",
       "      <td>2.66188</td>\n",
       "      <td>5.127320</td>\n",
       "      <td>Unknown</td>\n",
       "      <td>ENFP</td>\n",
       "    </tr>\n",
       "    <tr>\n",
       "      <th>3</th>\n",
       "      <td>28.0</td>\n",
       "      <td>Male</td>\n",
       "      <td>0</td>\n",
       "      <td>2.01892</td>\n",
       "      <td>4.823624</td>\n",
       "      <td>7.30625</td>\n",
       "      <td>5.986550</td>\n",
       "      <td>Others</td>\n",
       "      <td>INTP</td>\n",
       "    </tr>\n",
       "    <tr>\n",
       "      <th>4</th>\n",
       "      <td>36.0</td>\n",
       "      <td>Female</td>\n",
       "      <td>1</td>\n",
       "      <td>9.91703</td>\n",
       "      <td>4.755080</td>\n",
       "      <td>5.31469</td>\n",
       "      <td>4.677213</td>\n",
       "      <td>Technology</td>\n",
       "      <td>ENFP</td>\n",
       "    </tr>\n",
       "  </tbody>\n",
       "</table>\n",
       "</div>"
      ],
      "text/plain": [
       "    Age  Gender  Education  Introversion Score  Sensing Score  Thinking Score  \\\n",
       "0  19.0    Male          0             9.47080       7.141434         6.03696   \n",
       "1  27.0  Female          0             5.85392       6.160195         0.80552   \n",
       "2  21.0  Female          0             7.08615       3.388433         2.66188   \n",
       "3  28.0    Male          0             2.01892       4.823624         7.30625   \n",
       "4  36.0  Female          1             9.91703       4.755080         5.31469   \n",
       "\n",
       "   Judging Score    Interest Personality  \n",
       "0       4.360278     Unknown        ENFP  \n",
       "1       4.221421      Sports        ESFP  \n",
       "2       5.127320     Unknown        ENFP  \n",
       "3       5.986550      Others        INTP  \n",
       "4       4.677213  Technology        ENFP  "
      ]
     },
     "execution_count": 2,
     "metadata": {},
     "output_type": "execute_result"
    }
   ],
   "source": [
    "data = pd.read_csv('/kaggle/input/predict-people-personality-types/data.csv')\n",
    "data.head()"
   ]
  },
  {
   "cell_type": "code",
   "execution_count": 3,
   "id": "55ab17d8",
   "metadata": {
    "execution": {
     "iopub.execute_input": "2024-09-24T15:56:20.534915Z",
     "iopub.status.busy": "2024-09-24T15:56:20.534394Z",
     "iopub.status.idle": "2024-09-24T15:56:20.647854Z",
     "shell.execute_reply": "2024-09-24T15:56:20.646500Z"
    },
    "papermill": {
     "duration": 0.124129,
     "end_time": "2024-09-24T15:56:20.651202",
     "exception": false,
     "start_time": "2024-09-24T15:56:20.527073",
     "status": "completed"
    },
    "tags": []
   },
   "outputs": [],
   "source": [
    "encoder = OneHotEncoder()\n",
    "gender_encoded = encoder.fit_transform(data[['Gender']]).toarray()\n",
    "\n",
    "encoder_interest = OneHotEncoder()\n",
    "interest_encoded = encoder_interest.fit_transform(data[['Interest']]).toarray()"
   ]
  },
  {
   "cell_type": "code",
   "execution_count": 4,
   "id": "de3b192b",
   "metadata": {
    "execution": {
     "iopub.execute_input": "2024-09-24T15:56:20.664655Z",
     "iopub.status.busy": "2024-09-24T15:56:20.664130Z",
     "iopub.status.idle": "2024-09-24T15:56:20.692727Z",
     "shell.execute_reply": "2024-09-24T15:56:20.691155Z"
    },
    "papermill": {
     "duration": 0.039666,
     "end_time": "2024-09-24T15:56:20.696513",
     "exception": false,
     "start_time": "2024-09-24T15:56:20.656847",
     "status": "completed"
    },
    "tags": []
   },
   "outputs": [],
   "source": [
    "features = pd.DataFrame(data.drop(columns=['Personality', 'Gender', 'Interest']))\n",
    "features = pd.concat([features, pd.DataFrame(gender_encoded), pd.DataFrame(interest_encoded)], axis=1)"
   ]
  },
  {
   "cell_type": "code",
   "execution_count": 5,
   "id": "96bdf3f0",
   "metadata": {
    "execution": {
     "iopub.execute_input": "2024-09-24T15:56:20.710757Z",
     "iopub.status.busy": "2024-09-24T15:56:20.710208Z",
     "iopub.status.idle": "2024-09-24T15:56:20.741047Z",
     "shell.execute_reply": "2024-09-24T15:56:20.739784Z"
    },
    "papermill": {
     "duration": 0.041332,
     "end_time": "2024-09-24T15:56:20.743988",
     "exception": false,
     "start_time": "2024-09-24T15:56:20.702656",
     "status": "completed"
    },
    "tags": []
   },
   "outputs": [],
   "source": [
    "scaler = StandardScaler()\n",
    "features[['Age', 'Introversion Score', 'Sensing Score', 'Thinking Score', 'Judging Score']] = scaler.fit_transform(\n",
    "    features[['Age', 'Introversion Score', 'Sensing Score', 'Thinking Score', 'Judging Score']]\n",
    ")"
   ]
  },
  {
   "cell_type": "code",
   "execution_count": 6,
   "id": "8cba4431",
   "metadata": {
    "execution": {
     "iopub.execute_input": "2024-09-24T15:56:20.757633Z",
     "iopub.status.busy": "2024-09-24T15:56:20.756511Z",
     "iopub.status.idle": "2024-09-24T15:56:20.763444Z",
     "shell.execute_reply": "2024-09-24T15:56:20.761876Z"
    },
    "papermill": {
     "duration": 0.016956,
     "end_time": "2024-09-24T15:56:20.766416",
     "exception": false,
     "start_time": "2024-09-24T15:56:20.749460",
     "status": "completed"
    },
    "tags": []
   },
   "outputs": [],
   "source": [
    "target = data['Personality']"
   ]
  },
  {
   "cell_type": "code",
   "execution_count": 7,
   "id": "cf7da454",
   "metadata": {
    "execution": {
     "iopub.execute_input": "2024-09-24T15:56:20.779063Z",
     "iopub.status.busy": "2024-09-24T15:56:20.778512Z",
     "iopub.status.idle": "2024-09-24T15:56:20.823322Z",
     "shell.execute_reply": "2024-09-24T15:56:20.822018Z"
    },
    "papermill": {
     "duration": 0.054614,
     "end_time": "2024-09-24T15:56:20.826310",
     "exception": false,
     "start_time": "2024-09-24T15:56:20.771696",
     "status": "completed"
    },
    "tags": []
   },
   "outputs": [],
   "source": [
    "X_train, X_test, y_train, y_test = train_test_split(features, target, test_size=0.2, random_state=42)"
   ]
  },
  {
   "cell_type": "code",
   "execution_count": 8,
   "id": "e8797562",
   "metadata": {
    "execution": {
     "iopub.execute_input": "2024-09-24T15:56:20.839109Z",
     "iopub.status.busy": "2024-09-24T15:56:20.838608Z",
     "iopub.status.idle": "2024-09-24T15:56:20.865859Z",
     "shell.execute_reply": "2024-09-24T15:56:20.864432Z"
    },
    "papermill": {
     "duration": 0.0372,
     "end_time": "2024-09-24T15:56:20.868913",
     "exception": false,
     "start_time": "2024-09-24T15:56:20.831713",
     "status": "completed"
    },
    "tags": []
   },
   "outputs": [],
   "source": [
    "y_train_encoded = pd.get_dummies(y_train).values\n",
    "y_test_encoded = pd.get_dummies(y_test).values"
   ]
  },
  {
   "cell_type": "code",
   "execution_count": 9,
   "id": "eb3d1ff0",
   "metadata": {
    "execution": {
     "iopub.execute_input": "2024-09-24T15:56:20.881399Z",
     "iopub.status.busy": "2024-09-24T15:56:20.880911Z",
     "iopub.status.idle": "2024-09-24T15:56:20.994438Z",
     "shell.execute_reply": "2024-09-24T15:56:20.992902Z"
    },
    "papermill": {
     "duration": 0.123552,
     "end_time": "2024-09-24T15:56:20.997671",
     "exception": false,
     "start_time": "2024-09-24T15:56:20.874119",
     "status": "completed"
    },
    "tags": []
   },
   "outputs": [
    {
     "name": "stderr",
     "output_type": "stream",
     "text": [
      "/opt/conda/lib/python3.10/site-packages/keras/src/layers/core/dense.py:87: UserWarning: Do not pass an `input_shape`/`input_dim` argument to a layer. When using Sequential models, prefer using an `Input(shape)` object as the first layer in the model instead.\n",
      "  super().__init__(activity_regularizer=activity_regularizer, **kwargs)\n"
     ]
    }
   ],
   "source": [
    "model = Sequential()\n",
    "model.add(Dense(64, input_dim=X_train.shape[1], activation='relu'))\n",
    "model.add(Dense(32, activation='relu'))\n",
    "model.add(Dense(y_train_encoded.shape[1], activation='softmax'))"
   ]
  },
  {
   "cell_type": "code",
   "execution_count": 10,
   "id": "21605886",
   "metadata": {
    "execution": {
     "iopub.execute_input": "2024-09-24T15:56:21.012621Z",
     "iopub.status.busy": "2024-09-24T15:56:21.012109Z",
     "iopub.status.idle": "2024-09-24T15:56:21.030133Z",
     "shell.execute_reply": "2024-09-24T15:56:21.028621Z"
    },
    "papermill": {
     "duration": 0.028727,
     "end_time": "2024-09-24T15:56:21.033497",
     "exception": false,
     "start_time": "2024-09-24T15:56:21.004770",
     "status": "completed"
    },
    "tags": []
   },
   "outputs": [],
   "source": [
    "model.compile(loss='categorical_crossentropy', optimizer='adam', metrics=['accuracy'])"
   ]
  },
  {
   "cell_type": "code",
   "execution_count": 11,
   "id": "12ead24b",
   "metadata": {
    "execution": {
     "iopub.execute_input": "2024-09-24T15:56:21.047020Z",
     "iopub.status.busy": "2024-09-24T15:56:21.046478Z",
     "iopub.status.idle": "2024-09-24T16:10:44.952387Z",
     "shell.execute_reply": "2024-09-24T16:10:44.950726Z"
    },
    "papermill": {
     "duration": 863.916567,
     "end_time": "2024-09-24T16:10:44.955686",
     "exception": false,
     "start_time": "2024-09-24T15:56:21.039119",
     "status": "completed"
    },
    "tags": []
   },
   "outputs": [
    {
     "name": "stdout",
     "output_type": "stream",
     "text": [
      "Epoch 1/50\n",
      "\u001b[1m8196/8196\u001b[0m \u001b[32m━━━━━━━━━━━━━━━━━━━━\u001b[0m\u001b[37m\u001b[0m \u001b[1m19s\u001b[0m 2ms/step - accuracy: 0.7883 - loss: 0.6164 - val_accuracy: 0.8741 - val_loss: 0.2908\n",
      "Epoch 2/50\n",
      "\u001b[1m8196/8196\u001b[0m \u001b[32m━━━━━━━━━━━━━━━━━━━━\u001b[0m\u001b[37m\u001b[0m \u001b[1m17s\u001b[0m 2ms/step - accuracy: 0.8800 - loss: 0.2800 - val_accuracy: 0.8839 - val_loss: 0.2658\n",
      "Epoch 3/50\n",
      "\u001b[1m8196/8196\u001b[0m \u001b[32m━━━━━━━━━━━━━━━━━━━━\u001b[0m\u001b[37m\u001b[0m \u001b[1m17s\u001b[0m 2ms/step - accuracy: 0.8848 - loss: 0.2611 - val_accuracy: 0.8878 - val_loss: 0.2486\n",
      "Epoch 4/50\n",
      "\u001b[1m8196/8196\u001b[0m \u001b[32m━━━━━━━━━━━━━━━━━━━━\u001b[0m\u001b[37m\u001b[0m \u001b[1m17s\u001b[0m 2ms/step - accuracy: 0.8901 - loss: 0.2497 - val_accuracy: 0.8870 - val_loss: 0.2492\n",
      "Epoch 5/50\n",
      "\u001b[1m8196/8196\u001b[0m \u001b[32m━━━━━━━━━━━━━━━━━━━━\u001b[0m\u001b[37m\u001b[0m \u001b[1m17s\u001b[0m 2ms/step - accuracy: 0.8896 - loss: 0.2458 - val_accuracy: 0.8870 - val_loss: 0.2495\n",
      "Epoch 6/50\n",
      "\u001b[1m8196/8196\u001b[0m \u001b[32m━━━━━━━━━━━━━━━━━━━━\u001b[0m\u001b[37m\u001b[0m \u001b[1m17s\u001b[0m 2ms/step - accuracy: 0.8931 - loss: 0.2378 - val_accuracy: 0.8877 - val_loss: 0.2394\n",
      "Epoch 7/50\n",
      "\u001b[1m8196/8196\u001b[0m \u001b[32m━━━━━━━━━━━━━━━━━━━━\u001b[0m\u001b[37m\u001b[0m \u001b[1m17s\u001b[0m 2ms/step - accuracy: 0.8902 - loss: 0.2366 - val_accuracy: 0.8917 - val_loss: 0.2286\n",
      "Epoch 8/50\n",
      "\u001b[1m8196/8196\u001b[0m \u001b[32m━━━━━━━━━━━━━━━━━━━━\u001b[0m\u001b[37m\u001b[0m \u001b[1m17s\u001b[0m 2ms/step - accuracy: 0.8933 - loss: 0.2267 - val_accuracy: 0.8906 - val_loss: 0.2249\n",
      "Epoch 9/50\n",
      "\u001b[1m8196/8196\u001b[0m \u001b[32m━━━━━━━━━━━━━━━━━━━━\u001b[0m\u001b[37m\u001b[0m \u001b[1m17s\u001b[0m 2ms/step - accuracy: 0.8921 - loss: 0.2242 - val_accuracy: 0.8900 - val_loss: 0.2241\n",
      "Epoch 10/50\n",
      "\u001b[1m8196/8196\u001b[0m \u001b[32m━━━━━━━━━━━━━━━━━━━━\u001b[0m\u001b[37m\u001b[0m \u001b[1m17s\u001b[0m 2ms/step - accuracy: 0.8919 - loss: 0.2231 - val_accuracy: 0.8888 - val_loss: 0.2236\n",
      "Epoch 11/50\n",
      "\u001b[1m8196/8196\u001b[0m \u001b[32m━━━━━━━━━━━━━━━━━━━━\u001b[0m\u001b[37m\u001b[0m \u001b[1m17s\u001b[0m 2ms/step - accuracy: 0.8935 - loss: 0.2157 - val_accuracy: 0.8867 - val_loss: 0.2250\n",
      "Epoch 12/50\n",
      "\u001b[1m8196/8196\u001b[0m \u001b[32m━━━━━━━━━━━━━━━━━━━━\u001b[0m\u001b[37m\u001b[0m \u001b[1m17s\u001b[0m 2ms/step - accuracy: 0.8937 - loss: 0.2172 - val_accuracy: 0.8891 - val_loss: 0.2182\n",
      "Epoch 13/50\n",
      "\u001b[1m8196/8196\u001b[0m \u001b[32m━━━━━━━━━━━━━━━━━━━━\u001b[0m\u001b[37m\u001b[0m \u001b[1m17s\u001b[0m 2ms/step - accuracy: 0.8931 - loss: 0.2137 - val_accuracy: 0.8914 - val_loss: 0.2161\n",
      "Epoch 14/50\n",
      "\u001b[1m8196/8196\u001b[0m \u001b[32m━━━━━━━━━━━━━━━━━━━━\u001b[0m\u001b[37m\u001b[0m \u001b[1m17s\u001b[0m 2ms/step - accuracy: 0.8930 - loss: 0.2118 - val_accuracy: 0.8892 - val_loss: 0.2229\n",
      "Epoch 15/50\n",
      "\u001b[1m8196/8196\u001b[0m \u001b[32m━━━━━━━━━━━━━━━━━━━━\u001b[0m\u001b[37m\u001b[0m \u001b[1m17s\u001b[0m 2ms/step - accuracy: 0.8933 - loss: 0.2123 - val_accuracy: 0.8936 - val_loss: 0.2126\n",
      "Epoch 16/50\n",
      "\u001b[1m8196/8196\u001b[0m \u001b[32m━━━━━━━━━━━━━━━━━━━━\u001b[0m\u001b[37m\u001b[0m \u001b[1m17s\u001b[0m 2ms/step - accuracy: 0.8959 - loss: 0.2094 - val_accuracy: 0.8929 - val_loss: 0.2149\n",
      "Epoch 17/50\n",
      "\u001b[1m8196/8196\u001b[0m \u001b[32m━━━━━━━━━━━━━━━━━━━━\u001b[0m\u001b[37m\u001b[0m \u001b[1m16s\u001b[0m 2ms/step - accuracy: 0.8935 - loss: 0.2084 - val_accuracy: 0.8933 - val_loss: 0.2097\n",
      "Epoch 18/50\n",
      "\u001b[1m8196/8196\u001b[0m \u001b[32m━━━━━━━━━━━━━━━━━━━━\u001b[0m\u001b[37m\u001b[0m \u001b[1m17s\u001b[0m 2ms/step - accuracy: 0.8947 - loss: 0.2097 - val_accuracy: 0.8898 - val_loss: 0.2135\n",
      "Epoch 19/50\n",
      "\u001b[1m8196/8196\u001b[0m \u001b[32m━━━━━━━━━━━━━━━━━━━━\u001b[0m\u001b[37m\u001b[0m \u001b[1m17s\u001b[0m 2ms/step - accuracy: 0.8942 - loss: 0.2069 - val_accuracy: 0.8857 - val_loss: 0.2200\n",
      "Epoch 20/50\n",
      "\u001b[1m8196/8196\u001b[0m \u001b[32m━━━━━━━━━━━━━━━━━━━━\u001b[0m\u001b[37m\u001b[0m \u001b[1m17s\u001b[0m 2ms/step - accuracy: 0.8952 - loss: 0.2066 - val_accuracy: 0.8904 - val_loss: 0.2088\n",
      "Epoch 21/50\n",
      "\u001b[1m8196/8196\u001b[0m \u001b[32m━━━━━━━━━━━━━━━━━━━━\u001b[0m\u001b[37m\u001b[0m \u001b[1m17s\u001b[0m 2ms/step - accuracy: 0.8954 - loss: 0.2064 - val_accuracy: 0.8958 - val_loss: 0.2072\n",
      "Epoch 22/50\n",
      "\u001b[1m8196/8196\u001b[0m \u001b[32m━━━━━━━━━━━━━━━━━━━━\u001b[0m\u001b[37m\u001b[0m \u001b[1m18s\u001b[0m 2ms/step - accuracy: 0.8956 - loss: 0.2042 - val_accuracy: 0.8911 - val_loss: 0.2112\n",
      "Epoch 23/50\n",
      "\u001b[1m8196/8196\u001b[0m \u001b[32m━━━━━━━━━━━━━━━━━━━━\u001b[0m\u001b[37m\u001b[0m \u001b[1m19s\u001b[0m 2ms/step - accuracy: 0.8956 - loss: 0.2041 - val_accuracy: 0.8894 - val_loss: 0.2094\n",
      "Epoch 24/50\n",
      "\u001b[1m8196/8196\u001b[0m \u001b[32m━━━━━━━━━━━━━━━━━━━━\u001b[0m\u001b[37m\u001b[0m \u001b[1m17s\u001b[0m 2ms/step - accuracy: 0.8976 - loss: 0.2030 - val_accuracy: 0.8901 - val_loss: 0.2075\n",
      "Epoch 25/50\n",
      "\u001b[1m8196/8196\u001b[0m \u001b[32m━━━━━━━━━━━━━━━━━━━━\u001b[0m\u001b[37m\u001b[0m \u001b[1m17s\u001b[0m 2ms/step - accuracy: 0.8959 - loss: 0.2046 - val_accuracy: 0.8903 - val_loss: 0.2160\n",
      "Epoch 26/50\n",
      "\u001b[1m8196/8196\u001b[0m \u001b[32m━━━━━━━━━━━━━━━━━━━━\u001b[0m\u001b[37m\u001b[0m \u001b[1m17s\u001b[0m 2ms/step - accuracy: 0.8988 - loss: 0.1998 - val_accuracy: 0.8942 - val_loss: 0.2046\n",
      "Epoch 27/50\n",
      "\u001b[1m8196/8196\u001b[0m \u001b[32m━━━━━━━━━━━━━━━━━━━━\u001b[0m\u001b[37m\u001b[0m \u001b[1m18s\u001b[0m 2ms/step - accuracy: 0.8987 - loss: 0.1995 - val_accuracy: 0.8955 - val_loss: 0.2061\n",
      "Epoch 28/50\n",
      "\u001b[1m8196/8196\u001b[0m \u001b[32m━━━━━━━━━━━━━━━━━━━━\u001b[0m\u001b[37m\u001b[0m \u001b[1m18s\u001b[0m 2ms/step - accuracy: 0.8988 - loss: 0.2001 - val_accuracy: 0.8949 - val_loss: 0.2082\n",
      "Epoch 29/50\n",
      "\u001b[1m8196/8196\u001b[0m \u001b[32m━━━━━━━━━━━━━━━━━━━━\u001b[0m\u001b[37m\u001b[0m \u001b[1m17s\u001b[0m 2ms/step - accuracy: 0.8962 - loss: 0.2025 - val_accuracy: 0.8928 - val_loss: 0.2094\n",
      "Epoch 30/50\n",
      "\u001b[1m8196/8196\u001b[0m \u001b[32m━━━━━━━━━━━━━━━━━━━━\u001b[0m\u001b[37m\u001b[0m \u001b[1m17s\u001b[0m 2ms/step - accuracy: 0.8954 - loss: 0.2044 - val_accuracy: 0.8924 - val_loss: 0.2063\n",
      "Epoch 31/50\n",
      "\u001b[1m8196/8196\u001b[0m \u001b[32m━━━━━━━━━━━━━━━━━━━━\u001b[0m\u001b[37m\u001b[0m \u001b[1m17s\u001b[0m 2ms/step - accuracy: 0.8984 - loss: 0.1991 - val_accuracy: 0.8851 - val_loss: 0.2185\n",
      "Epoch 32/50\n",
      "\u001b[1m8196/8196\u001b[0m \u001b[32m━━━━━━━━━━━━━━━━━━━━\u001b[0m\u001b[37m\u001b[0m \u001b[1m17s\u001b[0m 2ms/step - accuracy: 0.9006 - loss: 0.1963 - val_accuracy: 0.8941 - val_loss: 0.2094\n",
      "Epoch 33/50\n",
      "\u001b[1m8196/8196\u001b[0m \u001b[32m━━━━━━━━━━━━━━━━━━━━\u001b[0m\u001b[37m\u001b[0m \u001b[1m18s\u001b[0m 2ms/step - accuracy: 0.8996 - loss: 0.1976 - val_accuracy: 0.8947 - val_loss: 0.2067\n",
      "Epoch 34/50\n",
      "\u001b[1m8196/8196\u001b[0m \u001b[32m━━━━━━━━━━━━━━━━━━━━\u001b[0m\u001b[37m\u001b[0m \u001b[1m17s\u001b[0m 2ms/step - accuracy: 0.8999 - loss: 0.2003 - val_accuracy: 0.8936 - val_loss: 0.2052\n",
      "Epoch 35/50\n",
      "\u001b[1m8196/8196\u001b[0m \u001b[32m━━━━━━━━━━━━━━━━━━━━\u001b[0m\u001b[37m\u001b[0m \u001b[1m17s\u001b[0m 2ms/step - accuracy: 0.8997 - loss: 0.1970 - val_accuracy: 0.8921 - val_loss: 0.2074\n",
      "Epoch 36/50\n",
      "\u001b[1m8196/8196\u001b[0m \u001b[32m━━━━━━━━━━━━━━━━━━━━\u001b[0m\u001b[37m\u001b[0m \u001b[1m17s\u001b[0m 2ms/step - accuracy: 0.9005 - loss: 0.1968 - val_accuracy: 0.8917 - val_loss: 0.2135\n",
      "Epoch 37/50\n",
      "\u001b[1m8196/8196\u001b[0m \u001b[32m━━━━━━━━━━━━━━━━━━━━\u001b[0m\u001b[37m\u001b[0m \u001b[1m17s\u001b[0m 2ms/step - accuracy: 0.9004 - loss: 0.1962 - val_accuracy: 0.8971 - val_loss: 0.2040\n",
      "Epoch 38/50\n",
      "\u001b[1m8196/8196\u001b[0m \u001b[32m━━━━━━━━━━━━━━━━━━━━\u001b[0m\u001b[37m\u001b[0m \u001b[1m17s\u001b[0m 2ms/step - accuracy: 0.9013 - loss: 0.1970 - val_accuracy: 0.8924 - val_loss: 0.2063\n",
      "Epoch 39/50\n",
      "\u001b[1m8196/8196\u001b[0m \u001b[32m━━━━━━━━━━━━━━━━━━━━\u001b[0m\u001b[37m\u001b[0m \u001b[1m17s\u001b[0m 2ms/step - accuracy: 0.9006 - loss: 0.1963 - val_accuracy: 0.8894 - val_loss: 0.2104\n",
      "Epoch 40/50\n",
      "\u001b[1m8196/8196\u001b[0m \u001b[32m━━━━━━━━━━━━━━━━━━━━\u001b[0m\u001b[37m\u001b[0m \u001b[1m17s\u001b[0m 2ms/step - accuracy: 0.8994 - loss: 0.1959 - val_accuracy: 0.8941 - val_loss: 0.2032\n",
      "Epoch 41/50\n",
      "\u001b[1m8196/8196\u001b[0m \u001b[32m━━━━━━━━━━━━━━━━━━━━\u001b[0m\u001b[37m\u001b[0m \u001b[1m17s\u001b[0m 2ms/step - accuracy: 0.9027 - loss: 0.1936 - val_accuracy: 0.8911 - val_loss: 0.2078\n",
      "Epoch 42/50\n",
      "\u001b[1m8196/8196\u001b[0m \u001b[32m━━━━━━━━━━━━━━━━━━━━\u001b[0m\u001b[37m\u001b[0m \u001b[1m17s\u001b[0m 2ms/step - accuracy: 0.8987 - loss: 0.1981 - val_accuracy: 0.8939 - val_loss: 0.2092\n",
      "Epoch 43/50\n",
      "\u001b[1m8196/8196\u001b[0m \u001b[32m━━━━━━━━━━━━━━━━━━━━\u001b[0m\u001b[37m\u001b[0m \u001b[1m17s\u001b[0m 2ms/step - accuracy: 0.8996 - loss: 0.1961 - val_accuracy: 0.8952 - val_loss: 0.2089\n",
      "Epoch 44/50\n",
      "\u001b[1m8196/8196\u001b[0m \u001b[32m━━━━━━━━━━━━━━━━━━━━\u001b[0m\u001b[37m\u001b[0m \u001b[1m17s\u001b[0m 2ms/step - accuracy: 0.9004 - loss: 0.1965 - val_accuracy: 0.8955 - val_loss: 0.2041\n",
      "Epoch 45/50\n",
      "\u001b[1m8196/8196\u001b[0m \u001b[32m━━━━━━━━━━━━━━━━━━━━\u001b[0m\u001b[37m\u001b[0m \u001b[1m18s\u001b[0m 2ms/step - accuracy: 0.9027 - loss: 0.1918 - val_accuracy: 0.8959 - val_loss: 0.2047\n",
      "Epoch 46/50\n",
      "\u001b[1m8196/8196\u001b[0m \u001b[32m━━━━━━━━━━━━━━━━━━━━\u001b[0m\u001b[37m\u001b[0m \u001b[1m18s\u001b[0m 2ms/step - accuracy: 0.9008 - loss: 0.1953 - val_accuracy: 0.8932 - val_loss: 0.2086\n",
      "Epoch 47/50\n",
      "\u001b[1m8196/8196\u001b[0m \u001b[32m━━━━━━━━━━━━━━━━━━━━\u001b[0m\u001b[37m\u001b[0m \u001b[1m17s\u001b[0m 2ms/step - accuracy: 0.9028 - loss: 0.1918 - val_accuracy: 0.8961 - val_loss: 0.2077\n",
      "Epoch 48/50\n",
      "\u001b[1m8196/8196\u001b[0m \u001b[32m━━━━━━━━━━━━━━━━━━━━\u001b[0m\u001b[37m\u001b[0m \u001b[1m18s\u001b[0m 2ms/step - accuracy: 0.9009 - loss: 0.1950 - val_accuracy: 0.8916 - val_loss: 0.2088\n",
      "Epoch 49/50\n",
      "\u001b[1m8196/8196\u001b[0m \u001b[32m━━━━━━━━━━━━━━━━━━━━\u001b[0m\u001b[37m\u001b[0m \u001b[1m18s\u001b[0m 2ms/step - accuracy: 0.9010 - loss: 0.1949 - val_accuracy: 0.8912 - val_loss: 0.2116\n",
      "Epoch 50/50\n",
      "\u001b[1m8196/8196\u001b[0m \u001b[32m━━━━━━━━━━━━━━━━━━━━\u001b[0m\u001b[37m\u001b[0m \u001b[1m18s\u001b[0m 2ms/step - accuracy: 0.9036 - loss: 0.1919 - val_accuracy: 0.8944 - val_loss: 0.2142\n"
     ]
    },
    {
     "data": {
      "text/plain": [
       "<keras.src.callbacks.history.History at 0x7c5e0ff7c670>"
      ]
     },
     "execution_count": 11,
     "metadata": {},
     "output_type": "execute_result"
    }
   ],
   "source": [
    "model.fit(X_train, y_train_encoded, epochs=50, batch_size=10, validation_split=0.2)"
   ]
  },
  {
   "cell_type": "code",
   "execution_count": null,
   "id": "8d3129a6",
   "metadata": {
    "papermill": {
     "duration": 1.545302,
     "end_time": "2024-09-24T16:10:48.047346",
     "exception": false,
     "start_time": "2024-09-24T16:10:46.502044",
     "status": "completed"
    },
    "tags": []
   },
   "outputs": [],
   "source": []
  }
 ],
 "metadata": {
  "kaggle": {
   "accelerator": "none",
   "dataSources": [
    {
     "datasetId": 5622628,
     "sourceId": 9392095,
     "sourceType": "datasetVersion"
    }
   ],
   "dockerImageVersionId": 30775,
   "isGpuEnabled": false,
   "isInternetEnabled": true,
   "language": "python",
   "sourceType": "notebook"
  },
  "kernelspec": {
   "display_name": "Python 3",
   "language": "python",
   "name": "python3"
  },
  "language_info": {
   "codemirror_mode": {
    "name": "ipython",
    "version": 3
   },
   "file_extension": ".py",
   "mimetype": "text/x-python",
   "name": "python",
   "nbconvert_exporter": "python",
   "pygments_lexer": "ipython3",
   "version": "3.10.14"
  },
  "papermill": {
   "default_parameters": {},
   "duration": 894.446338,
   "end_time": "2024-09-24T16:10:52.350904",
   "environment_variables": {},
   "exception": null,
   "input_path": "__notebook__.ipynb",
   "output_path": "__notebook__.ipynb",
   "parameters": {},
   "start_time": "2024-09-24T15:55:57.904566",
   "version": "2.6.0"
  }
 },
 "nbformat": 4,
 "nbformat_minor": 5
}
