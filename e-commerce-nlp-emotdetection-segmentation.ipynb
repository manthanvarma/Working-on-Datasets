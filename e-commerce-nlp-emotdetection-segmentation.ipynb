{
 "cells": [
  {
   "cell_type": "code",
   "execution_count": 1,
   "id": "8d4086b1",
   "metadata": {
    "execution": {
     "iopub.execute_input": "2024-09-19T09:09:17.984963Z",
     "iopub.status.busy": "2024-09-19T09:09:17.984447Z",
     "iopub.status.idle": "2024-09-19T09:09:46.644530Z",
     "shell.execute_reply": "2024-09-19T09:09:46.642944Z"
    },
    "papermill": {
     "duration": 28.686542,
     "end_time": "2024-09-19T09:09:46.648150",
     "exception": false,
     "start_time": "2024-09-19T09:09:17.961608",
     "status": "completed"
    },
    "tags": []
   },
   "outputs": [],
   "source": [
    "import pandas as pd\n",
    "import numpy as np\n",
    "import re\n",
    "import string\n",
    "import json\n",
    "from textblob import TextBlob\n",
    "import matplotlib.pyplot as plt\n",
    "import seaborn as sns\n",
    "from transformers import pipeline\n",
    "from sklearn.preprocessing import StandardScaler, LabelEncoder\n",
    "from sklearn.cluster import KMeans\n",
    "from collections import Counter\n",
    "from wordcloud import WordCloud"
   ]
  },
  {
   "cell_type": "code",
   "execution_count": 2,
   "id": "df037595",
   "metadata": {
    "_cell_guid": "b1076dfc-b9ad-4769-8c92-a6c4dae69d19",
    "_uuid": "8f2839f25d086af736a60e9eeb907d3b93b6e0e5",
    "execution": {
     "iopub.execute_input": "2024-09-19T09:09:46.692306Z",
     "iopub.status.busy": "2024-09-19T09:09:46.690524Z",
     "iopub.status.idle": "2024-09-19T09:09:46.713429Z",
     "shell.execute_reply": "2024-09-19T09:09:46.712177Z"
    },
    "papermill": {
     "duration": 0.045942,
     "end_time": "2024-09-19T09:09:46.716431",
     "exception": false,
     "start_time": "2024-09-19T09:09:46.670489",
     "status": "completed"
    },
    "tags": []
   },
   "outputs": [],
   "source": [
    "df = pd.read_csv('/kaggle/input/e-commerce-customer-behavior-dataset/E-commerce.csv')"
   ]
  },
  {
   "cell_type": "code",
   "execution_count": 3,
   "id": "e7a30847",
   "metadata": {
    "execution": {
     "iopub.execute_input": "2024-09-19T09:09:46.754768Z",
     "iopub.status.busy": "2024-09-19T09:09:46.753873Z",
     "iopub.status.idle": "2024-09-19T09:09:46.785782Z",
     "shell.execute_reply": "2024-09-19T09:09:46.784466Z"
    },
    "papermill": {
     "duration": 0.054404,
     "end_time": "2024-09-19T09:09:46.788793",
     "exception": false,
     "start_time": "2024-09-19T09:09:46.734389",
     "status": "completed"
    },
    "tags": []
   },
   "outputs": [
    {
     "data": {
      "text/html": [
       "<div>\n",
       "<style scoped>\n",
       "    .dataframe tbody tr th:only-of-type {\n",
       "        vertical-align: middle;\n",
       "    }\n",
       "\n",
       "    .dataframe tbody tr th {\n",
       "        vertical-align: top;\n",
       "    }\n",
       "\n",
       "    .dataframe thead th {\n",
       "        text-align: right;\n",
       "    }\n",
       "</style>\n",
       "<table border=\"1\" class=\"dataframe\">\n",
       "  <thead>\n",
       "    <tr style=\"text-align: right;\">\n",
       "      <th></th>\n",
       "      <th>Customer ID</th>\n",
       "      <th>Age</th>\n",
       "      <th>Gender</th>\n",
       "      <th>Location</th>\n",
       "      <th>Annual Income</th>\n",
       "      <th>Purchase History</th>\n",
       "      <th>Browsing History</th>\n",
       "      <th>Product Reviews</th>\n",
       "      <th>Time on Site</th>\n",
       "    </tr>\n",
       "  </thead>\n",
       "  <tbody>\n",
       "    <tr>\n",
       "      <th>0</th>\n",
       "      <td>1001</td>\n",
       "      <td>25</td>\n",
       "      <td>Female</td>\n",
       "      <td>City D</td>\n",
       "      <td>45000</td>\n",
       "      <td>[{\"Date\": \"2022-03-05\", \"Category\": \"Clothing\"...</td>\n",
       "      <td>[{\"Timestamp\": \"2022-03-10T14:30:00Z\"}, {\"Time...</td>\n",
       "      <td>Great pair of jeans, very comfortable. Rating:...</td>\n",
       "      <td>32.50</td>\n",
       "    </tr>\n",
       "    <tr>\n",
       "      <th>1</th>\n",
       "      <td>1001</td>\n",
       "      <td>28</td>\n",
       "      <td>Female</td>\n",
       "      <td>City D</td>\n",
       "      <td>52000</td>\n",
       "      <td>[{\"Product Category\": \"Clothing\", \"Purchase Da...</td>\n",
       "      <td>[{\"Product Category\": \"Home &amp; Garden\", \"Timest...</td>\n",
       "      <td>Great customer service!</td>\n",
       "      <td>123.45</td>\n",
       "    </tr>\n",
       "    <tr>\n",
       "      <th>2</th>\n",
       "      <td>1001</td>\n",
       "      <td>28</td>\n",
       "      <td>Female</td>\n",
       "      <td>City D</td>\n",
       "      <td>65000</td>\n",
       "      <td>[{\"Product Category\": \"Electronics\", \"Purchase...</td>\n",
       "      <td>[{\"Product Category\": \"Clothing\", \"Timestamp\":...</td>\n",
       "      <td>Great electronics. The sound quality is excell...</td>\n",
       "      <td>125.60</td>\n",
       "    </tr>\n",
       "    <tr>\n",
       "      <th>3</th>\n",
       "      <td>1001</td>\n",
       "      <td>45</td>\n",
       "      <td>Female</td>\n",
       "      <td>City D</td>\n",
       "      <td>70000</td>\n",
       "      <td>{'Purchase Date': '2022-08-15', 'Product Categ...</td>\n",
       "      <td>{'Timestamp': '2022-09-03 14:30:00'}</td>\n",
       "      <td>{\"Product 1\": {\"Rating\": 4, \"Review\": \"Great e...</td>\n",
       "      <td>327.60</td>\n",
       "    </tr>\n",
       "    <tr>\n",
       "      <th>4</th>\n",
       "      <td>1002</td>\n",
       "      <td>34</td>\n",
       "      <td>Male</td>\n",
       "      <td>City E</td>\n",
       "      <td>45000</td>\n",
       "      <td>{'Purchase Date': '2022-07-25', 'Product Categ...</td>\n",
       "      <td>{'Timestamp': '2022-08-10 17:15:00'}</td>\n",
       "      <td>{\"Product 1\": {\"Rating\": 3, \"Review\": \"Good pr...</td>\n",
       "      <td>214.90</td>\n",
       "    </tr>\n",
       "  </tbody>\n",
       "</table>\n",
       "</div>"
      ],
      "text/plain": [
       "   Customer ID  Age  Gender Location  Annual Income  \\\n",
       "0         1001   25  Female   City D          45000   \n",
       "1         1001   28  Female   City D          52000   \n",
       "2         1001   28  Female   City D          65000   \n",
       "3         1001   45  Female   City D          70000   \n",
       "4         1002   34    Male   City E          45000   \n",
       "\n",
       "                                    Purchase History  \\\n",
       "0  [{\"Date\": \"2022-03-05\", \"Category\": \"Clothing\"...   \n",
       "1  [{\"Product Category\": \"Clothing\", \"Purchase Da...   \n",
       "2  [{\"Product Category\": \"Electronics\", \"Purchase...   \n",
       "3  {'Purchase Date': '2022-08-15', 'Product Categ...   \n",
       "4  {'Purchase Date': '2022-07-25', 'Product Categ...   \n",
       "\n",
       "                                    Browsing History  \\\n",
       "0  [{\"Timestamp\": \"2022-03-10T14:30:00Z\"}, {\"Time...   \n",
       "1  [{\"Product Category\": \"Home & Garden\", \"Timest...   \n",
       "2  [{\"Product Category\": \"Clothing\", \"Timestamp\":...   \n",
       "3               {'Timestamp': '2022-09-03 14:30:00'}   \n",
       "4               {'Timestamp': '2022-08-10 17:15:00'}   \n",
       "\n",
       "                                     Product Reviews  Time on Site  \n",
       "0  Great pair of jeans, very comfortable. Rating:...         32.50  \n",
       "1                            Great customer service!        123.45  \n",
       "2  Great electronics. The sound quality is excell...        125.60  \n",
       "3  {\"Product 1\": {\"Rating\": 4, \"Review\": \"Great e...        327.60  \n",
       "4  {\"Product 1\": {\"Rating\": 3, \"Review\": \"Good pr...        214.90  "
      ]
     },
     "execution_count": 3,
     "metadata": {},
     "output_type": "execute_result"
    }
   ],
   "source": [
    "df.head()"
   ]
  },
  {
   "cell_type": "code",
   "execution_count": 4,
   "id": "8b8f65af",
   "metadata": {
    "execution": {
     "iopub.execute_input": "2024-09-19T09:09:46.829296Z",
     "iopub.status.busy": "2024-09-19T09:09:46.828173Z",
     "iopub.status.idle": "2024-09-19T09:09:46.836318Z",
     "shell.execute_reply": "2024-09-19T09:09:46.835139Z"
    },
    "papermill": {
     "duration": 0.031323,
     "end_time": "2024-09-19T09:09:46.839696",
     "exception": false,
     "start_time": "2024-09-19T09:09:46.808373",
     "status": "completed"
    },
    "tags": []
   },
   "outputs": [
    {
     "data": {
      "text/plain": [
       "(50, 9)"
      ]
     },
     "execution_count": 4,
     "metadata": {},
     "output_type": "execute_result"
    }
   ],
   "source": [
    "df.shape"
   ]
  },
  {
   "cell_type": "code",
   "execution_count": 5,
   "id": "dd0794f1",
   "metadata": {
    "execution": {
     "iopub.execute_input": "2024-09-19T09:09:46.884844Z",
     "iopub.status.busy": "2024-09-19T09:09:46.883622Z",
     "iopub.status.idle": "2024-09-19T09:09:46.898748Z",
     "shell.execute_reply": "2024-09-19T09:09:46.897466Z"
    },
    "papermill": {
     "duration": 0.038393,
     "end_time": "2024-09-19T09:09:46.901530",
     "exception": false,
     "start_time": "2024-09-19T09:09:46.863137",
     "status": "completed"
    },
    "tags": []
   },
   "outputs": [
    {
     "data": {
      "text/plain": [
       "Customer ID         0\n",
       "Age                 0\n",
       "Gender              0\n",
       "Location            0\n",
       "Annual Income       0\n",
       "Purchase History    0\n",
       "Browsing History    0\n",
       "Product Reviews     0\n",
       "Time on Site        0\n",
       "dtype: int64"
      ]
     },
     "execution_count": 5,
     "metadata": {},
     "output_type": "execute_result"
    }
   ],
   "source": [
    "df.isnull().sum()"
   ]
  },
  {
   "cell_type": "code",
   "execution_count": 6,
   "id": "e1a82d2a",
   "metadata": {
    "execution": {
     "iopub.execute_input": "2024-09-19T09:09:46.942389Z",
     "iopub.status.busy": "2024-09-19T09:09:46.941158Z",
     "iopub.status.idle": "2024-09-19T09:09:46.955000Z",
     "shell.execute_reply": "2024-09-19T09:09:46.953610Z"
    },
    "papermill": {
     "duration": 0.037165,
     "end_time": "2024-09-19T09:09:46.957936",
     "exception": false,
     "start_time": "2024-09-19T09:09:46.920771",
     "status": "completed"
    },
    "tags": []
   },
   "outputs": [],
   "source": [
    "# text cleaning\n",
    "\n",
    "def clean_text(text):\n",
    "    text = text.translate(str.maketrans('', '', string.punctuation))\n",
    "    text = re.sub(r'\\d+', '', text)\n",
    "    text = re.sub(r'product\\s+rating\\s+review', '', text, flags=re.IGNORECASE)\n",
    "    text = re.sub(r'review\\s+text', '', text, flags=re.IGNORECASE)\n",
    "    text = text.lower()\n",
    "    text = text.strip()\n",
    "    return text\n",
    "\n",
    "df['Cleaned_Reviews'] = df['Product Reviews'].apply(clean_text)"
   ]
  },
  {
   "cell_type": "code",
   "execution_count": 7,
   "id": "2c192380",
   "metadata": {
    "execution": {
     "iopub.execute_input": "2024-09-19T09:09:47.011983Z",
     "iopub.status.busy": "2024-09-19T09:09:47.011341Z",
     "iopub.status.idle": "2024-09-19T09:09:47.033051Z",
     "shell.execute_reply": "2024-09-19T09:09:47.031750Z"
    },
    "papermill": {
     "duration": 0.059657,
     "end_time": "2024-09-19T09:09:47.036296",
     "exception": false,
     "start_time": "2024-09-19T09:09:46.976639",
     "status": "completed"
    },
    "tags": []
   },
   "outputs": [
    {
     "data": {
      "text/html": [
       "<div>\n",
       "<style scoped>\n",
       "    .dataframe tbody tr th:only-of-type {\n",
       "        vertical-align: middle;\n",
       "    }\n",
       "\n",
       "    .dataframe tbody tr th {\n",
       "        vertical-align: top;\n",
       "    }\n",
       "\n",
       "    .dataframe thead th {\n",
       "        text-align: right;\n",
       "    }\n",
       "</style>\n",
       "<table border=\"1\" class=\"dataframe\">\n",
       "  <thead>\n",
       "    <tr style=\"text-align: right;\">\n",
       "      <th></th>\n",
       "      <th>Customer ID</th>\n",
       "      <th>Age</th>\n",
       "      <th>Gender</th>\n",
       "      <th>Location</th>\n",
       "      <th>Annual Income</th>\n",
       "      <th>Purchase History</th>\n",
       "      <th>Browsing History</th>\n",
       "      <th>Product Reviews</th>\n",
       "      <th>Time on Site</th>\n",
       "      <th>Cleaned_Reviews</th>\n",
       "    </tr>\n",
       "  </thead>\n",
       "  <tbody>\n",
       "    <tr>\n",
       "      <th>0</th>\n",
       "      <td>1001</td>\n",
       "      <td>25</td>\n",
       "      <td>Female</td>\n",
       "      <td>City D</td>\n",
       "      <td>45000</td>\n",
       "      <td>[{\"Date\": \"2022-03-05\", \"Category\": \"Clothing\"...</td>\n",
       "      <td>[{\"Timestamp\": \"2022-03-10T14:30:00Z\"}, {\"Time...</td>\n",
       "      <td>Great pair of jeans, very comfortable. Rating:...</td>\n",
       "      <td>32.50</td>\n",
       "      <td>great pair of jeans very comfortable rating  s...</td>\n",
       "    </tr>\n",
       "    <tr>\n",
       "      <th>1</th>\n",
       "      <td>1001</td>\n",
       "      <td>28</td>\n",
       "      <td>Female</td>\n",
       "      <td>City D</td>\n",
       "      <td>52000</td>\n",
       "      <td>[{\"Product Category\": \"Clothing\", \"Purchase Da...</td>\n",
       "      <td>[{\"Product Category\": \"Home &amp; Garden\", \"Timest...</td>\n",
       "      <td>Great customer service!</td>\n",
       "      <td>123.45</td>\n",
       "      <td>great customer service</td>\n",
       "    </tr>\n",
       "    <tr>\n",
       "      <th>2</th>\n",
       "      <td>1001</td>\n",
       "      <td>28</td>\n",
       "      <td>Female</td>\n",
       "      <td>City D</td>\n",
       "      <td>65000</td>\n",
       "      <td>[{\"Product Category\": \"Electronics\", \"Purchase...</td>\n",
       "      <td>[{\"Product Category\": \"Clothing\", \"Timestamp\":...</td>\n",
       "      <td>Great electronics. The sound quality is excell...</td>\n",
       "      <td>125.60</td>\n",
       "      <td>great electronics the sound quality is excelle...</td>\n",
       "    </tr>\n",
       "    <tr>\n",
       "      <th>3</th>\n",
       "      <td>1001</td>\n",
       "      <td>45</td>\n",
       "      <td>Female</td>\n",
       "      <td>City D</td>\n",
       "      <td>70000</td>\n",
       "      <td>{'Purchase Date': '2022-08-15', 'Product Categ...</td>\n",
       "      <td>{'Timestamp': '2022-09-03 14:30:00'}</td>\n",
       "      <td>{\"Product 1\": {\"Rating\": 4, \"Review\": \"Great e...</td>\n",
       "      <td>327.60</td>\n",
       "      <td>great experience buying this product fast deli...</td>\n",
       "    </tr>\n",
       "    <tr>\n",
       "      <th>4</th>\n",
       "      <td>1002</td>\n",
       "      <td>34</td>\n",
       "      <td>Male</td>\n",
       "      <td>City E</td>\n",
       "      <td>45000</td>\n",
       "      <td>{'Purchase Date': '2022-07-25', 'Product Categ...</td>\n",
       "      <td>{'Timestamp': '2022-08-10 17:15:00'}</td>\n",
       "      <td>{\"Product 1\": {\"Rating\": 3, \"Review\": \"Good pr...</td>\n",
       "      <td>214.90</td>\n",
       "      <td>good product but could have been better</td>\n",
       "    </tr>\n",
       "  </tbody>\n",
       "</table>\n",
       "</div>"
      ],
      "text/plain": [
       "   Customer ID  Age  Gender Location  Annual Income  \\\n",
       "0         1001   25  Female   City D          45000   \n",
       "1         1001   28  Female   City D          52000   \n",
       "2         1001   28  Female   City D          65000   \n",
       "3         1001   45  Female   City D          70000   \n",
       "4         1002   34    Male   City E          45000   \n",
       "\n",
       "                                    Purchase History  \\\n",
       "0  [{\"Date\": \"2022-03-05\", \"Category\": \"Clothing\"...   \n",
       "1  [{\"Product Category\": \"Clothing\", \"Purchase Da...   \n",
       "2  [{\"Product Category\": \"Electronics\", \"Purchase...   \n",
       "3  {'Purchase Date': '2022-08-15', 'Product Categ...   \n",
       "4  {'Purchase Date': '2022-07-25', 'Product Categ...   \n",
       "\n",
       "                                    Browsing History  \\\n",
       "0  [{\"Timestamp\": \"2022-03-10T14:30:00Z\"}, {\"Time...   \n",
       "1  [{\"Product Category\": \"Home & Garden\", \"Timest...   \n",
       "2  [{\"Product Category\": \"Clothing\", \"Timestamp\":...   \n",
       "3               {'Timestamp': '2022-09-03 14:30:00'}   \n",
       "4               {'Timestamp': '2022-08-10 17:15:00'}   \n",
       "\n",
       "                                     Product Reviews  Time on Site  \\\n",
       "0  Great pair of jeans, very comfortable. Rating:...         32.50   \n",
       "1                            Great customer service!        123.45   \n",
       "2  Great electronics. The sound quality is excell...        125.60   \n",
       "3  {\"Product 1\": {\"Rating\": 4, \"Review\": \"Great e...        327.60   \n",
       "4  {\"Product 1\": {\"Rating\": 3, \"Review\": \"Good pr...        214.90   \n",
       "\n",
       "                                     Cleaned_Reviews  \n",
       "0  great pair of jeans very comfortable rating  s...  \n",
       "1                             great customer service  \n",
       "2  great electronics the sound quality is excelle...  \n",
       "3  great experience buying this product fast deli...  \n",
       "4            good product but could have been better  "
      ]
     },
     "execution_count": 7,
     "metadata": {},
     "output_type": "execute_result"
    }
   ],
   "source": [
    "df.head()"
   ]
  },
  {
   "cell_type": "code",
   "execution_count": 8,
   "id": "36e82181",
   "metadata": {
    "execution": {
     "iopub.execute_input": "2024-09-19T09:09:47.081230Z",
     "iopub.status.busy": "2024-09-19T09:09:47.080611Z",
     "iopub.status.idle": "2024-09-19T09:09:47.173496Z",
     "shell.execute_reply": "2024-09-19T09:09:47.172159Z"
    },
    "papermill": {
     "duration": 0.11859,
     "end_time": "2024-09-19T09:09:47.177402",
     "exception": false,
     "start_time": "2024-09-19T09:09:47.058812",
     "status": "completed"
    },
    "tags": []
   },
   "outputs": [],
   "source": [
    "def get_sentiment_textblob(text):\n",
    "    blob = TextBlob(text)\n",
    "    polarity = blob.sentiment.polarity\n",
    "    if polarity > 0:\n",
    "        return 'Positive'\n",
    "    elif polarity < 0:\n",
    "        return 'Negative'\n",
    "    else:\n",
    "        return 'Neutral'\n",
    "    \n",
    "df['Sentiment_Textblob'] = df['Cleaned_Reviews'].apply(get_sentiment_textblob)"
   ]
  },
  {
   "cell_type": "code",
   "execution_count": 9,
   "id": "5b537f24",
   "metadata": {
    "execution": {
     "iopub.execute_input": "2024-09-19T09:09:47.223423Z",
     "iopub.status.busy": "2024-09-19T09:09:47.222174Z",
     "iopub.status.idle": "2024-09-19T09:09:47.549146Z",
     "shell.execute_reply": "2024-09-19T09:09:47.547876Z"
    },
    "papermill": {
     "duration": 0.351384,
     "end_time": "2024-09-19T09:09:47.552085",
     "exception": false,
     "start_time": "2024-09-19T09:09:47.200701",
     "status": "completed"
    },
    "tags": []
   },
   "outputs": [
    {
     "data": {
      "image/png": "[encoded data removed]",
      "text/plain": [
       "<Figure size 800x600 with 1 Axes>"
      ]
     },
     "metadata": {},
     "output_type": "display_data"
    }
   ],
   "source": [
    "plt.figure(figsize=(8,6))\n",
    "sns.countplot(x='Sentiment_Textblob', data=df)\n",
    "plt.title('Sentiment Distribution')\n",
    "plt.xlabel('Sentiment')\n",
    "plt.ylabel('Number of Reviews')\n",
    "plt.show()"
   ]
  },
  {
   "cell_type": "code",
   "execution_count": 10,
   "id": "e0e8bb31",
   "metadata": {
    "execution": {
     "iopub.execute_input": "2024-09-19T09:09:47.594354Z",
     "iopub.status.busy": "2024-09-19T09:09:47.593815Z",
     "iopub.status.idle": "2024-09-19T09:09:53.808456Z",
     "shell.execute_reply": "2024-09-19T09:09:53.807009Z"
    },
    "papermill": {
     "duration": 6.24072,
     "end_time": "2024-09-19T09:09:53.812387",
     "exception": false,
     "start_time": "2024-09-19T09:09:47.571667",
     "status": "completed"
    },
    "tags": []
   },
   "outputs": [
    {
     "name": "stderr",
     "output_type": "stream",
     "text": [
      "No model was supplied, defaulted to distilbert/distilbert-base-uncased-finetuned-sst-2-english and revision af0f99b (https://huggingface.co/distilbert/distilbert-base-uncased-finetuned-sst-2-english).\n",
      "Using a pipeline without specifying a model name and revision in production is not recommended.\n"
     ]
    },
    {
     "data": {
      "application/vnd.jupyter.widget-view+json": {
       "model_id": "7ed138c6f1b4423abb1c790aefd9ed76",
       "version_major": 2,
       "version_minor": 0
      },
      "text/plain": [
       "config.json:   0%|          | 0.00/629 [00:00<?, ?B/s]"
      ]
     },
     "metadata": {},
     "output_type": "display_data"
    },
    {
     "data": {
      "application/vnd.jupyter.widget-view+json": {
       "model_id": "5ad9abcd44424b109125ca247a0642b9",
       "version_major": 2,
       "version_minor": 0
      },
      "text/plain": [
       "model.safetensors:   0%|          | 0.00/268M [00:00<?, ?B/s]"
      ]
     },
     "metadata": {},
     "output_type": "display_data"
    },
    {
     "data": {
      "application/vnd.jupyter.widget-view+json": {
       "model_id": "57bf5e1d9dba4d4eb98752fbe8a4ce0d",
       "version_major": 2,
       "version_minor": 0
      },
      "text/plain": [
       "tokenizer_config.json:   0%|          | 0.00/48.0 [00:00<?, ?B/s]"
      ]
     },
     "metadata": {},
     "output_type": "display_data"
    },
    {
     "data": {
      "application/vnd.jupyter.widget-view+json": {
       "model_id": "cc934c82c8ae475a96195934ce1a57c9",
       "version_major": 2,
       "version_minor": 0
      },
      "text/plain": [
       "vocab.txt:   0%|          | 0.00/232k [00:00<?, ?B/s]"
      ]
     },
     "metadata": {},
     "output_type": "display_data"
    },
    {
     "name": "stderr",
     "output_type": "stream",
     "text": [
      "/opt/conda/lib/python3.10/site-packages/transformers/tokenization_utils_base.py:1601: FutureWarning: `clean_up_tokenization_spaces` was not set. It will be set to `True` by default. This behavior will be depracted in transformers v4.45, and will be then set to `False` by default. For more details check this issue: https://github.com/huggingface/transformers/issues/31884\n",
      "  warnings.warn(\n"
     ]
    }
   ],
   "source": [
    "sentiment_pipeline = pipeline('sentiment-analysis')\n",
    "\n",
    "def get_sentiment_transformers(text):\n",
    "    result = sentiment_pipeline(text[:512])\n",
    "    return result[0]['label']\n",
    "\n",
    "df['Sentiment_BERT'] = df['Cleaned_Reviews'].apply(get_sentiment_transformers)"
   ]
  },
  {
   "cell_type": "code",
   "execution_count": 11,
   "id": "4c8d534c",
   "metadata": {
    "execution": {
     "iopub.execute_input": "2024-09-19T09:09:53.856081Z",
     "iopub.status.busy": "2024-09-19T09:09:53.855260Z",
     "iopub.status.idle": "2024-09-19T09:09:54.122394Z",
     "shell.execute_reply": "2024-09-19T09:09:54.120290Z"
    },
    "papermill": {
     "duration": 0.291901,
     "end_time": "2024-09-19T09:09:54.125332",
     "exception": false,
     "start_time": "2024-09-19T09:09:53.833431",
     "status": "completed"
    },
    "tags": []
   },
   "outputs": [
    {
     "data": {
      "image/png": "[encoded data removed]",
      "text/plain": [
       "<Figure size 800x600 with 1 Axes>"
      ]
     },
     "metadata": {},
     "output_type": "display_data"
    }
   ],
   "source": [
    "plt.figure(figsize=(8,6))\n",
    "sns.countplot(x='Sentiment_BERT', data=df)\n",
    "plt.title('Sentiment Distribution')\n",
    "plt.xlabel('Sentiment')\n",
    "plt.ylabel('Number of Reviews')\n",
    "plt.show()"
   ]
  },
  {
   "cell_type": "code",
   "execution_count": 12,
   "id": "0203cbcc",
   "metadata": {
    "execution": {
     "iopub.execute_input": "2024-09-19T09:09:54.173191Z",
     "iopub.status.busy": "2024-09-19T09:09:54.172659Z",
     "iopub.status.idle": "2024-09-19T09:09:54.180073Z",
     "shell.execute_reply": "2024-09-19T09:09:54.178276Z"
    },
    "papermill": {
     "duration": 0.034179,
     "end_time": "2024-09-19T09:09:54.183100",
     "exception": false,
     "start_time": "2024-09-19T09:09:54.148921",
     "status": "completed"
    },
    "tags": []
   },
   "outputs": [],
   "source": [
    "# customer segmentation\n",
    "\n",
    "le_gender = LabelEncoder()\n",
    "le_location = LabelEncoder()"
   ]
  },
  {
   "cell_type": "code",
   "execution_count": 13,
   "id": "40a4c31a",
   "metadata": {
    "execution": {
     "iopub.execute_input": "2024-09-19T09:09:54.227352Z",
     "iopub.status.busy": "2024-09-19T09:09:54.226876Z",
     "iopub.status.idle": "2024-09-19T09:09:54.235426Z",
     "shell.execute_reply": "2024-09-19T09:09:54.234058Z"
    },
    "papermill": {
     "duration": 0.034448,
     "end_time": "2024-09-19T09:09:54.238261",
     "exception": false,
     "start_time": "2024-09-19T09:09:54.203813",
     "status": "completed"
    },
    "tags": []
   },
   "outputs": [],
   "source": [
    "df['Gender'] = le_gender.fit_transform(df['Gender'])\n",
    "df['Location'] = le_location.fit_transform(df['Location'])"
   ]
  },
  {
   "cell_type": "code",
   "execution_count": 14,
   "id": "ed0d0c9f",
   "metadata": {
    "execution": {
     "iopub.execute_input": "2024-09-19T09:09:54.283460Z",
     "iopub.status.busy": "2024-09-19T09:09:54.282964Z",
     "iopub.status.idle": "2024-09-19T09:09:54.298357Z",
     "shell.execute_reply": "2024-09-19T09:09:54.296969Z"
    },
    "papermill": {
     "duration": 0.041654,
     "end_time": "2024-09-19T09:09:54.300853",
     "exception": false,
     "start_time": "2024-09-19T09:09:54.259199",
     "status": "completed"
    },
    "tags": []
   },
   "outputs": [],
   "source": [
    "scaler = StandardScaler()\n",
    "df_scaled = scaler.fit_transform(df[['Age', 'Annual Income', 'Time on Site', 'Gender', 'Location']])"
   ]
  },
  {
   "cell_type": "code",
   "execution_count": 15,
   "id": "958d2c0a",
   "metadata": {
    "execution": {
     "iopub.execute_input": "2024-09-19T09:09:54.345557Z",
     "iopub.status.busy": "2024-09-19T09:09:54.345096Z",
     "iopub.status.idle": "2024-09-19T09:09:54.425612Z",
     "shell.execute_reply": "2024-09-19T09:09:54.424528Z"
    },
    "papermill": {
     "duration": 0.106458,
     "end_time": "2024-09-19T09:09:54.428733",
     "exception": false,
     "start_time": "2024-09-19T09:09:54.322275",
     "status": "completed"
    },
    "tags": []
   },
   "outputs": [
    {
     "name": "stderr",
     "output_type": "stream",
     "text": [
      "/opt/conda/lib/python3.10/site-packages/sklearn/cluster/_kmeans.py:870: FutureWarning: The default value of `n_init` will change from 10 to 'auto' in 1.4. Set the value of `n_init` explicitly to suppress the warning\n",
      "  warnings.warn(\n"
     ]
    }
   ],
   "source": [
    "kmeans = KMeans(n_clusters=2, random_state=42)\n",
    "kmeans.fit(df_scaled)\n",
    "df['Cluster'] = kmeans.labels_"
   ]
  },
  {
   "cell_type": "code",
   "execution_count": 16,
   "id": "8ed21d70",
   "metadata": {
    "execution": {
     "iopub.execute_input": "2024-09-19T09:09:54.477658Z",
     "iopub.status.busy": "2024-09-19T09:09:54.477156Z",
     "iopub.status.idle": "2024-09-19T09:09:54.486758Z",
     "shell.execute_reply": "2024-09-19T09:09:54.484755Z"
    },
    "papermill": {
     "duration": 0.038363,
     "end_time": "2024-09-19T09:09:54.490065",
     "exception": false,
     "start_time": "2024-09-19T09:09:54.451702",
     "status": "completed"
    },
    "tags": []
   },
   "outputs": [],
   "source": [
    "df[\"Cluster\"] = df[\"Cluster\"].replace(0, \"Value-Conscious, Low Engagement\")\n",
    "df[\"Cluster\"] = df[\"Cluster\"].replace(1, \"High-Income, High Engagement Shoppers\")"
   ]
  },
  {
   "cell_type": "code",
   "execution_count": 17,
   "id": "d65b6b8c",
   "metadata": {
    "execution": {
     "iopub.execute_input": "2024-09-19T09:09:54.537935Z",
     "iopub.status.busy": "2024-09-19T09:09:54.537432Z",
     "iopub.status.idle": "2024-09-19T09:09:54.545291Z",
     "shell.execute_reply": "2024-09-19T09:09:54.543490Z"
    },
    "papermill": {
     "duration": 0.036265,
     "end_time": "2024-09-19T09:09:54.549208",
     "exception": false,
     "start_time": "2024-09-19T09:09:54.512943",
     "status": "completed"
    },
    "tags": []
   },
   "outputs": [],
   "source": [
    "df.rename(columns={\"Cluster\": \"Customer Type\"}, inplace= True)"
   ]
  },
  {
   "cell_type": "code",
   "execution_count": 18,
   "id": "a5d999a0",
   "metadata": {
    "execution": {
     "iopub.execute_input": "2024-09-19T09:09:54.594992Z",
     "iopub.status.busy": "2024-09-19T09:09:54.594480Z",
     "iopub.status.idle": "2024-09-19T09:09:54.616036Z",
     "shell.execute_reply": "2024-09-19T09:09:54.614692Z"
    },
    "papermill": {
     "duration": 0.047671,
     "end_time": "2024-09-19T09:09:54.619048",
     "exception": false,
     "start_time": "2024-09-19T09:09:54.571377",
     "status": "completed"
    },
    "tags": []
   },
   "outputs": [
    {
     "data": {
      "text/html": [
       "<div>\n",
       "<style scoped>\n",
       "    .dataframe tbody tr th:only-of-type {\n",
       "        vertical-align: middle;\n",
       "    }\n",
       "\n",
       "    .dataframe tbody tr th {\n",
       "        vertical-align: top;\n",
       "    }\n",
       "\n",
       "    .dataframe thead th {\n",
       "        text-align: right;\n",
       "    }\n",
       "</style>\n",
       "<table border=\"1\" class=\"dataframe\">\n",
       "  <thead>\n",
       "    <tr style=\"text-align: right;\">\n",
       "      <th></th>\n",
       "      <th>Customer ID</th>\n",
       "      <th>Age</th>\n",
       "      <th>Gender</th>\n",
       "      <th>Location</th>\n",
       "      <th>Annual Income</th>\n",
       "      <th>Purchase History</th>\n",
       "      <th>Browsing History</th>\n",
       "      <th>Product Reviews</th>\n",
       "      <th>Time on Site</th>\n",
       "      <th>Cleaned_Reviews</th>\n",
       "      <th>Sentiment_Textblob</th>\n",
       "      <th>Sentiment_BERT</th>\n",
       "      <th>Customer Type</th>\n",
       "    </tr>\n",
       "  </thead>\n",
       "  <tbody>\n",
       "    <tr>\n",
       "      <th>0</th>\n",
       "      <td>1001</td>\n",
       "      <td>25</td>\n",
       "      <td>0</td>\n",
       "      <td>3</td>\n",
       "      <td>45000</td>\n",
       "      <td>[{\"Date\": \"2022-03-05\", \"Category\": \"Clothing\"...</td>\n",
       "      <td>[{\"Timestamp\": \"2022-03-10T14:30:00Z\"}, {\"Time...</td>\n",
       "      <td>Great pair of jeans, very comfortable. Rating:...</td>\n",
       "      <td>32.50</td>\n",
       "      <td>great pair of jeans very comfortable rating  s...</td>\n",
       "      <td>Positive</td>\n",
       "      <td>POSITIVE</td>\n",
       "      <td>Value-Conscious, Low Engagement</td>\n",
       "    </tr>\n",
       "    <tr>\n",
       "      <th>1</th>\n",
       "      <td>1001</td>\n",
       "      <td>28</td>\n",
       "      <td>0</td>\n",
       "      <td>3</td>\n",
       "      <td>52000</td>\n",
       "      <td>[{\"Product Category\": \"Clothing\", \"Purchase Da...</td>\n",
       "      <td>[{\"Product Category\": \"Home &amp; Garden\", \"Timest...</td>\n",
       "      <td>Great customer service!</td>\n",
       "      <td>123.45</td>\n",
       "      <td>great customer service</td>\n",
       "      <td>Positive</td>\n",
       "      <td>POSITIVE</td>\n",
       "      <td>Value-Conscious, Low Engagement</td>\n",
       "    </tr>\n",
       "    <tr>\n",
       "      <th>2</th>\n",
       "      <td>1001</td>\n",
       "      <td>28</td>\n",
       "      <td>0</td>\n",
       "      <td>3</td>\n",
       "      <td>65000</td>\n",
       "      <td>[{\"Product Category\": \"Electronics\", \"Purchase...</td>\n",
       "      <td>[{\"Product Category\": \"Clothing\", \"Timestamp\":...</td>\n",
       "      <td>Great electronics. The sound quality is excell...</td>\n",
       "      <td>125.60</td>\n",
       "      <td>great electronics the sound quality is excelle...</td>\n",
       "      <td>Positive</td>\n",
       "      <td>POSITIVE</td>\n",
       "      <td>Value-Conscious, Low Engagement</td>\n",
       "    </tr>\n",
       "    <tr>\n",
       "      <th>3</th>\n",
       "      <td>1001</td>\n",
       "      <td>45</td>\n",
       "      <td>0</td>\n",
       "      <td>3</td>\n",
       "      <td>70000</td>\n",
       "      <td>{'Purchase Date': '2022-08-15', 'Product Categ...</td>\n",
       "      <td>{'Timestamp': '2022-09-03 14:30:00'}</td>\n",
       "      <td>{\"Product 1\": {\"Rating\": 4, \"Review\": \"Great e...</td>\n",
       "      <td>327.60</td>\n",
       "      <td>great experience buying this product fast deli...</td>\n",
       "      <td>Positive</td>\n",
       "      <td>POSITIVE</td>\n",
       "      <td>High-Income, High Engagement Shoppers</td>\n",
       "    </tr>\n",
       "    <tr>\n",
       "      <th>4</th>\n",
       "      <td>1002</td>\n",
       "      <td>34</td>\n",
       "      <td>1</td>\n",
       "      <td>4</td>\n",
       "      <td>45000</td>\n",
       "      <td>{'Purchase Date': '2022-07-25', 'Product Categ...</td>\n",
       "      <td>{'Timestamp': '2022-08-10 17:15:00'}</td>\n",
       "      <td>{\"Product 1\": {\"Rating\": 3, \"Review\": \"Good pr...</td>\n",
       "      <td>214.90</td>\n",
       "      <td>good product but could have been better</td>\n",
       "      <td>Positive</td>\n",
       "      <td>POSITIVE</td>\n",
       "      <td>Value-Conscious, Low Engagement</td>\n",
       "    </tr>\n",
       "  </tbody>\n",
       "</table>\n",
       "</div>"
      ],
      "text/plain": [
       "   Customer ID  Age  Gender  Location  Annual Income  \\\n",
       "0         1001   25       0         3          45000   \n",
       "1         1001   28       0         3          52000   \n",
       "2         1001   28       0         3          65000   \n",
       "3         1001   45       0         3          70000   \n",
       "4         1002   34       1         4          45000   \n",
       "\n",
       "                                    Purchase History  \\\n",
       "0  [{\"Date\": \"2022-03-05\", \"Category\": \"Clothing\"...   \n",
       "1  [{\"Product Category\": \"Clothing\", \"Purchase Da...   \n",
       "2  [{\"Product Category\": \"Electronics\", \"Purchase...   \n",
       "3  {'Purchase Date': '2022-08-15', 'Product Categ...   \n",
       "4  {'Purchase Date': '2022-07-25', 'Product Categ...   \n",
       "\n",
       "                                    Browsing History  \\\n",
       "0  [{\"Timestamp\": \"2022-03-10T14:30:00Z\"}, {\"Time...   \n",
       "1  [{\"Product Category\": \"Home & Garden\", \"Timest...   \n",
       "2  [{\"Product Category\": \"Clothing\", \"Timestamp\":...   \n",
       "3               {'Timestamp': '2022-09-03 14:30:00'}   \n",
       "4               {'Timestamp': '2022-08-10 17:15:00'}   \n",
       "\n",
       "                                     Product Reviews  Time on Site  \\\n",
       "0  Great pair of jeans, very comfortable. Rating:...         32.50   \n",
       "1                            Great customer service!        123.45   \n",
       "2  Great electronics. The sound quality is excell...        125.60   \n",
       "3  {\"Product 1\": {\"Rating\": 4, \"Review\": \"Great e...        327.60   \n",
       "4  {\"Product 1\": {\"Rating\": 3, \"Review\": \"Good pr...        214.90   \n",
       "\n",
       "                                     Cleaned_Reviews Sentiment_Textblob  \\\n",
       "0  great pair of jeans very comfortable rating  s...           Positive   \n",
       "1                             great customer service           Positive   \n",
       "2  great electronics the sound quality is excelle...           Positive   \n",
       "3  great experience buying this product fast deli...           Positive   \n",
       "4            good product but could have been better           Positive   \n",
       "\n",
       "  Sentiment_BERT                          Customer Type  \n",
       "0       POSITIVE        Value-Conscious, Low Engagement  \n",
       "1       POSITIVE        Value-Conscious, Low Engagement  \n",
       "2       POSITIVE        Value-Conscious, Low Engagement  \n",
       "3       POSITIVE  High-Income, High Engagement Shoppers  \n",
       "4       POSITIVE        Value-Conscious, Low Engagement  "
      ]
     },
     "execution_count": 18,
     "metadata": {},
     "output_type": "execute_result"
    }
   ],
   "source": [
    "df.head()"
   ]
  },
  {
   "cell_type": "code",
   "execution_count": 19,
   "id": "83279e54",
   "metadata": {
    "execution": {
     "iopub.execute_input": "2024-09-19T09:09:54.668244Z",
     "iopub.status.busy": "2024-09-19T09:09:54.666947Z",
     "iopub.status.idle": "2024-09-19T09:09:54.948523Z",
     "shell.execute_reply": "2024-09-19T09:09:54.946585Z"
    },
    "papermill": {
     "duration": 0.310558,
     "end_time": "2024-09-19T09:09:54.951548",
     "exception": false,
     "start_time": "2024-09-19T09:09:54.640990",
     "status": "completed"
    },
    "tags": []
   },
   "outputs": [
    {
     "data": {
      "image/png": "[encoded data removed]",
      "text/plain": [
       "<Figure size 800x600 with 1 Axes>"
      ]
     },
     "metadata": {},
     "output_type": "display_data"
    }
   ],
   "source": [
    "plt.figure(figsize=(8,6))\n",
    "sns.countplot(x='Customer Type', data=df)\n",
    "plt.title('Types of Customer')\n",
    "plt.show()"
   ]
  },
  {
   "cell_type": "code",
   "execution_count": 20,
   "id": "0727dbd7",
   "metadata": {
    "execution": {
     "iopub.execute_input": "2024-09-19T09:09:54.999069Z",
     "iopub.status.busy": "2024-09-19T09:09:54.998172Z",
     "iopub.status.idle": "2024-09-19T09:09:55.005555Z",
     "shell.execute_reply": "2024-09-19T09:09:55.004220Z"
    },
    "papermill": {
     "duration": 0.033583,
     "end_time": "2024-09-19T09:09:55.008303",
     "exception": false,
     "start_time": "2024-09-19T09:09:54.974720",
     "status": "completed"
    },
    "tags": []
   },
   "outputs": [],
   "source": [
    "# purchase behaviour analysis\n",
    "\n",
    "def correct_json_format(purchase_history):\n",
    "    corrected = purchase_history.replace(\"'\", '\"')\n",
    "    corrected = corrected.replace('},]', '}],') \n",
    "    try:\n",
    "        return json.loads(f\"[{corrected}]\") \n",
    "    except json.JSONDecodeError:\n",
    "        return []"
   ]
  },
  {
   "cell_type": "code",
   "execution_count": 21,
   "id": "eba643ba",
   "metadata": {
    "execution": {
     "iopub.execute_input": "2024-09-19T09:09:55.055068Z",
     "iopub.status.busy": "2024-09-19T09:09:55.054020Z",
     "iopub.status.idle": "2024-09-19T09:09:55.061433Z",
     "shell.execute_reply": "2024-09-19T09:09:55.060183Z"
    },
    "papermill": {
     "duration": 0.033768,
     "end_time": "2024-09-19T09:09:55.064176",
     "exception": false,
     "start_time": "2024-09-19T09:09:55.030408",
     "status": "completed"
    },
    "tags": []
   },
   "outputs": [],
   "source": [
    "df['Corrected Purchase History'] = df['Purchase History'].apply(correct_json_format)"
   ]
  },
  {
   "cell_type": "code",
   "execution_count": 22,
   "id": "46ab07fd",
   "metadata": {
    "execution": {
     "iopub.execute_input": "2024-09-19T09:09:55.110107Z",
     "iopub.status.busy": "2024-09-19T09:09:55.109624Z",
     "iopub.status.idle": "2024-09-19T09:09:55.115775Z",
     "shell.execute_reply": "2024-09-19T09:09:55.114315Z"
    },
    "papermill": {
     "duration": 0.032877,
     "end_time": "2024-09-19T09:09:55.118800",
     "exception": false,
     "start_time": "2024-09-19T09:09:55.085923",
     "status": "completed"
    },
    "tags": []
   },
   "outputs": [],
   "source": [
    "def count_purchases(purchase_history):\n",
    "    return len(purchase_history)"
   ]
  },
  {
   "cell_type": "code",
   "execution_count": 23,
   "id": "a983f1e0",
   "metadata": {
    "execution": {
     "iopub.execute_input": "2024-09-19T09:09:55.168645Z",
     "iopub.status.busy": "2024-09-19T09:09:55.168146Z",
     "iopub.status.idle": "2024-09-19T09:09:55.175639Z",
     "shell.execute_reply": "2024-09-19T09:09:55.174150Z"
    },
    "papermill": {
     "duration": 0.034841,
     "end_time": "2024-09-19T09:09:55.178650",
     "exception": false,
     "start_time": "2024-09-19T09:09:55.143809",
     "status": "completed"
    },
    "tags": []
   },
   "outputs": [],
   "source": [
    "df['Num Purchases'] = df['Corrected Purchase History'].apply(count_purchases)"
   ]
  },
  {
   "cell_type": "code",
   "execution_count": 24,
   "id": "f15fe28d",
   "metadata": {
    "execution": {
     "iopub.execute_input": "2024-09-19T09:09:55.224789Z",
     "iopub.status.busy": "2024-09-19T09:09:55.224305Z",
     "iopub.status.idle": "2024-09-19T09:09:55.255831Z",
     "shell.execute_reply": "2024-09-19T09:09:55.254328Z"
    },
    "papermill": {
     "duration": 0.058304,
     "end_time": "2024-09-19T09:09:55.259019",
     "exception": false,
     "start_time": "2024-09-19T09:09:55.200715",
     "status": "completed"
    },
    "tags": []
   },
   "outputs": [
    {
     "data": {
      "text/html": [
       "<div>\n",
       "<style scoped>\n",
       "    .dataframe tbody tr th:only-of-type {\n",
       "        vertical-align: middle;\n",
       "    }\n",
       "\n",
       "    .dataframe tbody tr th {\n",
       "        vertical-align: top;\n",
       "    }\n",
       "\n",
       "    .dataframe thead th {\n",
       "        text-align: right;\n",
       "    }\n",
       "</style>\n",
       "<table border=\"1\" class=\"dataframe\">\n",
       "  <thead>\n",
       "    <tr style=\"text-align: right;\">\n",
       "      <th></th>\n",
       "      <th>Customer ID</th>\n",
       "      <th>Age</th>\n",
       "      <th>Gender</th>\n",
       "      <th>Location</th>\n",
       "      <th>Annual Income</th>\n",
       "      <th>Purchase History</th>\n",
       "      <th>Browsing History</th>\n",
       "      <th>Product Reviews</th>\n",
       "      <th>Time on Site</th>\n",
       "      <th>Cleaned_Reviews</th>\n",
       "      <th>Sentiment_Textblob</th>\n",
       "      <th>Sentiment_BERT</th>\n",
       "      <th>Customer Type</th>\n",
       "      <th>Corrected Purchase History</th>\n",
       "      <th>Num Purchases</th>\n",
       "    </tr>\n",
       "  </thead>\n",
       "  <tbody>\n",
       "    <tr>\n",
       "      <th>0</th>\n",
       "      <td>1001</td>\n",
       "      <td>25</td>\n",
       "      <td>0</td>\n",
       "      <td>3</td>\n",
       "      <td>45000</td>\n",
       "      <td>[{\"Date\": \"2022-03-05\", \"Category\": \"Clothing\"...</td>\n",
       "      <td>[{\"Timestamp\": \"2022-03-10T14:30:00Z\"}, {\"Time...</td>\n",
       "      <td>Great pair of jeans, very comfortable. Rating:...</td>\n",
       "      <td>32.50</td>\n",
       "      <td>great pair of jeans very comfortable rating  s...</td>\n",
       "      <td>Positive</td>\n",
       "      <td>POSITIVE</td>\n",
       "      <td>Value-Conscious, Low Engagement</td>\n",
       "      <td>[[{'Date': '2022-03-05', 'Category': 'Clothing...</td>\n",
       "      <td>1</td>\n",
       "    </tr>\n",
       "    <tr>\n",
       "      <th>1</th>\n",
       "      <td>1001</td>\n",
       "      <td>28</td>\n",
       "      <td>0</td>\n",
       "      <td>3</td>\n",
       "      <td>52000</td>\n",
       "      <td>[{\"Product Category\": \"Clothing\", \"Purchase Da...</td>\n",
       "      <td>[{\"Product Category\": \"Home &amp; Garden\", \"Timest...</td>\n",
       "      <td>Great customer service!</td>\n",
       "      <td>123.45</td>\n",
       "      <td>great customer service</td>\n",
       "      <td>Positive</td>\n",
       "      <td>POSITIVE</td>\n",
       "      <td>Value-Conscious, Low Engagement</td>\n",
       "      <td>[[{'Product Category': 'Clothing', 'Purchase D...</td>\n",
       "      <td>1</td>\n",
       "    </tr>\n",
       "    <tr>\n",
       "      <th>2</th>\n",
       "      <td>1001</td>\n",
       "      <td>28</td>\n",
       "      <td>0</td>\n",
       "      <td>3</td>\n",
       "      <td>65000</td>\n",
       "      <td>[{\"Product Category\": \"Electronics\", \"Purchase...</td>\n",
       "      <td>[{\"Product Category\": \"Clothing\", \"Timestamp\":...</td>\n",
       "      <td>Great electronics. The sound quality is excell...</td>\n",
       "      <td>125.60</td>\n",
       "      <td>great electronics the sound quality is excelle...</td>\n",
       "      <td>Positive</td>\n",
       "      <td>POSITIVE</td>\n",
       "      <td>Value-Conscious, Low Engagement</td>\n",
       "      <td>[[{'Product Category': 'Electronics', 'Purchas...</td>\n",
       "      <td>1</td>\n",
       "    </tr>\n",
       "    <tr>\n",
       "      <th>3</th>\n",
       "      <td>1001</td>\n",
       "      <td>45</td>\n",
       "      <td>0</td>\n",
       "      <td>3</td>\n",
       "      <td>70000</td>\n",
       "      <td>{'Purchase Date': '2022-08-15', 'Product Categ...</td>\n",
       "      <td>{'Timestamp': '2022-09-03 14:30:00'}</td>\n",
       "      <td>{\"Product 1\": {\"Rating\": 4, \"Review\": \"Great e...</td>\n",
       "      <td>327.60</td>\n",
       "      <td>great experience buying this product fast deli...</td>\n",
       "      <td>Positive</td>\n",
       "      <td>POSITIVE</td>\n",
       "      <td>High-Income, High Engagement Shoppers</td>\n",
       "      <td>[{'Purchase Date': '2022-08-15', 'Product Cate...</td>\n",
       "      <td>4</td>\n",
       "    </tr>\n",
       "    <tr>\n",
       "      <th>4</th>\n",
       "      <td>1002</td>\n",
       "      <td>34</td>\n",
       "      <td>1</td>\n",
       "      <td>4</td>\n",
       "      <td>45000</td>\n",
       "      <td>{'Purchase Date': '2022-07-25', 'Product Categ...</td>\n",
       "      <td>{'Timestamp': '2022-08-10 17:15:00'}</td>\n",
       "      <td>{\"Product 1\": {\"Rating\": 3, \"Review\": \"Good pr...</td>\n",
       "      <td>214.90</td>\n",
       "      <td>good product but could have been better</td>\n",
       "      <td>Positive</td>\n",
       "      <td>POSITIVE</td>\n",
       "      <td>Value-Conscious, Low Engagement</td>\n",
       "      <td>[{'Purchase Date': '2022-07-25', 'Product Cate...</td>\n",
       "      <td>3</td>\n",
       "    </tr>\n",
       "  </tbody>\n",
       "</table>\n",
       "</div>"
      ],
      "text/plain": [
       "   Customer ID  Age  Gender  Location  Annual Income  \\\n",
       "0         1001   25       0         3          45000   \n",
       "1         1001   28       0         3          52000   \n",
       "2         1001   28       0         3          65000   \n",
       "3         1001   45       0         3          70000   \n",
       "4         1002   34       1         4          45000   \n",
       "\n",
       "                                    Purchase History  \\\n",
       "0  [{\"Date\": \"2022-03-05\", \"Category\": \"Clothing\"...   \n",
       "1  [{\"Product Category\": \"Clothing\", \"Purchase Da...   \n",
       "2  [{\"Product Category\": \"Electronics\", \"Purchase...   \n",
       "3  {'Purchase Date': '2022-08-15', 'Product Categ...   \n",
       "4  {'Purchase Date': '2022-07-25', 'Product Categ...   \n",
       "\n",
       "                                    Browsing History  \\\n",
       "0  [{\"Timestamp\": \"2022-03-10T14:30:00Z\"}, {\"Time...   \n",
       "1  [{\"Product Category\": \"Home & Garden\", \"Timest...   \n",
       "2  [{\"Product Category\": \"Clothing\", \"Timestamp\":...   \n",
       "3               {'Timestamp': '2022-09-03 14:30:00'}   \n",
       "4               {'Timestamp': '2022-08-10 17:15:00'}   \n",
       "\n",
       "                                     Product Reviews  Time on Site  \\\n",
       "0  Great pair of jeans, very comfortable. Rating:...         32.50   \n",
       "1                            Great customer service!        123.45   \n",
       "2  Great electronics. The sound quality is excell...        125.60   \n",
       "3  {\"Product 1\": {\"Rating\": 4, \"Review\": \"Great e...        327.60   \n",
       "4  {\"Product 1\": {\"Rating\": 3, \"Review\": \"Good pr...        214.90   \n",
       "\n",
       "                                     Cleaned_Reviews Sentiment_Textblob  \\\n",
       "0  great pair of jeans very comfortable rating  s...           Positive   \n",
       "1                             great customer service           Positive   \n",
       "2  great electronics the sound quality is excelle...           Positive   \n",
       "3  great experience buying this product fast deli...           Positive   \n",
       "4            good product but could have been better           Positive   \n",
       "\n",
       "  Sentiment_BERT                          Customer Type  \\\n",
       "0       POSITIVE        Value-Conscious, Low Engagement   \n",
       "1       POSITIVE        Value-Conscious, Low Engagement   \n",
       "2       POSITIVE        Value-Conscious, Low Engagement   \n",
       "3       POSITIVE  High-Income, High Engagement Shoppers   \n",
       "4       POSITIVE        Value-Conscious, Low Engagement   \n",
       "\n",
       "                          Corrected Purchase History  Num Purchases  \n",
       "0  [[{'Date': '2022-03-05', 'Category': 'Clothing...              1  \n",
       "1  [[{'Product Category': 'Clothing', 'Purchase D...              1  \n",
       "2  [[{'Product Category': 'Electronics', 'Purchas...              1  \n",
       "3  [{'Purchase Date': '2022-08-15', 'Product Cate...              4  \n",
       "4  [{'Purchase Date': '2022-07-25', 'Product Cate...              3  "
      ]
     },
     "execution_count": 24,
     "metadata": {},
     "output_type": "execute_result"
    }
   ],
   "source": [
    "df.head()"
   ]
  },
  {
   "cell_type": "code",
   "execution_count": 25,
   "id": "5d62398c",
   "metadata": {
    "execution": {
     "iopub.execute_input": "2024-09-19T09:09:55.307695Z",
     "iopub.status.busy": "2024-09-19T09:09:55.306569Z",
     "iopub.status.idle": "2024-09-19T09:09:55.314453Z",
     "shell.execute_reply": "2024-09-19T09:09:55.312927Z"
    },
    "papermill": {
     "duration": 0.035128,
     "end_time": "2024-09-19T09:09:55.317399",
     "exception": false,
     "start_time": "2024-09-19T09:09:55.282271",
     "status": "completed"
    },
    "tags": []
   },
   "outputs": [],
   "source": [
    "def extract_categories(purchase_history):\n",
    "    if isinstance(purchase_history, list):\n",
    "        if isinstance(purchase_history[0], list):\n",
    "            purchase_history = [item for sublist in purchase_history for item in sublist]\n",
    "        return [purchase.get('Product Category', purchase.get('Category')) for purchase in purchase_history]\n",
    "    return []"
   ]
  },
  {
   "cell_type": "code",
   "execution_count": 26,
   "id": "8343f1fb",
   "metadata": {
    "execution": {
     "iopub.execute_input": "2024-09-19T09:09:55.366585Z",
     "iopub.status.busy": "2024-09-19T09:09:55.365586Z",
     "iopub.status.idle": "2024-09-19T09:09:55.373126Z",
     "shell.execute_reply": "2024-09-19T09:09:55.371724Z"
    },
    "papermill": {
     "duration": 0.03517,
     "end_time": "2024-09-19T09:09:55.375839",
     "exception": false,
     "start_time": "2024-09-19T09:09:55.340669",
     "status": "completed"
    },
    "tags": []
   },
   "outputs": [],
   "source": [
    "df['Categories'] = df['Corrected Purchase History'].apply(extract_categories)"
   ]
  },
  {
   "cell_type": "code",
   "execution_count": 27,
   "id": "79961769",
   "metadata": {
    "execution": {
     "iopub.execute_input": "2024-09-19T09:09:55.425183Z",
     "iopub.status.busy": "2024-09-19T09:09:55.423983Z",
     "iopub.status.idle": "2024-09-19T09:09:55.436489Z",
     "shell.execute_reply": "2024-09-19T09:09:55.434930Z"
    },
    "papermill": {
     "duration": 0.041314,
     "end_time": "2024-09-19T09:09:55.439669",
     "exception": false,
     "start_time": "2024-09-19T09:09:55.398355",
     "status": "completed"
    },
    "tags": []
   },
   "outputs": [
    {
     "name": "stdout",
     "output_type": "stream",
     "text": [
      "   Customer ID                                         Categories\n",
      "0         1001             [Clothing, Electronics, Home & Garden]\n",
      "1         1001                            [Clothing, Electronics]\n",
      "2         1001                       [Electronics, Home & Garden]\n",
      "3         1001  [Electronics, Clothing, Home & Garden, Electro...\n",
      "4         1002             [Clothing, Home & Garden, Electronics]\n"
     ]
    }
   ],
   "source": [
    "print(df[['Customer ID', 'Categories']].head())"
   ]
  },
  {
   "cell_type": "code",
   "execution_count": 28,
   "id": "14548b52",
   "metadata": {
    "execution": {
     "iopub.execute_input": "2024-09-19T09:09:55.490327Z",
     "iopub.status.busy": "2024-09-19T09:09:55.489072Z",
     "iopub.status.idle": "2024-09-19T09:09:55.511071Z",
     "shell.execute_reply": "2024-09-19T09:09:55.509171Z"
    },
    "papermill": {
     "duration": 0.051995,
     "end_time": "2024-09-19T09:09:55.514706",
     "exception": false,
     "start_time": "2024-09-19T09:09:55.462711",
     "status": "completed"
    },
    "tags": []
   },
   "outputs": [],
   "source": [
    "categories_expanded = df.explode('Categories')"
   ]
  },
  {
   "cell_type": "code",
   "execution_count": 29,
   "id": "4f7b2d80",
   "metadata": {
    "execution": {
     "iopub.execute_input": "2024-09-19T09:09:55.564421Z",
     "iopub.status.busy": "2024-09-19T09:09:55.563768Z",
     "iopub.status.idle": "2024-09-19T09:09:55.576012Z",
     "shell.execute_reply": "2024-09-19T09:09:55.574588Z"
    },
    "papermill": {
     "duration": 0.041101,
     "end_time": "2024-09-19T09:09:55.579006",
     "exception": false,
     "start_time": "2024-09-19T09:09:55.537905",
     "status": "completed"
    },
    "tags": []
   },
   "outputs": [],
   "source": [
    "category_counts = categories_expanded.groupby(['Annual Income', 'Categories']).size().reset_index(name='Count')"
   ]
  },
  {
   "cell_type": "code",
   "execution_count": 30,
   "id": "9704c990",
   "metadata": {
    "execution": {
     "iopub.execute_input": "2024-09-19T09:09:55.626317Z",
     "iopub.status.busy": "2024-09-19T09:09:55.625764Z",
     "iopub.status.idle": "2024-09-19T09:09:55.639593Z",
     "shell.execute_reply": "2024-09-19T09:09:55.638518Z"
    },
    "papermill": {
     "duration": 0.041139,
     "end_time": "2024-09-19T09:09:55.642606",
     "exception": false,
     "start_time": "2024-09-19T09:09:55.601467",
     "status": "completed"
    },
    "tags": []
   },
   "outputs": [],
   "source": [
    "category_pivot = category_counts.pivot(index='Annual Income', columns='Categories', values='Count').fillna(0)"
   ]
  },
  {
   "cell_type": "code",
   "execution_count": 31,
   "id": "06e0e035",
   "metadata": {
    "execution": {
     "iopub.execute_input": "2024-09-19T09:09:55.691254Z",
     "iopub.status.busy": "2024-09-19T09:09:55.690736Z",
     "iopub.status.idle": "2024-09-19T09:09:55.711889Z",
     "shell.execute_reply": "2024-09-19T09:09:55.710606Z"
    },
    "papermill": {
     "duration": 0.04844,
     "end_time": "2024-09-19T09:09:55.714777",
     "exception": false,
     "start_time": "2024-09-19T09:09:55.666337",
     "status": "completed"
    },
    "tags": []
   },
   "outputs": [
    {
     "data": {
      "text/html": [
       "<div>\n",
       "<style scoped>\n",
       "    .dataframe tbody tr th:only-of-type {\n",
       "        vertical-align: middle;\n",
       "    }\n",
       "\n",
       "    .dataframe tbody tr th {\n",
       "        vertical-align: top;\n",
       "    }\n",
       "\n",
       "    .dataframe thead th {\n",
       "        text-align: right;\n",
       "    }\n",
       "</style>\n",
       "<table border=\"1\" class=\"dataframe\">\n",
       "  <thead>\n",
       "    <tr style=\"text-align: right;\">\n",
       "      <th>Categories</th>\n",
       "      <th>Clothing</th>\n",
       "      <th>Electronics</th>\n",
       "      <th>Home &amp; Garden</th>\n",
       "    </tr>\n",
       "    <tr>\n",
       "      <th>Annual Income</th>\n",
       "      <th></th>\n",
       "      <th></th>\n",
       "      <th></th>\n",
       "    </tr>\n",
       "  </thead>\n",
       "  <tbody>\n",
       "    <tr>\n",
       "      <th>40000</th>\n",
       "      <td>3.0</td>\n",
       "      <td>2.0</td>\n",
       "      <td>2.0</td>\n",
       "    </tr>\n",
       "    <tr>\n",
       "      <th>42000</th>\n",
       "      <td>1.0</td>\n",
       "      <td>1.0</td>\n",
       "      <td>1.0</td>\n",
       "    </tr>\n",
       "    <tr>\n",
       "      <th>45000</th>\n",
       "      <td>5.0</td>\n",
       "      <td>3.0</td>\n",
       "      <td>5.0</td>\n",
       "    </tr>\n",
       "    <tr>\n",
       "      <th>50000</th>\n",
       "      <td>3.0</td>\n",
       "      <td>2.0</td>\n",
       "      <td>1.0</td>\n",
       "    </tr>\n",
       "    <tr>\n",
       "      <th>52000</th>\n",
       "      <td>1.0</td>\n",
       "      <td>1.0</td>\n",
       "      <td>0.0</td>\n",
       "    </tr>\n",
       "    <tr>\n",
       "      <th>55000</th>\n",
       "      <td>3.0</td>\n",
       "      <td>4.0</td>\n",
       "      <td>4.0</td>\n",
       "    </tr>\n",
       "    <tr>\n",
       "      <th>60000</th>\n",
       "      <td>3.0</td>\n",
       "      <td>2.0</td>\n",
       "      <td>2.0</td>\n",
       "    </tr>\n",
       "    <tr>\n",
       "      <th>65000</th>\n",
       "      <td>3.0</td>\n",
       "      <td>4.0</td>\n",
       "      <td>3.0</td>\n",
       "    </tr>\n",
       "    <tr>\n",
       "      <th>68000</th>\n",
       "      <td>1.0</td>\n",
       "      <td>0.0</td>\n",
       "      <td>1.0</td>\n",
       "    </tr>\n",
       "    <tr>\n",
       "      <th>70000</th>\n",
       "      <td>2.0</td>\n",
       "      <td>3.0</td>\n",
       "      <td>3.0</td>\n",
       "    </tr>\n",
       "    <tr>\n",
       "      <th>75000</th>\n",
       "      <td>4.0</td>\n",
       "      <td>2.0</td>\n",
       "      <td>5.0</td>\n",
       "    </tr>\n",
       "    <tr>\n",
       "      <th>80000</th>\n",
       "      <td>1.0</td>\n",
       "      <td>4.0</td>\n",
       "      <td>3.0</td>\n",
       "    </tr>\n",
       "    <tr>\n",
       "      <th>85000</th>\n",
       "      <td>2.0</td>\n",
       "      <td>3.0</td>\n",
       "      <td>2.0</td>\n",
       "    </tr>\n",
       "    <tr>\n",
       "      <th>87000</th>\n",
       "      <td>1.0</td>\n",
       "      <td>1.0</td>\n",
       "      <td>1.0</td>\n",
       "    </tr>\n",
       "    <tr>\n",
       "      <th>90000</th>\n",
       "      <td>2.0</td>\n",
       "      <td>3.0</td>\n",
       "      <td>2.0</td>\n",
       "    </tr>\n",
       "    <tr>\n",
       "      <th>95000</th>\n",
       "      <td>0.0</td>\n",
       "      <td>2.0</td>\n",
       "      <td>2.0</td>\n",
       "    </tr>\n",
       "    <tr>\n",
       "      <th>100000</th>\n",
       "      <td>1.0</td>\n",
       "      <td>0.0</td>\n",
       "      <td>1.0</td>\n",
       "    </tr>\n",
       "  </tbody>\n",
       "</table>\n",
       "</div>"
      ],
      "text/plain": [
       "Categories     Clothing  Electronics  Home & Garden\n",
       "Annual Income                                      \n",
       "40000               3.0          2.0            2.0\n",
       "42000               1.0          1.0            1.0\n",
       "45000               5.0          3.0            5.0\n",
       "50000               3.0          2.0            1.0\n",
       "52000               1.0          1.0            0.0\n",
       "55000               3.0          4.0            4.0\n",
       "60000               3.0          2.0            2.0\n",
       "65000               3.0          4.0            3.0\n",
       "68000               1.0          0.0            1.0\n",
       "70000               2.0          3.0            3.0\n",
       "75000               4.0          2.0            5.0\n",
       "80000               1.0          4.0            3.0\n",
       "85000               2.0          3.0            2.0\n",
       "87000               1.0          1.0            1.0\n",
       "90000               2.0          3.0            2.0\n",
       "95000               0.0          2.0            2.0\n",
       "100000              1.0          0.0            1.0"
      ]
     },
     "execution_count": 31,
     "metadata": {},
     "output_type": "execute_result"
    }
   ],
   "source": [
    "category_pivot"
   ]
  },
  {
   "cell_type": "code",
   "execution_count": 32,
   "id": "cc739f89",
   "metadata": {
    "execution": {
     "iopub.execute_input": "2024-09-19T09:09:55.764285Z",
     "iopub.status.busy": "2024-09-19T09:09:55.763145Z",
     "iopub.status.idle": "2024-09-19T09:09:56.376483Z",
     "shell.execute_reply": "2024-09-19T09:09:56.374952Z"
    },
    "papermill": {
     "duration": 0.642142,
     "end_time": "2024-09-19T09:09:56.379360",
     "exception": false,
     "start_time": "2024-09-19T09:09:55.737218",
     "status": "completed"
    },
    "tags": []
   },
   "outputs": [
    {
     "data": {
      "image/png": "[encoded data removed]",
      "text/plain": [
       "<Figure size 1200x800 with 1 Axes>"
      ]
     },
     "metadata": {},
     "output_type": "display_data"
    }
   ],
   "source": [
    "categories = category_pivot.columns\n",
    "income_brackets = category_pivot.index\n",
    "category_pivot = category_pivot.sort_index(ascending=False)\n",
    "\n",
    "fig, ax = plt.subplots(figsize=(12, 8))\n",
    "category_pivot.plot(kind='bar', stacked=True, ax=ax)\n",
    "\n",
    "ax.set_title('Product Categories Distribution by Annual Income')\n",
    "ax.set_xlabel('Annual Income')\n",
    "ax.set_ylabel('Number of Purchases')\n",
    "ax.legend(title='Product Category')\n",
    "plt.xticks(rotation=45, ha='right')\n",
    "plt.tight_layout()\n",
    "\n",
    "plt.show()"
   ]
  },
  {
   "cell_type": "code",
   "execution_count": 33,
   "id": "de5ed3a4",
   "metadata": {
    "execution": {
     "iopub.execute_input": "2024-09-19T09:09:56.428836Z",
     "iopub.status.busy": "2024-09-19T09:09:56.428334Z",
     "iopub.status.idle": "2024-09-19T09:09:56.870036Z",
     "shell.execute_reply": "2024-09-19T09:09:56.867502Z"
    },
    "papermill": {
     "duration": 0.471877,
     "end_time": "2024-09-19T09:09:56.875203",
     "exception": false,
     "start_time": "2024-09-19T09:09:56.403326",
     "status": "completed"
    },
    "tags": []
   },
   "outputs": [
    {
     "data": {
      "image/png": "[encoded data removed]",
      "text/plain": [
       "<Figure size 1200x800 with 1 Axes>"
      ]
     },
     "metadata": {},
     "output_type": "display_data"
    }
   ],
   "source": [
    "fig, ax = plt.subplots(figsize=(12, 8))\n",
    "\n",
    "for category in category_pivot.columns:\n",
    "    ax.plot(category_pivot.index, category_pivot[category], marker='o', label=category)\n",
    "\n",
    "ax.set_title('Trend of Product Categories by Annual Income')\n",
    "ax.set_xlabel('Annual Income')\n",
    "ax.set_ylabel('Number of Purchases')\n",
    "ax.legend(title='Product Category')\n",
    "plt.xticks(rotation=45, ha='right')\n",
    "plt.tight_layout()\n",
    "\n",
    "plt.show()\n"
   ]
  },
  {
   "cell_type": "code",
   "execution_count": 34,
   "id": "05ddeefc",
   "metadata": {
    "execution": {
     "iopub.execute_input": "2024-09-19T09:09:56.959462Z",
     "iopub.status.busy": "2024-09-19T09:09:56.958420Z",
     "iopub.status.idle": "2024-09-19T09:09:56.965687Z",
     "shell.execute_reply": "2024-09-19T09:09:56.964440Z"
    },
    "papermill": {
     "duration": 0.051055,
     "end_time": "2024-09-19T09:09:56.968358",
     "exception": false,
     "start_time": "2024-09-19T09:09:56.917303",
     "status": "completed"
    },
    "tags": []
   },
   "outputs": [],
   "source": [
    "def convert_to_list(purchase_history):\n",
    "    try:\n",
    "        return json.loads(purchase_history.replace(\"'\", '\"'))\n",
    "    except json.JSONDecodeError:\n",
    "        return []"
   ]
  },
  {
   "cell_type": "code",
   "execution_count": 35,
   "id": "4a921e6e",
   "metadata": {
    "execution": {
     "iopub.execute_input": "2024-09-19T09:09:57.022157Z",
     "iopub.status.busy": "2024-09-19T09:09:57.021313Z",
     "iopub.status.idle": "2024-09-19T09:09:57.028384Z",
     "shell.execute_reply": "2024-09-19T09:09:57.027034Z"
    },
    "papermill": {
     "duration": 0.0367,
     "end_time": "2024-09-19T09:09:57.030937",
     "exception": false,
     "start_time": "2024-09-19T09:09:56.994237",
     "status": "completed"
    },
    "tags": []
   },
   "outputs": [],
   "source": [
    "df['Corrected Purchase History'] = df['Purchase History'].apply(convert_to_list)"
   ]
  },
  {
   "cell_type": "code",
   "execution_count": 36,
   "id": "8fec6fa3",
   "metadata": {
    "execution": {
     "iopub.execute_input": "2024-09-19T09:09:57.149355Z",
     "iopub.status.busy": "2024-09-19T09:09:57.148520Z",
     "iopub.status.idle": "2024-09-19T09:09:57.156495Z",
     "shell.execute_reply": "2024-09-19T09:09:57.155056Z"
    },
    "papermill": {
     "duration": 0.103188,
     "end_time": "2024-09-19T09:09:57.159641",
     "exception": false,
     "start_time": "2024-09-19T09:09:57.056453",
     "status": "completed"
    },
    "tags": []
   },
   "outputs": [],
   "source": [
    "def extract_dates(purchase_history):\n",
    "    if isinstance(purchase_history, list):\n",
    "        return [purchase.get('Purchase Date') for purchase in purchase_history]\n",
    "    return []"
   ]
  },
  {
   "cell_type": "code",
   "execution_count": 37,
   "id": "f34e6d53",
   "metadata": {
    "execution": {
     "iopub.execute_input": "2024-09-19T09:09:57.213613Z",
     "iopub.status.busy": "2024-09-19T09:09:57.213127Z",
     "iopub.status.idle": "2024-09-19T09:09:57.220859Z",
     "shell.execute_reply": "2024-09-19T09:09:57.219491Z"
    },
    "papermill": {
     "duration": 0.038431,
     "end_time": "2024-09-19T09:09:57.223751",
     "exception": false,
     "start_time": "2024-09-19T09:09:57.185320",
     "status": "completed"
    },
    "tags": []
   },
   "outputs": [],
   "source": [
    "df['Purchase Dates'] = df['Corrected Purchase History'].apply(extract_dates)"
   ]
  },
  {
   "cell_type": "code",
   "execution_count": 38,
   "id": "85789529",
   "metadata": {
    "execution": {
     "iopub.execute_input": "2024-09-19T09:09:57.277261Z",
     "iopub.status.busy": "2024-09-19T09:09:57.276770Z",
     "iopub.status.idle": "2024-09-19T09:09:57.288708Z",
     "shell.execute_reply": "2024-09-19T09:09:57.287030Z"
    },
    "papermill": {
     "duration": 0.04248,
     "end_time": "2024-09-19T09:09:57.292327",
     "exception": false,
     "start_time": "2024-09-19T09:09:57.249847",
     "status": "completed"
    },
    "tags": []
   },
   "outputs": [
    {
     "name": "stdout",
     "output_type": "stream",
     "text": [
      "   Customer ID            Purchase Dates\n",
      "0         1001        [None, None, None]\n",
      "1         1001  [2022-05-15, 2022-06-02]\n",
      "2         1001  [2022-08-15, 2022-07-02]\n",
      "3         1001                        []\n",
      "4         1002                        []\n"
     ]
    }
   ],
   "source": [
    "print(df[['Customer ID', 'Purchase Dates']].head())"
   ]
  },
  {
   "cell_type": "code",
   "execution_count": 39,
   "id": "03c671ca",
   "metadata": {
    "execution": {
     "iopub.execute_input": "2024-09-19T09:09:57.354969Z",
     "iopub.status.busy": "2024-09-19T09:09:57.354067Z",
     "iopub.status.idle": "2024-09-19T09:09:57.365161Z",
     "shell.execute_reply": "2024-09-19T09:09:57.363016Z"
    },
    "papermill": {
     "duration": 0.045894,
     "end_time": "2024-09-19T09:09:57.368793",
     "exception": false,
     "start_time": "2024-09-19T09:09:57.322899",
     "status": "completed"
    },
    "tags": []
   },
   "outputs": [],
   "source": [
    "df_clean = df[df['Purchase Dates'].apply(lambda x: len(x) > 0)]"
   ]
  },
  {
   "cell_type": "code",
   "execution_count": 40,
   "id": "16a469db",
   "metadata": {
    "execution": {
     "iopub.execute_input": "2024-09-19T09:09:57.427865Z",
     "iopub.status.busy": "2024-09-19T09:09:57.427385Z",
     "iopub.status.idle": "2024-09-19T09:09:57.438667Z",
     "shell.execute_reply": "2024-09-19T09:09:57.436984Z"
    },
    "papermill": {
     "duration": 0.044449,
     "end_time": "2024-09-19T09:09:57.442263",
     "exception": false,
     "start_time": "2024-09-19T09:09:57.397814",
     "status": "completed"
    },
    "tags": []
   },
   "outputs": [
    {
     "name": "stdout",
     "output_type": "stream",
     "text": [
      "    Customer ID            Purchase Dates\n",
      "0          1001        [None, None, None]\n",
      "1          1001  [2022-05-15, 2022-06-02]\n",
      "2          1001  [2022-08-15, 2022-07-02]\n",
      "24         1001              [2022-09-15]\n",
      "38         1001  [2022-08-15, 2022-07-20]\n"
     ]
    }
   ],
   "source": [
    "print(df_clean[['Customer ID', 'Purchase Dates']].head())"
   ]
  },
  {
   "cell_type": "code",
   "execution_count": 41,
   "id": "a47b4052",
   "metadata": {
    "execution": {
     "iopub.execute_input": "2024-09-19T09:09:57.500752Z",
     "iopub.status.busy": "2024-09-19T09:09:57.500214Z",
     "iopub.status.idle": "2024-09-19T09:09:57.510274Z",
     "shell.execute_reply": "2024-09-19T09:09:57.508466Z"
    },
    "papermill": {
     "duration": 0.04383,
     "end_time": "2024-09-19T09:09:57.514015",
     "exception": false,
     "start_time": "2024-09-19T09:09:57.470185",
     "status": "completed"
    },
    "tags": []
   },
   "outputs": [
    {
     "name": "stderr",
     "output_type": "stream",
     "text": [
      "/tmp/ipykernel_17/1014577112.py:1: SettingWithCopyWarning: \n",
      "A value is trying to be set on a copy of a slice from a DataFrame.\n",
      "Try using .loc[row_indexer,col_indexer] = value instead\n",
      "\n",
      "See the caveats in the documentation: https://pandas.pydata.org/pandas-docs/stable/user_guide/indexing.html#returning-a-view-versus-a-copy\n",
      "  df_clean['Purchase Dates'] = df_clean['Purchase Dates'].apply(lambda x: [date if date is not None else np.nan for date in x])\n"
     ]
    }
   ],
   "source": [
    "  df_clean['Purchase Dates'] = df_clean['Purchase Dates'].apply(lambda x: [date if date is not None else np.nan for date in x])"
   ]
  },
  {
   "cell_type": "code",
   "execution_count": 42,
   "id": "777412ac",
   "metadata": {
    "execution": {
     "iopub.execute_input": "2024-09-19T09:09:57.569409Z",
     "iopub.status.busy": "2024-09-19T09:09:57.568522Z",
     "iopub.status.idle": "2024-09-19T09:09:57.579395Z",
     "shell.execute_reply": "2024-09-19T09:09:57.578001Z"
    },
    "papermill": {
     "duration": 0.041575,
     "end_time": "2024-09-19T09:09:57.582217",
     "exception": false,
     "start_time": "2024-09-19T09:09:57.540642",
     "status": "completed"
    },
    "tags": []
   },
   "outputs": [
    {
     "name": "stdout",
     "output_type": "stream",
     "text": [
      "    Customer ID            Purchase Dates\n",
      "0          1001           [nan, nan, nan]\n",
      "1          1001  [2022-05-15, 2022-06-02]\n",
      "2          1001  [2022-08-15, 2022-07-02]\n",
      "24         1001              [2022-09-15]\n",
      "38         1001  [2022-08-15, 2022-07-20]\n"
     ]
    }
   ],
   "source": [
    "print(df_clean[['Customer ID', 'Purchase Dates']].head())"
   ]
  },
  {
   "cell_type": "code",
   "execution_count": 43,
   "id": "42f14d09",
   "metadata": {
    "execution": {
     "iopub.execute_input": "2024-09-19T09:09:57.638348Z",
     "iopub.status.busy": "2024-09-19T09:09:57.637829Z",
     "iopub.status.idle": "2024-09-19T09:09:57.645408Z",
     "shell.execute_reply": "2024-09-19T09:09:57.644184Z"
    },
    "papermill": {
     "duration": 0.038654,
     "end_time": "2024-09-19T09:09:57.647990",
     "exception": false,
     "start_time": "2024-09-19T09:09:57.609336",
     "status": "completed"
    },
    "tags": []
   },
   "outputs": [
    {
     "name": "stderr",
     "output_type": "stream",
     "text": [
      "/tmp/ipykernel_17/3103084014.py:1: SettingWithCopyWarning: \n",
      "A value is trying to be set on a copy of a slice from a DataFrame.\n",
      "Try using .loc[row_indexer,col_indexer] = value instead\n",
      "\n",
      "See the caveats in the documentation: https://pandas.pydata.org/pandas-docs/stable/user_guide/indexing.html#returning-a-view-versus-a-copy\n",
      "  df_clean['Total Purchases'] = df_clean['Purchase Dates'].apply(len)\n"
     ]
    }
   ],
   "source": [
    "df_clean['Total Purchases'] = df_clean['Purchase Dates'].apply(len)"
   ]
  },
  {
   "cell_type": "code",
   "execution_count": 44,
   "id": "022068ed",
   "metadata": {
    "execution": {
     "iopub.execute_input": "2024-09-19T09:09:57.704454Z",
     "iopub.status.busy": "2024-09-19T09:09:57.702881Z",
     "iopub.status.idle": "2024-09-19T09:09:57.711467Z",
     "shell.execute_reply": "2024-09-19T09:09:57.710076Z"
    },
    "papermill": {
     "duration": 0.039375,
     "end_time": "2024-09-19T09:09:57.714532",
     "exception": false,
     "start_time": "2024-09-19T09:09:57.675157",
     "status": "completed"
    },
    "tags": []
   },
   "outputs": [],
   "source": [
    "def calculate_time_intervals(dates):\n",
    "    dates = [pd.to_datetime(date) for date in dates if pd.notna(date)]\n",
    "    if len(dates) < 2:\n",
    "        return []\n",
    "    return [(dates[i] - dates[i - 1]).days for i in range(1, len(dates))]"
   ]
  },
  {
   "cell_type": "code",
   "execution_count": 45,
   "id": "3424dca3",
   "metadata": {
    "execution": {
     "iopub.execute_input": "2024-09-19T09:09:57.769627Z",
     "iopub.status.busy": "2024-09-19T09:09:57.769177Z",
     "iopub.status.idle": "2024-09-19T09:09:57.800716Z",
     "shell.execute_reply": "2024-09-19T09:09:57.799076Z"
    },
    "papermill": {
     "duration": 0.063175,
     "end_time": "2024-09-19T09:09:57.803825",
     "exception": false,
     "start_time": "2024-09-19T09:09:57.740650",
     "status": "completed"
    },
    "tags": []
   },
   "outputs": [
    {
     "name": "stderr",
     "output_type": "stream",
     "text": [
      "/tmp/ipykernel_17/3910911658.py:1: SettingWithCopyWarning: \n",
      "A value is trying to be set on a copy of a slice from a DataFrame.\n",
      "Try using .loc[row_indexer,col_indexer] = value instead\n",
      "\n",
      "See the caveats in the documentation: https://pandas.pydata.org/pandas-docs/stable/user_guide/indexing.html#returning-a-view-versus-a-copy\n",
      "  df_clean['Purchase Intervals'] = df_clean['Purchase Dates'].apply(calculate_time_intervals)\n"
     ]
    }
   ],
   "source": [
    "df_clean['Purchase Intervals'] = df_clean['Purchase Dates'].apply(calculate_time_intervals)"
   ]
  },
  {
   "cell_type": "code",
   "execution_count": 46,
   "id": "39118ed4",
   "metadata": {
    "execution": {
     "iopub.execute_input": "2024-09-19T09:09:57.858660Z",
     "iopub.status.busy": "2024-09-19T09:09:57.858186Z",
     "iopub.status.idle": "2024-09-19T09:09:57.869494Z",
     "shell.execute_reply": "2024-09-19T09:09:57.868305Z"
    },
    "papermill": {
     "duration": 0.042221,
     "end_time": "2024-09-19T09:09:57.872466",
     "exception": false,
     "start_time": "2024-09-19T09:09:57.830245",
     "status": "completed"
    },
    "tags": []
   },
   "outputs": [
    {
     "name": "stdout",
     "output_type": "stream",
     "text": [
      "    Customer ID  Total Purchases Purchase Intervals\n",
      "0          1001                3                 []\n",
      "1          1001                2               [18]\n",
      "2          1001                2              [-44]\n",
      "24         1001                1                 []\n",
      "38         1001                2              [-26]\n"
     ]
    }
   ],
   "source": [
    "print(df_clean[['Customer ID', 'Total Purchases', 'Purchase Intervals']].head())"
   ]
  },
  {
   "cell_type": "code",
   "execution_count": 47,
   "id": "94b003b9",
   "metadata": {
    "execution": {
     "iopub.execute_input": "2024-09-19T09:09:57.927381Z",
     "iopub.status.busy": "2024-09-19T09:09:57.926881Z",
     "iopub.status.idle": "2024-09-19T09:09:57.934898Z",
     "shell.execute_reply": "2024-09-19T09:09:57.933573Z"
    },
    "papermill": {
     "duration": 0.038698,
     "end_time": "2024-09-19T09:09:57.937661",
     "exception": false,
     "start_time": "2024-09-19T09:09:57.898963",
     "status": "completed"
    },
    "tags": []
   },
   "outputs": [],
   "source": [
    "negative_intervals_df = df_clean[df_clean['Purchase Intervals'].apply(lambda x: any(i < 0 for i in x))]"
   ]
  },
  {
   "cell_type": "code",
   "execution_count": 48,
   "id": "7cd68a61",
   "metadata": {
    "execution": {
     "iopub.execute_input": "2024-09-19T09:09:57.992296Z",
     "iopub.status.busy": "2024-09-19T09:09:57.991826Z",
     "iopub.status.idle": "2024-09-19T09:09:58.007081Z",
     "shell.execute_reply": "2024-09-19T09:09:58.005776Z"
    },
    "papermill": {
     "duration": 0.046116,
     "end_time": "2024-09-19T09:09:58.010066",
     "exception": false,
     "start_time": "2024-09-19T09:09:57.963950",
     "status": "completed"
    },
    "tags": []
   },
   "outputs": [
    {
     "name": "stdout",
     "output_type": "stream",
     "text": [
      "    Customer ID                        Purchase Dates Purchase Intervals\n",
      "2          1001              [2022-08-15, 2022-07-02]              [-44]\n",
      "38         1001              [2022-08-15, 2022-07-20]              [-26]\n",
      "39         1001              [2022-03-15, 2022-02-01]              [-42]\n",
      "40         1002              [2022-02-20, 2022-01-12]              [-39]\n",
      "42         1001              [2022-06-12, 2022-05-08]              [-35]\n",
      "43         1002              [2022-07-03, 2022-06-17]              [-16]\n",
      "44         1003              [2022-06-22, 2022-05-15]              [-38]\n",
      "45         1004              [2022-07-08, 2022-06-24]              [-14]\n",
      "46         1005              [2022-06-01, 2022-05-18]              [-14]\n",
      "47         1001  [2022-07-02, 2022-06-15, 2022-05-10]         [-17, -36]\n",
      "48         1002  [2022-07-08, 2022-06-23, 2022-05-12]         [-15, -42]\n",
      "49         1003  [2022-07-01, 2022-06-18, 2022-05-09]         [-13, -40]\n"
     ]
    }
   ],
   "source": [
    "print(negative_intervals_df[['Customer ID', 'Purchase Dates', 'Purchase Intervals']])"
   ]
  },
  {
   "cell_type": "code",
   "execution_count": 49,
   "id": "f980a73e",
   "metadata": {
    "execution": {
     "iopub.execute_input": "2024-09-19T09:09:58.067098Z",
     "iopub.status.busy": "2024-09-19T09:09:58.066618Z",
     "iopub.status.idle": "2024-09-19T09:09:58.476430Z",
     "shell.execute_reply": "2024-09-19T09:09:58.475157Z"
    },
    "papermill": {
     "duration": 0.440842,
     "end_time": "2024-09-19T09:09:58.479114",
     "exception": false,
     "start_time": "2024-09-19T09:09:58.038272",
     "status": "completed"
    },
    "tags": []
   },
   "outputs": [
    {
     "data": {
      "image/png": "[encoded data removed]",
      "text/plain": [
       "<Figure size 1000x600 with 1 Axes>"
      ]
     },
     "metadata": {},
     "output_type": "display_data"
    }
   ],
   "source": [
    "intervals = [interval for sublist in df_clean['Purchase Intervals'] for interval in sublist if pd.notna(interval)]\n",
    "\n",
    "plt.figure(figsize=(10, 6))\n",
    "plt.hist(intervals, bins=30, edgecolor='k', alpha=0.7)\n",
    "plt.title('Distribution of Purchase Intervals')\n",
    "plt.xlabel('Days Between Purchases')\n",
    "plt.ylabel('Frequency')\n",
    "plt.grid(True)\n",
    "plt.show()"
   ]
  },
  {
   "cell_type": "code",
   "execution_count": 50,
   "id": "51c86181",
   "metadata": {
    "execution": {
     "iopub.execute_input": "2024-09-19T09:09:58.535836Z",
     "iopub.status.busy": "2024-09-19T09:09:58.534794Z",
     "iopub.status.idle": "2024-09-19T09:09:58.803159Z",
     "shell.execute_reply": "2024-09-19T09:09:58.801896Z"
    },
    "papermill": {
     "duration": 0.299466,
     "end_time": "2024-09-19T09:09:58.805921",
     "exception": false,
     "start_time": "2024-09-19T09:09:58.506455",
     "status": "completed"
    },
    "tags": []
   },
   "outputs": [
    {
     "data": {
      "image/png": "[encoded data removed]",
      "text/plain": [
       "<Figure size 1000x600 with 1 Axes>"
      ]
     },
     "metadata": {},
     "output_type": "display_data"
    }
   ],
   "source": [
    "plt.figure(figsize=(10, 6))\n",
    "df_clean.groupby('Customer ID')['Total Purchases'].sum().plot(kind='bar')\n",
    "plt.title('Total Purchases by Customer')\n",
    "plt.xlabel('Customer ID')\n",
    "plt.ylabel('Total Purchases')\n",
    "plt.grid(True)\n",
    "plt.show()"
   ]
  },
  {
   "cell_type": "code",
   "execution_count": 51,
   "id": "ad3c6e9e",
   "metadata": {
    "execution": {
     "iopub.execute_input": "2024-09-19T09:09:58.869527Z",
     "iopub.status.busy": "2024-09-19T09:09:58.869054Z",
     "iopub.status.idle": "2024-09-19T09:10:02.234664Z",
     "shell.execute_reply": "2024-09-19T09:10:02.233167Z"
    },
    "papermill": {
     "duration": 3.404935,
     "end_time": "2024-09-19T09:10:02.238768",
     "exception": false,
     "start_time": "2024-09-19T09:09:58.833833",
     "status": "completed"
    },
    "tags": []
   },
   "outputs": [
    {
     "data": {
      "application/vnd.jupyter.widget-view+json": {
       "model_id": "71cd357d45b445d8a97fe9479cdb4658",
       "version_major": 2,
       "version_minor": 0
      },
      "text/plain": [
       "config.json:   0%|          | 0.00/935 [00:00<?, ?B/s]"
      ]
     },
     "metadata": {},
     "output_type": "display_data"
    },
    {
     "data": {
      "application/vnd.jupyter.widget-view+json": {
       "model_id": "df502cd7d0de4d07b34b2fa4f5ce6cd6",
       "version_major": 2,
       "version_minor": 0
      },
      "text/plain": [
       "model.safetensors:   0%|          | 0.00/438M [00:00<?, ?B/s]"
      ]
     },
     "metadata": {},
     "output_type": "display_data"
    },
    {
     "data": {
      "application/vnd.jupyter.widget-view+json": {
       "model_id": "9e285ce0e78246b9a8330195e9cf3499",
       "version_major": 2,
       "version_minor": 0
      },
      "text/plain": [
       "tokenizer_config.json:   0%|          | 0.00/285 [00:00<?, ?B/s]"
      ]
     },
     "metadata": {},
     "output_type": "display_data"
    },
    {
     "data": {
      "application/vnd.jupyter.widget-view+json": {
       "model_id": "bdacc231dce74d6885035d09c9bedb70",
       "version_major": 2,
       "version_minor": 0
      },
      "text/plain": [
       "vocab.txt:   0%|          | 0.00/232k [00:00<?, ?B/s]"
      ]
     },
     "metadata": {},
     "output_type": "display_data"
    },
    {
     "data": {
      "application/vnd.jupyter.widget-view+json": {
       "model_id": "1fa48bd9593044ea8254514bf5199f6e",
       "version_major": 2,
       "version_minor": 0
      },
      "text/plain": [
       "tokenizer.json:   0%|          | 0.00/466k [00:00<?, ?B/s]"
      ]
     },
     "metadata": {},
     "output_type": "display_data"
    },
    {
     "data": {
      "application/vnd.jupyter.widget-view+json": {
       "model_id": "e7490ce0935c4dc0bfcc729e7691b0fc",
       "version_major": 2,
       "version_minor": 0
      },
      "text/plain": [
       "special_tokens_map.json:   0%|          | 0.00/112 [00:00<?, ?B/s]"
      ]
     },
     "metadata": {},
     "output_type": "display_data"
    },
    {
     "name": "stderr",
     "output_type": "stream",
     "text": [
      "/opt/conda/lib/python3.10/site-packages/transformers/tokenization_utils_base.py:1601: FutureWarning: `clean_up_tokenization_spaces` was not set. It will be set to `True` by default. This behavior will be depracted in transformers v4.45, and will be then set to `False` by default. For more details check this issue: https://github.com/huggingface/transformers/issues/31884\n",
      "  warnings.warn(\n"
     ]
    }
   ],
   "source": [
    "emotion_detector = pipeline(\"text-classification\", model=\"bhadresh-savani/bert-base-uncased-emotion\")"
   ]
  },
  {
   "cell_type": "code",
   "execution_count": 52,
   "id": "4cff54ff",
   "metadata": {
    "execution": {
     "iopub.execute_input": "2024-09-19T09:10:02.333020Z",
     "iopub.status.busy": "2024-09-19T09:10:02.332509Z",
     "iopub.status.idle": "2024-09-19T09:10:05.520154Z",
     "shell.execute_reply": "2024-09-19T09:10:05.518887Z"
    },
    "papermill": {
     "duration": 3.230434,
     "end_time": "2024-09-19T09:10:05.523260",
     "exception": false,
     "start_time": "2024-09-19T09:10:02.292826",
     "status": "completed"
    },
    "tags": []
   },
   "outputs": [],
   "source": [
    "df['emotions'] = df['Cleaned_Reviews'].apply(lambda x: emotion_detector(x))"
   ]
  },
  {
   "cell_type": "code",
   "execution_count": 53,
   "id": "7b698cad",
   "metadata": {
    "execution": {
     "iopub.execute_input": "2024-09-19T09:10:05.586299Z",
     "iopub.status.busy": "2024-09-19T09:10:05.585130Z",
     "iopub.status.idle": "2024-09-19T09:10:05.591334Z",
     "shell.execute_reply": "2024-09-19T09:10:05.590058Z"
    },
    "papermill": {
     "duration": 0.040517,
     "end_time": "2024-09-19T09:10:05.594004",
     "exception": false,
     "start_time": "2024-09-19T09:10:05.553487",
     "status": "completed"
    },
    "tags": []
   },
   "outputs": [],
   "source": [
    "def extract_emotion(emotion_results):\n",
    "    return max(emotion_results, key=lambda x: x['score'])['label']"
   ]
  },
  {
   "cell_type": "code",
   "execution_count": 54,
   "id": "a579dc9c",
   "metadata": {
    "execution": {
     "iopub.execute_input": "2024-09-19T09:10:05.653105Z",
     "iopub.status.busy": "2024-09-19T09:10:05.652015Z",
     "iopub.status.idle": "2024-09-19T09:10:05.659131Z",
     "shell.execute_reply": "2024-09-19T09:10:05.657825Z"
    },
    "papermill": {
     "duration": 0.03951,
     "end_time": "2024-09-19T09:10:05.661845",
     "exception": false,
     "start_time": "2024-09-19T09:10:05.622335",
     "status": "completed"
    },
    "tags": []
   },
   "outputs": [],
   "source": [
    "df['emotion_label'] = df['emotions'].apply(extract_emotion)"
   ]
  },
  {
   "cell_type": "code",
   "execution_count": 55,
   "id": "38205333",
   "metadata": {
    "execution": {
     "iopub.execute_input": "2024-09-19T09:10:05.721076Z",
     "iopub.status.busy": "2024-09-19T09:10:05.720611Z",
     "iopub.status.idle": "2024-09-19T09:10:05.730072Z",
     "shell.execute_reply": "2024-09-19T09:10:05.728860Z"
    },
    "papermill": {
     "duration": 0.042026,
     "end_time": "2024-09-19T09:10:05.732777",
     "exception": false,
     "start_time": "2024-09-19T09:10:05.690751",
     "status": "completed"
    },
    "tags": []
   },
   "outputs": [
    {
     "name": "stdout",
     "output_type": "stream",
     "text": [
      "                                     Cleaned_Reviews emotion_label\n",
      "0  great pair of jeans very comfortable rating  s...           joy\n",
      "1                             great customer service           joy\n",
      "2  great electronics the sound quality is excelle...           joy\n",
      "3  great experience buying this product fast deli...           joy\n",
      "4            good product but could have been better           joy\n"
     ]
    }
   ],
   "source": [
    "print(df[['Cleaned_Reviews', 'emotion_label']].head())"
   ]
  },
  {
   "cell_type": "code",
   "execution_count": 56,
   "id": "98c1d3d3",
   "metadata": {
    "execution": {
     "iopub.execute_input": "2024-09-19T09:10:05.792411Z",
     "iopub.status.busy": "2024-09-19T09:10:05.791570Z",
     "iopub.status.idle": "2024-09-19T09:10:06.047333Z",
     "shell.execute_reply": "2024-09-19T09:10:06.045823Z"
    },
    "papermill": {
     "duration": 0.288906,
     "end_time": "2024-09-19T09:10:06.050399",
     "exception": false,
     "start_time": "2024-09-19T09:10:05.761493",
     "status": "completed"
    },
    "tags": []
   },
   "outputs": [
    {
     "data": {
      "image/png": "[encoded data removed]",
      "text/plain": [
       "<Figure size 1000x600 with 1 Axes>"
      ]
     },
     "metadata": {},
     "output_type": "display_data"
    }
   ],
   "source": [
    "emotion_counts = df['emotion_label'].value_counts()\n",
    "\n",
    "plt.figure(figsize=(10, 6))\n",
    "emotion_counts.plot(kind='bar', color='skyblue', edgecolor='k')\n",
    "plt.title('Distribution of Emotions in Customer Reviews')\n",
    "plt.xlabel('Emotion')\n",
    "plt.ylabel('Number of Reviews')\n",
    "plt.xticks(rotation=45)\n",
    "plt.grid(axis='y', linestyle='--', alpha=0.7)\n",
    "plt.show()\n"
   ]
  },
  {
   "cell_type": "code",
   "execution_count": 57,
   "id": "92de68b3",
   "metadata": {
    "execution": {
     "iopub.execute_input": "2024-09-19T09:10:06.111918Z",
     "iopub.status.busy": "2024-09-19T09:10:06.111424Z",
     "iopub.status.idle": "2024-09-19T09:10:07.915363Z",
     "shell.execute_reply": "2024-09-19T09:10:07.913983Z"
    },
    "papermill": {
     "duration": 1.8378,
     "end_time": "2024-09-19T09:10:07.918174",
     "exception": false,
     "start_time": "2024-09-19T09:10:06.080374",
     "status": "completed"
    },
    "tags": []
   },
   "outputs": [
    {
     "data": {
      "image/png": "[encoded data removed]",
      "text/plain": [
       "<Figure size 1000x500 with 1 Axes>"
      ]
     },
     "metadata": {},
     "output_type": "display_data"
    },
    {
     "data": {
      "image/png": "[encoded data removed]",
      "text/plain": [
       "<Figure size 1000x500 with 1 Axes>"
      ]
     },
     "metadata": {},
     "output_type": "display_data"
    },
    {
     "data": {
      "image/png": "[encoded data removed]",
      "text/plain": [
       "<Figure size 1000x500 with 1 Axes>"
      ]
     },
     "metadata": {},
     "output_type": "display_data"
    }
   ],
   "source": [
    "def plot_wordcloud(emotion):\n",
    "    text = ' '.join(df[df['emotion_label'] == emotion]['Cleaned_Reviews'])\n",
    "    wordcloud = WordCloud(width=800, height=400, background_color='white').generate(text)\n",
    "    \n",
    "    plt.figure(figsize=(10, 5))\n",
    "    plt.imshow(wordcloud, interpolation='bilinear')\n",
    "    plt.axis('off')\n",
    "    plt.title(f'Word Cloud for {emotion}')\n",
    "    plt.show()\n",
    "\n",
    "for emotion in df['emotion_label'].unique():\n",
    "    plot_wordcloud(emotion)"
   ]
  },
  {
   "cell_type": "code",
   "execution_count": null,
   "id": "65e16327",
   "metadata": {
    "papermill": {
     "duration": 0.036084,
     "end_time": "2024-09-19T09:10:07.991235",
     "exception": false,
     "start_time": "2024-09-19T09:10:07.955151",
     "status": "completed"
    },
    "tags": []
   },
   "outputs": [],
   "source": []
  }
 ],
 "metadata": {
  "kaggle": {
   "accelerator": "none",
   "dataSources": [
    {
     "datasetId": 5606743,
     "sourceId": 9265317,
     "sourceType": "datasetVersion"
    }
   ],
   "dockerImageVersionId": 30761,
   "isGpuEnabled": false,
   "isInternetEnabled": true,
   "language": "python",
   "sourceType": "notebook"
  },
  "kernelspec": {
   "display_name": "Python 3",
   "language": "python",
   "name": "python3"
  },
  "language_info": {
   "codemirror_mode": {
    "name": "ipython",
    "version": 3
   },
   "file_extension": ".py",
   "mimetype": "text/x-python",
   "name": "python",
   "nbconvert_exporter": "python",
   "pygments_lexer": "ipython3",
   "version": "3.10.14"
  },
  "papermill": {
   "default_parameters": {},
   "duration": 56.996082,
   "end_time": "2024-09-19T09:10:11.335434",
   "environment_variables": {},
   "exception": null,
   "input_path": "__notebook__.ipynb",
   "output_path": "__notebook__.ipynb",
   "parameters": {},
   "start_time": "2024-09-19T09:09:14.339352",
   "version": "2.6.0"
  },
  "widgets": {
   "application/vnd.jupyter.widget-state+json": {
    "state": {
     "0395d85685004d84af91020417f47579": {
      "model_module": "@jupyter-widgets/controls",
      "model_module_version": "1.5.0",
      "model_name": "DescriptionStyleModel",
      "state": {
       "_model_module": "@jupyter-widgets/controls",
       "_model_module_version": "1.5.0",
       "_model_name": "DescriptionStyleModel",
       "_view_count": null,
       "_view_module": "@jupyter-widgets/base",
       "_view_module_version": "1.2.0",
       "_view_name": "StyleView",
       "description_width": ""
      }
     },
     "046b8b19c4a34c6da9c604ef59db1aaf": {
      "model_module": "@jupyter-widgets/controls",
      "model_module_version": "1.5.0",
      "model_name": "HTMLModel",
      "state": {
       "_dom_classes": [],
       "_model_module": "@jupyter-widgets/controls",
       "_model_module_version": "1.5.0",
       "_model_name": "HTMLModel",
       "_view_count": null,
       "_view_module": "@jupyter-widgets/controls",
       "_view_module_version": "1.5.0",
       "_view_name": "HTMLView",
       "description": "",
       "description_tooltip": null,
       "layout": "IPY_MODEL_5d82118c94054e25b934ef6b442f4418",
       "placeholder": "​",
       "style": "IPY_MODEL_91373f7ca03f4f6586894f951ea8867e",
       "value": " 112/112 [00:00&lt;00:00, 5.60kB/s]"
      }
     },
     "06f673b1e9ec4da78f8e7f466892f797": {
      "model_module": "@jupyter-widgets/controls",
      "model_module_version": "1.5.0",
      "model_name": "HTMLModel",
      "state": {
       "_dom_classes": [],
       "_model_module": "@jupyter-widgets/controls",
       "_model_module_version": "1.5.0",
       "_model_name": "HTMLModel",
       "_view_count": null,
       "_view_module": "@jupyter-widgets/controls",
       "_view_module_version": "1.5.0",
       "_view_name": "HTMLView",
       "description": "",
       "description_tooltip": null,
       "layout": "IPY_MODEL_0bb3c9ac4bcb46109bce77676894156b",
       "placeholder": "​",
       "style": "IPY_MODEL_0395d85685004d84af91020417f47579",
       "value": " 232k/232k [00:00&lt;00:00, 1.42MB/s]"
      }
     },
     "07a1e8d3eb0b4661b21d961bbba76eb5": {
      "model_module": "@jupyter-widgets/base",
      "model_module_version": "1.2.0",
      "model_name": "LayoutModel",
      "state": {
       "_model_module": "@jupyter-widgets/base",
       "_model_module_version": "1.2.0",
       "_model_name": "LayoutModel",
       "_view_count": null,
       "_view_module": "@jupyter-widgets/base",
       "_view_module_version": "1.2.0",
       "_view_name": "LayoutView",
       "align_content": null,
       "align_items": null,
       "align_self": null,
       "border": null,
       "bottom": null,
       "display": null,
       "flex": null,
       "flex_flow": null,
       "grid_area": null,
       "grid_auto_columns": null,
       "grid_auto_flow": null,
       "grid_auto_rows": null,
       "grid_column": null,
       "grid_gap": null,
       "grid_row": null,
       "grid_template_areas": null,
       "grid_template_columns": null,
       "grid_template_rows": null,
       "height": null,
       "justify_content": null,
       "justify_items": null,
       "left": null,
       "margin": null,
       "max_height": null,
       "max_width": null,
       "min_height": null,
       "min_width": null,
       "object_fit": null,
       "object_position": null,
       "order": null,
       "overflow": null,
       "overflow_x": null,
       "overflow_y": null,
       "padding": null,
       "right": null,
       "top": null,
       "visibility": null,
       "width": null
      }
     },
     "0bb3c9ac4bcb46109bce77676894156b": {
      "model_module": "@jupyter-widgets/base",
      "model_module_version": "1.2.0",
      "model_name": "LayoutModel",
      "state": {
       "_model_module": "@jupyter-widgets/base",
       "_model_module_version": "1.2.0",
       "_model_name": "LayoutModel",
       "_view_count": null,
       "_view_module": "@jupyter-widgets/base",
       "_view_module_version": "1.2.0",
       "_view_name": "LayoutView",
       "align_content": null,
       "align_items": null,
       "align_self": null,
       "border": null,
       "bottom": null,
       "display": null,
       "flex": null,
       "flex_flow": null,
       "grid_area": null,
       "grid_auto_columns": null,
       "grid_auto_flow": null,
       "grid_auto_rows": null,
       "grid_column": null,
       "grid_gap": null,
       "grid_row": null,
       "grid_template_areas": null,
       "grid_template_columns": null,
       "grid_template_rows": null,
       "height": null,
       "justify_content": null,
       "justify_items": null,
       "left": null,
       "margin": null,
       "max_height": null,
       "max_width": null,
       "min_height": null,
       "min_width": null,
       "object_fit": null,
       "object_position": null,
       "order": null,
       "overflow": null,
       "overflow_x": null,
       "overflow_y": null,
       "padding": null,
       "right": null,
       "top": null,
       "visibility": null,
       "width": null
      }
     },
     "0ca51a10520341fa991ce94353457274": {
      "model_module": "@jupyter-widgets/controls",
      "model_module_version": "1.5.0",
      "model_name": "ProgressStyleModel",
      "state": {
       "_model_module": "@jupyter-widgets/controls",
       "_model_module_version": "1.5.0",
       "_model_name": "ProgressStyleModel",
       "_view_count": null,
       "_view_module": "@jupyter-widgets/base",
       "_view_module_version": "1.2.0",
       "_view_name": "StyleView",
       "bar_color": null,
       "description_width": ""
      }
     },
     "0e75365105634facad059dfb716f0f87": {
      "model_module": "@jupyter-widgets/base",
      "model_module_version": "1.2.0",
      "model_name": "LayoutModel",
      "state": {
       "_model_module": "@jupyter-widgets/base",
       "_model_module_version": "1.2.0",
       "_model_name": "LayoutModel",
       "_view_count": null,
       "_view_module": "@jupyter-widgets/base",
       "_view_module_version": "1.2.0",
       "_view_name": "LayoutView",
       "align_content": null,
       "align_items": null,
       "align_self": null,
       "border": null,
       "bottom": null,
       "display": null,
       "flex": null,
       "flex_flow": null,
       "grid_area": null,
       "grid_auto_columns": null,
       "grid_auto_flow": null,
       "grid_auto_rows": null,
       "grid_column": null,
       "grid_gap": null,
       "grid_row": null,
       "grid_template_areas": null,
       "grid_template_columns": null,
       "grid_template_rows": null,
       "height": null,
       "justify_content": null,
       "justify_items": null,
       "left": null,
       "margin": null,
       "max_height": null,
       "max_width": null,
       "min_height": null,
       "min_width": null,
       "object_fit": null,
       "object_position": null,
       "order": null,
       "overflow": null,
       "overflow_x": null,
       "overflow_y": null,
       "padding": null,
       "right": null,
       "top": null,
       "visibility": null,
       "width": null
      }
     },
     "0ed9aa04464a4d059dc8c9321942b946": {
      "model_module": "@jupyter-widgets/controls",
      "model_module_version": "1.5.0",
      "model_name": "DescriptionStyleModel",
      "state": {
       "_model_module": "@jupyter-widgets/controls",
       "_model_module_version": "1.5.0",
       "_model_name": "DescriptionStyleModel",
       "_view_count": null,
       "_view_module": "@jupyter-widgets/base",
       "_view_module_version": "1.2.0",
       "_view_name": "StyleView",
       "description_width": ""
      }
     },
     "18692c5f7be94449a21858d8d5cf4b26": {
      "model_module": "@jupyter-widgets/controls",
      "model_module_version": "1.5.0",
      "model_name": "DescriptionStyleModel",
      "state": {
       "_model_module": "@jupyter-widgets/controls",
       "_model_module_version": "1.5.0",
       "_model_name": "DescriptionStyleModel",
       "_view_count": null,
       "_view_module": "@jupyter-widgets/base",
       "_view_module_version": "1.2.0",
       "_view_name": "StyleView",
       "description_width": ""
      }
     },
     "18bbdc42081a4f5f8306e8b5c3ef04d6": {
      "model_module": "@jupyter-widgets/base",
      "model_module_version": "1.2.0",
      "model_name": "LayoutModel",
      "state": {
       "_model_module": "@jupyter-widgets/base",
       "_model_module_version": "1.2.0",
       "_model_name": "LayoutModel",
       "_view_count": null,
       "_view_module": "@jupyter-widgets/base",
       "_view_module_version": "1.2.0",
       "_view_name": "LayoutView",
       "align_content": null,
       "align_items": null,
       "align_self": null,
       "border": null,
       "bottom": null,
       "display": null,
       "flex": null,
       "flex_flow": null,
       "grid_area": null,
       "grid_auto_columns": null,
       "grid_auto_flow": null,
       "grid_auto_rows": null,
       "grid_column": null,
       "grid_gap": null,
       "grid_row": null,
       "grid_template_areas": null,
       "grid_template_columns": null,
       "grid_template_rows": null,
       "height": null,
       "justify_content": null,
       "justify_items": null,
       "left": null,
       "margin": null,
       "max_height": null,
       "max_width": null,
       "min_height": null,
       "min_width": null,
       "object_fit": null,
       "object_position": null,
       "order": null,
       "overflow": null,
       "overflow_x": null,
       "overflow_y": null,
       "padding": null,
       "right": null,
       "top": null,
       "visibility": null,
       "width": null
      }
     },
     "19c7c91326f44deea1ab05bbadf1b7e3": {
      "model_module": "@jupyter-widgets/controls",
      "model_module_version": "1.5.0",
      "model_name": "HTMLModel",
      "state": {
       "_dom_classes": [],
       "_model_module": "@jupyter-widgets/controls",
       "_model_module_version": "1.5.0",
       "_model_name": "HTMLModel",
       "_view_count": null,
       "_view_module": "@jupyter-widgets/controls",
       "_view_module_version": "1.5.0",
       "_view_name": "HTMLView",
       "description": "",
       "description_tooltip": null,
       "layout": "IPY_MODEL_8d430a13b246493494f41501ed475d49",
       "placeholder": "​",
       "style": "IPY_MODEL_0ed9aa04464a4d059dc8c9321942b946",
       "value": "vocab.txt: 100%"
      }
     },
     "1aa5d28688eb4b9c98567af6312ee033": {
      "model_module": "@jupyter-widgets/controls",
      "model_module_version": "1.5.0",
      "model_name": "ProgressStyleModel",
      "state": {
       "_model_module": "@jupyter-widgets/controls",
       "_model_module_version": "1.5.0",
       "_model_name": "ProgressStyleModel",
       "_view_count": null,
       "_view_module": "@jupyter-widgets/base",
       "_view_module_version": "1.2.0",
       "_view_name": "StyleView",
       "bar_color": null,
       "description_width": ""
      }
     },
     "1fa4414e498540f393f8ab75d96e4ed1": {
      "model_module": "@jupyter-widgets/controls",
      "model_module_version": "1.5.0",
      "model_name": "DescriptionStyleModel",
      "state": {
       "_model_module": "@jupyter-widgets/controls",
       "_model_module_version": "1.5.0",
       "_model_name": "DescriptionStyleModel",
       "_view_count": null,
       "_view_module": "@jupyter-widgets/base",
       "_view_module_version": "1.2.0",
       "_view_name": "StyleView",
       "description_width": ""
      }
     },
     "1fa48bd9593044ea8254514bf5199f6e": {
      "model_module": "@jupyter-widgets/controls",
      "model_module_version": "1.5.0",
      "model_name": "HBoxModel",
      "state": {
       "_dom_classes": [],
       "_model_module": "@jupyter-widgets/controls",
       "_model_module_version": "1.5.0",
       "_model_name": "HBoxModel",
       "_view_count": null,
       "_view_module": "@jupyter-widgets/controls",
       "_view_module_version": "1.5.0",
       "_view_name": "HBoxView",
       "box_style": "",
       "children": [
        "IPY_MODEL_30cb138db4914b4e8c25da726ed0125f",
        "IPY_MODEL_2979397b620f4e58bc085ef153d51a3d",
        "IPY_MODEL_9cb465e5c86542aa8b91d924246b25e6"
       ],
       "layout": "IPY_MODEL_39762c3892dd4423a884fa1f81b5a113"
      }
     },
     "1feceb01dff74dbaa21a82986644fd9f": {
      "model_module": "@jupyter-widgets/base",
      "model_module_version": "1.2.0",
      "model_name": "LayoutModel",
      "state": {
       "_model_module": "@jupyter-widgets/base",
       "_model_module_version": "1.2.0",
       "_model_name": "LayoutModel",
       "_view_count": null,
       "_view_module": "@jupyter-widgets/base",
       "_view_module_version": "1.2.0",
       "_view_name": "LayoutView",
       "align_content": null,
       "align_items": null,
       "align_self": null,
       "border": null,
       "bottom": null,
       "display": null,
       "flex": null,
       "flex_flow": null,
       "grid_area": null,
       "grid_auto_columns": null,
       "grid_auto_flow": null,
       "grid_auto_rows": null,
       "grid_column": null,
       "grid_gap": null,
       "grid_row": null,
       "grid_template_areas": null,
       "grid_template_columns": null,
       "grid_template_rows": null,
       "height": null,
       "justify_content": null,
       "justify_items": null,
       "left": null,
       "margin": null,
       "max_height": null,
       "max_width": null,
       "min_height": null,
       "min_width": null,
       "object_fit": null,
       "object_position": null,
       "order": null,
       "overflow": null,
       "overflow_x": null,
       "overflow_y": null,
       "padding": null,
       "right": null,
       "top": null,
       "visibility": null,
       "width": null
      }
     },
     "221629563ced46afb45e33831aad2e7b": {
      "model_module": "@jupyter-widgets/controls",
      "model_module_version": "1.5.0",
      "model_name": "DescriptionStyleModel",
      "state": {
       "_model_module": "@jupyter-widgets/controls",
       "_model_module_version": "1.5.0",
       "_model_name": "DescriptionStyleModel",
       "_view_count": null,
       "_view_module": "@jupyter-widgets/base",
       "_view_module_version": "1.2.0",
       "_view_name": "StyleView",
       "description_width": ""
      }
     },
     "23883ad1080e4aaebda1966c936bf993": {
      "model_module": "@jupyter-widgets/controls",
      "model_module_version": "1.5.0",
      "model_name": "HTMLModel",
      "state": {
       "_dom_classes": [],
       "_model_module": "@jupyter-widgets/controls",
       "_model_module_version": "1.5.0",
       "_model_name": "HTMLModel",
       "_view_count": null,
       "_view_module": "@jupyter-widgets/controls",
       "_view_module_version": "1.5.0",
       "_view_name": "HTMLView",
       "description": "",
       "description_tooltip": null,
       "layout": "IPY_MODEL_07a1e8d3eb0b4661b21d961bbba76eb5",
       "placeholder": "​",
       "style": "IPY_MODEL_d70f5500423e49d7937077c5191102ac",
       "value": " 268M/268M [00:01&lt;00:00, 296MB/s]"
      }
     },
     "24058f6808154b0dbc8ffc3d2936b3cf": {
      "model_module": "@jupyter-widgets/base",
      "model_module_version": "1.2.0",
      "model_name": "LayoutModel",
      "state": {
       "_model_module": "@jupyter-widgets/base",
       "_model_module_version": "1.2.0",
       "_model_name": "LayoutModel",
       "_view_count": null,
       "_view_module": "@jupyter-widgets/base",
       "_view_module_version": "1.2.0",
       "_view_name": "LayoutView",
       "align_content": null,
       "align_items": null,
       "align_self": null,
       "border": null,
       "bottom": null,
       "display": null,
       "flex": null,
       "flex_flow": null,
       "grid_area": null,
       "grid_auto_columns": null,
       "grid_auto_flow": null,
       "grid_auto_rows": null,
       "grid_column": null,
       "grid_gap": null,
       "grid_row": null,
       "grid_template_areas": null,
       "grid_template_columns": null,
       "grid_template_rows": null,
       "height": null,
       "justify_content": null,
       "justify_items": null,
       "left": null,
       "margin": null,
       "max_height": null,
       "max_width": null,
       "min_height": null,
       "min_width": null,
       "object_fit": null,
       "object_position": null,
       "order": null,
       "overflow": null,
       "overflow_x": null,
       "overflow_y": null,
       "padding": null,
       "right": null,
       "top": null,
       "visibility": null,
       "width": null
      }
     },
     "25a5956dfef94515b47d6ae870028dd2": {
      "model_module": "@jupyter-widgets/base",
      "model_module_version": "1.2.0",
      "model_name": "LayoutModel",
      "state": {
       "_model_module": "@jupyter-widgets/base",
       "_model_module_version": "1.2.0",
       "_model_name": "LayoutModel",
       "_view_count": null,
       "_view_module": "@jupyter-widgets/base",
       "_view_module_version": "1.2.0",
       "_view_name": "LayoutView",
       "align_content": null,
       "align_items": null,
       "align_self": null,
       "border": null,
       "bottom": null,
       "display": null,
       "flex": null,
       "flex_flow": null,
       "grid_area": null,
       "grid_auto_columns": null,
       "grid_auto_flow": null,
       "grid_auto_rows": null,
       "grid_column": null,
       "grid_gap": null,
       "grid_row": null,
       "grid_template_areas": null,
       "grid_template_columns": null,
       "grid_template_rows": null,
       "height": null,
       "justify_content": null,
       "justify_items": null,
       "left": null,
       "margin": null,
       "max_height": null,
       "max_width": null,
       "min_height": null,
       "min_width": null,
       "object_fit": null,
       "object_position": null,
       "order": null,
       "overflow": null,
       "overflow_x": null,
       "overflow_y": null,
       "padding": null,
       "right": null,
       "top": null,
       "visibility": null,
       "width": null
      }
     },
     "284731501c6245b0a31bfc3e691537ce": {
      "model_module": "@jupyter-widgets/controls",
      "model_module_version": "1.5.0",
      "model_name": "DescriptionStyleModel",
      "state": {
       "_model_module": "@jupyter-widgets/controls",
       "_model_module_version": "1.5.0",
       "_model_name": "DescriptionStyleModel",
       "_view_count": null,
       "_view_module": "@jupyter-widgets/base",
       "_view_module_version": "1.2.0",
       "_view_name": "StyleView",
       "description_width": ""
      }
     },
     "2979397b620f4e58bc085ef153d51a3d": {
      "model_module": "@jupyter-widgets/controls",
      "model_module_version": "1.5.0",
      "model_name": "FloatProgressModel",
      "state": {
       "_dom_classes": [],
       "_model_module": "@jupyter-widgets/controls",
       "_model_module_version": "1.5.0",
       "_model_name": "FloatProgressModel",
       "_view_count": null,
       "_view_module": "@jupyter-widgets/controls",
       "_view_module_version": "1.5.0",
       "_view_name": "ProgressView",
       "bar_style": "success",
       "description": "",
       "description_tooltip": null,
       "layout": "IPY_MODEL_94a9ac467065474580f931fca1b7d84b",
       "max": 466248.0,
       "min": 0.0,
       "orientation": "horizontal",
       "style": "IPY_MODEL_87b0f342e0f84551a6ebdf428f7fa955",
       "value": 466248.0
      }
     },
     "2a7d1b4e1a5540d4be9f1314dad788c6": {
      "model_module": "@jupyter-widgets/controls",
      "model_module_version": "1.5.0",
      "model_name": "FloatProgressModel",
      "state": {
       "_dom_classes": [],
       "_model_module": "@jupyter-widgets/controls",
       "_model_module_version": "1.5.0",
       "_model_name": "FloatProgressModel",
       "_view_count": null,
       "_view_module": "@jupyter-widgets/controls",
       "_view_module_version": "1.5.0",
       "_view_name": "ProgressView",
       "bar_style": "success",
       "description": "",
       "description_tooltip": null,
       "layout": "IPY_MODEL_ab4de0944d8445759a32f3dff08a2712",
       "max": 48.0,
       "min": 0.0,
       "orientation": "horizontal",
       "style": "IPY_MODEL_5f1fc23854934286b0b5bc682fbe69d5",
       "value": 48.0
      }
     },
     "2cb6be75c2204e7cb5844da8262779b5": {
      "model_module": "@jupyter-widgets/controls",
      "model_module_version": "1.5.0",
      "model_name": "ProgressStyleModel",
      "state": {
       "_model_module": "@jupyter-widgets/controls",
       "_model_module_version": "1.5.0",
       "_model_name": "ProgressStyleModel",
       "_view_count": null,
       "_view_module": "@jupyter-widgets/base",
       "_view_module_version": "1.2.0",
       "_view_name": "StyleView",
       "bar_color": null,
       "description_width": ""
      }
     },
     "30cb138db4914b4e8c25da726ed0125f": {
      "model_module": "@jupyter-widgets/controls",
      "model_module_version": "1.5.0",
      "model_name": "HTMLModel",
      "state": {
       "_dom_classes": [],
       "_model_module": "@jupyter-widgets/controls",
       "_model_module_version": "1.5.0",
       "_model_name": "HTMLModel",
       "_view_count": null,
       "_view_module": "@jupyter-widgets/controls",
       "_view_module_version": "1.5.0",
       "_view_name": "HTMLView",
       "description": "",
       "description_tooltip": null,
       "layout": "IPY_MODEL_c61ccf2df1f443b59ace8a8a5e5fac24",
       "placeholder": "​",
       "style": "IPY_MODEL_f57319e266b448d89ce347f77da3f979",
       "value": "tokenizer.json: 100%"
      }
     },
     "32388f32831e4711887da1ec1bbf7a96": {
      "model_module": "@jupyter-widgets/controls",
      "model_module_version": "1.5.0",
      "model_name": "HTMLModel",
      "state": {
       "_dom_classes": [],
       "_model_module": "@jupyter-widgets/controls",
       "_model_module_version": "1.5.0",
       "_model_name": "HTMLModel",
       "_view_count": null,
       "_view_module": "@jupyter-widgets/controls",
       "_view_module_version": "1.5.0",
       "_view_name": "HTMLView",
       "description": "",
       "description_tooltip": null,
       "layout": "IPY_MODEL_5aea291a69f8446aa6e6e51c52c628b2",
       "placeholder": "​",
       "style": "IPY_MODEL_284731501c6245b0a31bfc3e691537ce",
       "value": "config.json: 100%"
      }
     },
     "3886548d481248f9a81f27ca876dcad0": {
      "model_module": "@jupyter-widgets/controls",
      "model_module_version": "1.5.0",
      "model_name": "HTMLModel",
      "state": {
       "_dom_classes": [],
       "_model_module": "@jupyter-widgets/controls",
       "_model_module_version": "1.5.0",
       "_model_name": "HTMLModel",
       "_view_count": null,
       "_view_module": "@jupyter-widgets/controls",
       "_view_module_version": "1.5.0",
       "_view_name": "HTMLView",
       "description": "",
       "description_tooltip": null,
       "layout": "IPY_MODEL_9369a13554d44372b1a9bb6cc916e612",
       "placeholder": "​",
       "style": "IPY_MODEL_1fa4414e498540f393f8ab75d96e4ed1",
       "value": "config.json: 100%"
      }
     },
     "39762c3892dd4423a884fa1f81b5a113": {
      "model_module": "@jupyter-widgets/base",
      "model_module_version": "1.2.0",
      "model_name": "LayoutModel",
      "state": {
       "_model_module": "@jupyter-widgets/base",
       "_model_module_version": "1.2.0",
       "_model_name": "LayoutModel",
       "_view_count": null,
       "_view_module": "@jupyter-widgets/base",
       "_view_module_version": "1.2.0",
       "_view_name": "LayoutView",
       "align_content": null,
       "align_items": null,
       "align_self": null,
       "border": null,
       "bottom": null,
       "display": null,
       "flex": null,
       "flex_flow": null,
       "grid_area": null,
       "grid_auto_columns": null,
       "grid_auto_flow": null,
       "grid_auto_rows": null,
       "grid_column": null,
       "grid_gap": null,
       "grid_row": null,
       "grid_template_areas": null,
       "grid_template_columns": null,
       "grid_template_rows": null,
       "height": null,
       "justify_content": null,
       "justify_items": null,
       "left": null,
       "margin": null,
       "max_height": null,
       "max_width": null,
       "min_height": null,
       "min_width": null,
       "object_fit": null,
       "object_position": null,
       "order": null,
       "overflow": null,
       "overflow_x": null,
       "overflow_y": null,
       "padding": null,
       "right": null,
       "top": null,
       "visibility": null,
       "width": null
      }
     },
     "3ae54656d48d48008143173892d00c48": {
      "model_module": "@jupyter-widgets/base",
      "model_module_version": "1.2.0",
      "model_name": "LayoutModel",
      "state": {
       "_model_module": "@jupyter-widgets/base",
       "_model_module_version": "1.2.0",
       "_model_name": "LayoutModel",
       "_view_count": null,
       "_view_module": "@jupyter-widgets/base",
       "_view_module_version": "1.2.0",
       "_view_name": "LayoutView",
       "align_content": null,
       "align_items": null,
       "align_self": null,
       "border": null,
       "bottom": null,
       "display": null,
       "flex": null,
       "flex_flow": null,
       "grid_area": null,
       "grid_auto_columns": null,
       "grid_auto_flow": null,
       "grid_auto_rows": null,
       "grid_column": null,
       "grid_gap": null,
       "grid_row": null,
       "grid_template_areas": null,
       "grid_template_columns": null,
       "grid_template_rows": null,
       "height": null,
       "justify_content": null,
       "justify_items": null,
       "left": null,
       "margin": null,
       "max_height": null,
       "max_width": null,
       "min_height": null,
       "min_width": null,
       "object_fit": null,
       "object_position": null,
       "order": null,
       "overflow": null,
       "overflow_x": null,
       "overflow_y": null,
       "padding": null,
       "right": null,
       "top": null,
       "visibility": null,
       "width": null
      }
     },
     "3d4319e61dae401297ca84f902e19d93": {
      "model_module": "@jupyter-widgets/controls",
      "model_module_version": "1.5.0",
      "model_name": "ProgressStyleModel",
      "state": {
       "_model_module": "@jupyter-widgets/controls",
       "_model_module_version": "1.5.0",
       "_model_name": "ProgressStyleModel",
       "_view_count": null,
       "_view_module": "@jupyter-widgets/base",
       "_view_module_version": "1.2.0",
       "_view_name": "StyleView",
       "bar_color": null,
       "description_width": ""
      }
     },
     "4031e4065ee84e088d2884b44efcaa07": {
      "model_module": "@jupyter-widgets/controls",
      "model_module_version": "1.5.0",
      "model_name": "ProgressStyleModel",
      "state": {
       "_model_module": "@jupyter-widgets/controls",
       "_model_module_version": "1.5.0",
       "_model_name": "ProgressStyleModel",
       "_view_count": null,
       "_view_module": "@jupyter-widgets/base",
       "_view_module_version": "1.2.0",
       "_view_name": "StyleView",
       "bar_color": null,
       "description_width": ""
      }
     },
     "407ad113ae5c4c7488ac5d0f458c0982": {
      "model_module": "@jupyter-widgets/controls",
      "model_module_version": "1.5.0",
      "model_name": "DescriptionStyleModel",
      "state": {
       "_model_module": "@jupyter-widgets/controls",
       "_model_module_version": "1.5.0",
       "_model_name": "DescriptionStyleModel",
       "_view_count": null,
       "_view_module": "@jupyter-widgets/base",
       "_view_module_version": "1.2.0",
       "_view_name": "StyleView",
       "description_width": ""
      }
     },
     "4122969728094eaaa22088cc8c953276": {
      "model_module": "@jupyter-widgets/controls",
      "model_module_version": "1.5.0",
      "model_name": "HTMLModel",
      "state": {
       "_dom_classes": [],
       "_model_module": "@jupyter-widgets/controls",
       "_model_module_version": "1.5.0",
       "_model_name": "HTMLModel",
       "_view_count": null,
       "_view_module": "@jupyter-widgets/controls",
       "_view_module_version": "1.5.0",
       "_view_name": "HTMLView",
       "description": "",
       "description_tooltip": null,
       "layout": "IPY_MODEL_d7a615b14915474192a64b3a235dbac0",
       "placeholder": "​",
       "style": "IPY_MODEL_cb5b3b4423ac4c75903404c1f13ae88a",
       "value": " 629/629 [00:00&lt;00:00, 36.7kB/s]"
      }
     },
     "482ff9670ed342dc894674da840820f1": {
      "model_module": "@jupyter-widgets/base",
      "model_module_version": "1.2.0",
      "model_name": "LayoutModel",
      "state": {
       "_model_module": "@jupyter-widgets/base",
       "_model_module_version": "1.2.0",
       "_model_name": "LayoutModel",
       "_view_count": null,
       "_view_module": "@jupyter-widgets/base",
       "_view_module_version": "1.2.0",
       "_view_name": "LayoutView",
       "align_content": null,
       "align_items": null,
       "align_self": null,
       "border": null,
       "bottom": null,
       "display": null,
       "flex": null,
       "flex_flow": null,
       "grid_area": null,
       "grid_auto_columns": null,
       "grid_auto_flow": null,
       "grid_auto_rows": null,
       "grid_column": null,
       "grid_gap": null,
       "grid_row": null,
       "grid_template_areas": null,
       "grid_template_columns": null,
       "grid_template_rows": null,
       "height": null,
       "justify_content": null,
       "justify_items": null,
       "left": null,
       "margin": null,
       "max_height": null,
       "max_width": null,
       "min_height": null,
       "min_width": null,
       "object_fit": null,
       "object_position": null,
       "order": null,
       "overflow": null,
       "overflow_x": null,
       "overflow_y": null,
       "padding": null,
       "right": null,
       "top": null,
       "visibility": null,
       "width": null
      }
     },
     "4991351067c64b839d5d7e820e7b8bf3": {
      "model_module": "@jupyter-widgets/base",
      "model_module_version": "1.2.0",
      "model_name": "LayoutModel",
      "state": {
       "_model_module": "@jupyter-widgets/base",
       "_model_module_version": "1.2.0",
       "_model_name": "LayoutModel",
       "_view_count": null,
       "_view_module": "@jupyter-widgets/base",
       "_view_module_version": "1.2.0",
       "_view_name": "LayoutView",
       "align_content": null,
       "align_items": null,
       "align_self": null,
       "border": null,
       "bottom": null,
       "display": null,
       "flex": null,
       "flex_flow": null,
       "grid_area": null,
       "grid_auto_columns": null,
       "grid_auto_flow": null,
       "grid_auto_rows": null,
       "grid_column": null,
       "grid_gap": null,
       "grid_row": null,
       "grid_template_areas": null,
       "grid_template_columns": null,
       "grid_template_rows": null,
       "height": null,
       "justify_content": null,
       "justify_items": null,
       "left": null,
       "margin": null,
       "max_height": null,
       "max_width": null,
       "min_height": null,
       "min_width": null,
       "object_fit": null,
       "object_position": null,
       "order": null,
       "overflow": null,
       "overflow_x": null,
       "overflow_y": null,
       "padding": null,
       "right": null,
       "top": null,
       "visibility": null,
       "width": null
      }
     },
     "4d07e8fa209b497b973db4cd105c8f90": {
      "model_module": "@jupyter-widgets/controls",
      "model_module_version": "1.5.0",
      "model_name": "DescriptionStyleModel",
      "state": {
       "_model_module": "@jupyter-widgets/controls",
       "_model_module_version": "1.5.0",
       "_model_name": "DescriptionStyleModel",
       "_view_count": null,
       "_view_module": "@jupyter-widgets/base",
       "_view_module_version": "1.2.0",
       "_view_name": "StyleView",
       "description_width": ""
      }
     },
     "577626b12a6f4829bdef7d0a484f0c50": {
      "model_module": "@jupyter-widgets/base",
      "model_module_version": "1.2.0",
      "model_name": "LayoutModel",
      "state": {
       "_model_module": "@jupyter-widgets/base",
       "_model_module_version": "1.2.0",
       "_model_name": "LayoutModel",
       "_view_count": null,
       "_view_module": "@jupyter-widgets/base",
       "_view_module_version": "1.2.0",
       "_view_name": "LayoutView",
       "align_content": null,
       "align_items": null,
       "align_self": null,
       "border": null,
       "bottom": null,
       "display": null,
       "flex": null,
       "flex_flow": null,
       "grid_area": null,
       "grid_auto_columns": null,
       "grid_auto_flow": null,
       "grid_auto_rows": null,
       "grid_column": null,
       "grid_gap": null,
       "grid_row": null,
       "grid_template_areas": null,
       "grid_template_columns": null,
       "grid_template_rows": null,
       "height": null,
       "justify_content": null,
       "justify_items": null,
       "left": null,
       "margin": null,
       "max_height": null,
       "max_width": null,
       "min_height": null,
       "min_width": null,
       "object_fit": null,
       "object_position": null,
       "order": null,
       "overflow": null,
       "overflow_x": null,
       "overflow_y": null,
       "padding": null,
       "right": null,
       "top": null,
       "visibility": null,
       "width": null
      }
     },
     "57bf5e1d9dba4d4eb98752fbe8a4ce0d": {
      "model_module": "@jupyter-widgets/controls",
      "model_module_version": "1.5.0",
      "model_name": "HBoxModel",
      "state": {
       "_dom_classes": [],
       "_model_module": "@jupyter-widgets/controls",
       "_model_module_version": "1.5.0",
       "_model_name": "HBoxModel",
       "_view_count": null,
       "_view_module": "@jupyter-widgets/controls",
       "_view_module_version": "1.5.0",
       "_view_name": "HBoxView",
       "box_style": "",
       "children": [
        "IPY_MODEL_d3267e76df61470eaa516f379abda012",
        "IPY_MODEL_2a7d1b4e1a5540d4be9f1314dad788c6",
        "IPY_MODEL_80c9dc2c45fd4d8ba50584d224f5a294"
       ],
       "layout": "IPY_MODEL_785544d874b9467287a242a2cfcc4526"
      }
     },
     "5ad9abcd44424b109125ca247a0642b9": {
      "model_module": "@jupyter-widgets/controls",
      "model_module_version": "1.5.0",
      "model_name": "HBoxModel",
      "state": {
       "_dom_classes": [],
       "_model_module": "@jupyter-widgets/controls",
       "_model_module_version": "1.5.0",
       "_model_name": "HBoxModel",
       "_view_count": null,
       "_view_module": "@jupyter-widgets/controls",
       "_view_module_version": "1.5.0",
       "_view_name": "HBoxView",
       "box_style": "",
       "children": [
        "IPY_MODEL_8b18cac1064648379ac6d6d368f4a007",
        "IPY_MODEL_adafa20782684498aff048a3833d3004",
        "IPY_MODEL_23883ad1080e4aaebda1966c936bf993"
       ],
       "layout": "IPY_MODEL_fe473172b6c44720b9a9cc750cc54b96"
      }
     },
     "5aea291a69f8446aa6e6e51c52c628b2": {
      "model_module": "@jupyter-widgets/base",
      "model_module_version": "1.2.0",
      "model_name": "LayoutModel",
      "state": {
       "_model_module": "@jupyter-widgets/base",
       "_model_module_version": "1.2.0",
       "_model_name": "LayoutModel",
       "_view_count": null,
       "_view_module": "@jupyter-widgets/base",
       "_view_module_version": "1.2.0",
       "_view_name": "LayoutView",
       "align_content": null,
       "align_items": null,
       "align_self": null,
       "border": null,
       "bottom": null,
       "display": null,
       "flex": null,
       "flex_flow": null,
       "grid_area": null,
       "grid_auto_columns": null,
       "grid_auto_flow": null,
       "grid_auto_rows": null,
       "grid_column": null,
       "grid_gap": null,
       "grid_row": null,
       "grid_template_areas": null,
       "grid_template_columns": null,
       "grid_template_rows": null,
       "height": null,
       "justify_content": null,
       "justify_items": null,
       "left": null,
       "margin": null,
       "max_height": null,
       "max_width": null,
       "min_height": null,
       "min_width": null,
       "object_fit": null,
       "object_position": null,
       "order": null,
       "overflow": null,
       "overflow_x": null,
       "overflow_y": null,
       "padding": null,
       "right": null,
       "top": null,
       "visibility": null,
       "width": null
      }
     },
     "5b4b6577574e4b11b78eb36be7a8e84a": {
      "model_module": "@jupyter-widgets/controls",
      "model_module_version": "1.5.0",
      "model_name": "FloatProgressModel",
      "state": {
       "_dom_classes": [],
       "_model_module": "@jupyter-widgets/controls",
       "_model_module_version": "1.5.0",
       "_model_name": "FloatProgressModel",
       "_view_count": null,
       "_view_module": "@jupyter-widgets/controls",
       "_view_module_version": "1.5.0",
       "_view_name": "ProgressView",
       "bar_style": "success",
       "description": "",
       "description_tooltip": null,
       "layout": "IPY_MODEL_830560b578254573a78d4ba00ac6328e",
       "max": 935.0,
       "min": 0.0,
       "orientation": "horizontal",
       "style": "IPY_MODEL_cc08fdf0eb2c4080b1032d64b3a9d62a",
       "value": 935.0
      }
     },
     "5d82118c94054e25b934ef6b442f4418": {
      "model_module": "@jupyter-widgets/base",
      "model_module_version": "1.2.0",
      "model_name": "LayoutModel",
      "state": {
       "_model_module": "@jupyter-widgets/base",
       "_model_module_version": "1.2.0",
       "_model_name": "LayoutModel",
       "_view_count": null,
       "_view_module": "@jupyter-widgets/base",
       "_view_module_version": "1.2.0",
       "_view_name": "LayoutView",
       "align_content": null,
       "align_items": null,
       "align_self": null,
       "border": null,
       "bottom": null,
       "display": null,
       "flex": null,
       "flex_flow": null,
       "grid_area": null,
       "grid_auto_columns": null,
       "grid_auto_flow": null,
       "grid_auto_rows": null,
       "grid_column": null,
       "grid_gap": null,
       "grid_row": null,
       "grid_template_areas": null,
       "grid_template_columns": null,
       "grid_template_rows": null,
       "height": null,
       "justify_content": null,
       "justify_items": null,
       "left": null,
       "margin": null,
       "max_height": null,
       "max_width": null,
       "min_height": null,
       "min_width": null,
       "object_fit": null,
       "object_position": null,
       "order": null,
       "overflow": null,
       "overflow_x": null,
       "overflow_y": null,
       "padding": null,
       "right": null,
       "top": null,
       "visibility": null,
       "width": null
      }
     },
     "5f1fc23854934286b0b5bc682fbe69d5": {
      "model_module": "@jupyter-widgets/controls",
      "model_module_version": "1.5.0",
      "model_name": "ProgressStyleModel",
      "state": {
       "_model_module": "@jupyter-widgets/controls",
       "_model_module_version": "1.5.0",
       "_model_name": "ProgressStyleModel",
       "_view_count": null,
       "_view_module": "@jupyter-widgets/base",
       "_view_module_version": "1.2.0",
       "_view_name": "StyleView",
       "bar_color": null,
       "description_width": ""
      }
     },
     "634fe12f28ac4a679a083c65b85d7222": {
      "model_module": "@jupyter-widgets/controls",
      "model_module_version": "1.5.0",
      "model_name": "FloatProgressModel",
      "state": {
       "_dom_classes": [],
       "_model_module": "@jupyter-widgets/controls",
       "_model_module_version": "1.5.0",
       "_model_name": "FloatProgressModel",
       "_view_count": null,
       "_view_module": "@jupyter-widgets/controls",
       "_view_module_version": "1.5.0",
       "_view_name": "ProgressView",
       "bar_style": "success",
       "description": "",
       "description_tooltip": null,
       "layout": "IPY_MODEL_f42a9a29cdda4a3baee2e7df756e11fb",
       "max": 285.0,
       "min": 0.0,
       "orientation": "horizontal",
       "style": "IPY_MODEL_ba16b2338818463e956dd7d5eecdbb42",
       "value": 285.0
      }
     },
     "661f20aab74a4737b177178cc58fa39b": {
      "model_module": "@jupyter-widgets/base",
      "model_module_version": "1.2.0",
      "model_name": "LayoutModel",
      "state": {
       "_model_module": "@jupyter-widgets/base",
       "_model_module_version": "1.2.0",
       "_model_name": "LayoutModel",
       "_view_count": null,
       "_view_module": "@jupyter-widgets/base",
       "_view_module_version": "1.2.0",
       "_view_name": "LayoutView",
       "align_content": null,
       "align_items": null,
       "align_self": null,
       "border": null,
       "bottom": null,
       "display": null,
       "flex": null,
       "flex_flow": null,
       "grid_area": null,
       "grid_auto_columns": null,
       "grid_auto_flow": null,
       "grid_auto_rows": null,
       "grid_column": null,
       "grid_gap": null,
       "grid_row": null,
       "grid_template_areas": null,
       "grid_template_columns": null,
       "grid_template_rows": null,
       "height": null,
       "justify_content": null,
       "justify_items": null,
       "left": null,
       "margin": null,
       "max_height": null,
       "max_width": null,
       "min_height": null,
       "min_width": null,
       "object_fit": null,
       "object_position": null,
       "order": null,
       "overflow": null,
       "overflow_x": null,
       "overflow_y": null,
       "padding": null,
       "right": null,
       "top": null,
       "visibility": null,
       "width": null
      }
     },
     "6ee1cb5143034a2fb489a45e7b091af6": {
      "model_module": "@jupyter-widgets/base",
      "model_module_version": "1.2.0",
      "model_name": "LayoutModel",
      "state": {
       "_model_module": "@jupyter-widgets/base",
       "_model_module_version": "1.2.0",
       "_model_name": "LayoutModel",
       "_view_count": null,
       "_view_module": "@jupyter-widgets/base",
       "_view_module_version": "1.2.0",
       "_view_name": "LayoutView",
       "align_content": null,
       "align_items": null,
       "align_self": null,
       "border": null,
       "bottom": null,
       "display": null,
       "flex": null,
       "flex_flow": null,
       "grid_area": null,
       "grid_auto_columns": null,
       "grid_auto_flow": null,
       "grid_auto_rows": null,
       "grid_column": null,
       "grid_gap": null,
       "grid_row": null,
       "grid_template_areas": null,
       "grid_template_columns": null,
       "grid_template_rows": null,
       "height": null,
       "justify_content": null,
       "justify_items": null,
       "left": null,
       "margin": null,
       "max_height": null,
       "max_width": null,
       "min_height": null,
       "min_width": null,
       "object_fit": null,
       "object_position": null,
       "order": null,
       "overflow": null,
       "overflow_x": null,
       "overflow_y": null,
       "padding": null,
       "right": null,
       "top": null,
       "visibility": null,
       "width": null
      }
     },
     "71cd357d45b445d8a97fe9479cdb4658": {
      "model_module": "@jupyter-widgets/controls",
      "model_module_version": "1.5.0",
      "model_name": "HBoxModel",
      "state": {
       "_dom_classes": [],
       "_model_module": "@jupyter-widgets/controls",
       "_model_module_version": "1.5.0",
       "_model_name": "HBoxModel",
       "_view_count": null,
       "_view_module": "@jupyter-widgets/controls",
       "_view_module_version": "1.5.0",
       "_view_name": "HBoxView",
       "box_style": "",
       "children": [
        "IPY_MODEL_3886548d481248f9a81f27ca876dcad0",
        "IPY_MODEL_5b4b6577574e4b11b78eb36be7a8e84a",
        "IPY_MODEL_bf4aea3ff71b4d9d878db03f3f39839a"
       ],
       "layout": "IPY_MODEL_6ee1cb5143034a2fb489a45e7b091af6"
      }
     },
     "73593c385efe4016860a878aebd77841": {
      "model_module": "@jupyter-widgets/controls",
      "model_module_version": "1.5.0",
      "model_name": "HTMLModel",
      "state": {
       "_dom_classes": [],
       "_model_module": "@jupyter-widgets/controls",
       "_model_module_version": "1.5.0",
       "_model_name": "HTMLModel",
       "_view_count": null,
       "_view_module": "@jupyter-widgets/controls",
       "_view_module_version": "1.5.0",
       "_view_name": "HTMLView",
       "description": "",
       "description_tooltip": null,
       "layout": "IPY_MODEL_d10f66367bd44c87b35e8fcb65428f00",
       "placeholder": "​",
       "style": "IPY_MODEL_9107fd9db194418195fc5468244d216b",
       "value": " 285/285 [00:00&lt;00:00, 15.6kB/s]"
      }
     },
     "785544d874b9467287a242a2cfcc4526": {
      "model_module": "@jupyter-widgets/base",
      "model_module_version": "1.2.0",
      "model_name": "LayoutModel",
      "state": {
       "_model_module": "@jupyter-widgets/base",
       "_model_module_version": "1.2.0",
       "_model_name": "LayoutModel",
       "_view_count": null,
       "_view_module": "@jupyter-widgets/base",
       "_view_module_version": "1.2.0",
       "_view_name": "LayoutView",
       "align_content": null,
       "align_items": null,
       "align_self": null,
       "border": null,
       "bottom": null,
       "display": null,
       "flex": null,
       "flex_flow": null,
       "grid_area": null,
       "grid_auto_columns": null,
       "grid_auto_flow": null,
       "grid_auto_rows": null,
       "grid_column": null,
       "grid_gap": null,
       "grid_row": null,
       "grid_template_areas": null,
       "grid_template_columns": null,
       "grid_template_rows": null,
       "height": null,
       "justify_content": null,
       "justify_items": null,
       "left": null,
       "margin": null,
       "max_height": null,
       "max_width": null,
       "min_height": null,
       "min_width": null,
       "object_fit": null,
       "object_position": null,
       "order": null,
       "overflow": null,
       "overflow_x": null,
       "overflow_y": null,
       "padding": null,
       "right": null,
       "top": null,
       "visibility": null,
       "width": null
      }
     },
     "7e7c92b9f897422dae3dd499cb873855": {
      "model_module": "@jupyter-widgets/controls",
      "model_module_version": "1.5.0",
      "model_name": "DescriptionStyleModel",
      "state": {
       "_model_module": "@jupyter-widgets/controls",
       "_model_module_version": "1.5.0",
       "_model_name": "DescriptionStyleModel",
       "_view_count": null,
       "_view_module": "@jupyter-widgets/base",
       "_view_module_version": "1.2.0",
       "_view_name": "StyleView",
       "description_width": ""
      }
     },
     "7e99a248cbd04ab1b6e64f6766b2ea8c": {
      "model_module": "@jupyter-widgets/controls",
      "model_module_version": "1.5.0",
      "model_name": "HTMLModel",
      "state": {
       "_dom_classes": [],
       "_model_module": "@jupyter-widgets/controls",
       "_model_module_version": "1.5.0",
       "_model_name": "HTMLModel",
       "_view_count": null,
       "_view_module": "@jupyter-widgets/controls",
       "_view_module_version": "1.5.0",
       "_view_name": "HTMLView",
       "description": "",
       "description_tooltip": null,
       "layout": "IPY_MODEL_b205846541a0451cb5694c7efca04209",
       "placeholder": "​",
       "style": "IPY_MODEL_18692c5f7be94449a21858d8d5cf4b26",
       "value": "model.safetensors: 100%"
      }
     },
     "7ed138c6f1b4423abb1c790aefd9ed76": {
      "model_module": "@jupyter-widgets/controls",
      "model_module_version": "1.5.0",
      "model_name": "HBoxModel",
      "state": {
       "_dom_classes": [],
       "_model_module": "@jupyter-widgets/controls",
       "_model_module_version": "1.5.0",
       "_model_name": "HBoxModel",
       "_view_count": null,
       "_view_module": "@jupyter-widgets/controls",
       "_view_module_version": "1.5.0",
       "_view_name": "HBoxView",
       "box_style": "",
       "children": [
        "IPY_MODEL_32388f32831e4711887da1ec1bbf7a96",
        "IPY_MODEL_a0b527e16d464e20935bb08a1b9dacc1",
        "IPY_MODEL_4122969728094eaaa22088cc8c953276"
       ],
       "layout": "IPY_MODEL_4991351067c64b839d5d7e820e7b8bf3"
      }
     },
     "8063c75cf2734c00bdb104bdfca0d16b": {
      "model_module": "@jupyter-widgets/base",
      "model_module_version": "1.2.0",
      "model_name": "LayoutModel",
      "state": {
       "_model_module": "@jupyter-widgets/base",
       "_model_module_version": "1.2.0",
       "_model_name": "LayoutModel",
       "_view_count": null,
       "_view_module": "@jupyter-widgets/base",
       "_view_module_version": "1.2.0",
       "_view_name": "LayoutView",
       "align_content": null,
       "align_items": null,
       "align_self": null,
       "border": null,
       "bottom": null,
       "display": null,
       "flex": null,
       "flex_flow": null,
       "grid_area": null,
       "grid_auto_columns": null,
       "grid_auto_flow": null,
       "grid_auto_rows": null,
       "grid_column": null,
       "grid_gap": null,
       "grid_row": null,
       "grid_template_areas": null,
       "grid_template_columns": null,
       "grid_template_rows": null,
       "height": null,
       "justify_content": null,
       "justify_items": null,
       "left": null,
       "margin": null,
       "max_height": null,
       "max_width": null,
       "min_height": null,
       "min_width": null,
       "object_fit": null,
       "object_position": null,
       "order": null,
       "overflow": null,
       "overflow_x": null,
       "overflow_y": null,
       "padding": null,
       "right": null,
       "top": null,
       "visibility": null,
       "width": null
      }
     },
     "80c9dc2c45fd4d8ba50584d224f5a294": {
      "model_module": "@jupyter-widgets/controls",
      "model_module_version": "1.5.0",
      "model_name": "HTMLModel",
      "state": {
       "_dom_classes": [],
       "_model_module": "@jupyter-widgets/controls",
       "_model_module_version": "1.5.0",
       "_model_name": "HTMLModel",
       "_view_count": null,
       "_view_module": "@jupyter-widgets/controls",
       "_view_module_version": "1.5.0",
       "_view_name": "HTMLView",
       "description": "",
       "description_tooltip": null,
       "layout": "IPY_MODEL_3ae54656d48d48008143173892d00c48",
       "placeholder": "​",
       "style": "IPY_MODEL_4d07e8fa209b497b973db4cd105c8f90",
       "value": " 48.0/48.0 [00:00&lt;00:00, 2.95kB/s]"
      }
     },
     "826dd8f0a7f241b8892858545057d1e7": {
      "model_module": "@jupyter-widgets/base",
      "model_module_version": "1.2.0",
      "model_name": "LayoutModel",
      "state": {
       "_model_module": "@jupyter-widgets/base",
       "_model_module_version": "1.2.0",
       "_model_name": "LayoutModel",
       "_view_count": null,
       "_view_module": "@jupyter-widgets/base",
       "_view_module_version": "1.2.0",
       "_view_name": "LayoutView",
       "align_content": null,
       "align_items": null,
       "align_self": null,
       "border": null,
       "bottom": null,
       "display": null,
       "flex": null,
       "flex_flow": null,
       "grid_area": null,
       "grid_auto_columns": null,
       "grid_auto_flow": null,
       "grid_auto_rows": null,
       "grid_column": null,
       "grid_gap": null,
       "grid_row": null,
       "grid_template_areas": null,
       "grid_template_columns": null,
       "grid_template_rows": null,
       "height": null,
       "justify_content": null,
       "justify_items": null,
       "left": null,
       "margin": null,
       "max_height": null,
       "max_width": null,
       "min_height": null,
       "min_width": null,
       "object_fit": null,
       "object_position": null,
       "order": null,
       "overflow": null,
       "overflow_x": null,
       "overflow_y": null,
       "padding": null,
       "right": null,
       "top": null,
       "visibility": null,
       "width": null
      }
     },
     "830560b578254573a78d4ba00ac6328e": {
      "model_module": "@jupyter-widgets/base",
      "model_module_version": "1.2.0",
      "model_name": "LayoutModel",
      "state": {
       "_model_module": "@jupyter-widgets/base",
       "_model_module_version": "1.2.0",
       "_model_name": "LayoutModel",
       "_view_count": null,
       "_view_module": "@jupyter-widgets/base",
       "_view_module_version": "1.2.0",
       "_view_name": "LayoutView",
       "align_content": null,
       "align_items": null,
       "align_self": null,
       "border": null,
       "bottom": null,
       "display": null,
       "flex": null,
       "flex_flow": null,
       "grid_area": null,
       "grid_auto_columns": null,
       "grid_auto_flow": null,
       "grid_auto_rows": null,
       "grid_column": null,
       "grid_gap": null,
       "grid_row": null,
       "grid_template_areas": null,
       "grid_template_columns": null,
       "grid_template_rows": null,
       "height": null,
       "justify_content": null,
       "justify_items": null,
       "left": null,
       "margin": null,
       "max_height": null,
       "max_width": null,
       "min_height": null,
       "min_width": null,
       "object_fit": null,
       "object_position": null,
       "order": null,
       "overflow": null,
       "overflow_x": null,
       "overflow_y": null,
       "padding": null,
       "right": null,
       "top": null,
       "visibility": null,
       "width": null
      }
     },
     "8481c780d7304c6484cd59e40ac86c37": {
      "model_module": "@jupyter-widgets/controls",
      "model_module_version": "1.5.0",
      "model_name": "ProgressStyleModel",
      "state": {
       "_model_module": "@jupyter-widgets/controls",
       "_model_module_version": "1.5.0",
       "_model_name": "ProgressStyleModel",
       "_view_count": null,
       "_view_module": "@jupyter-widgets/base",
       "_view_module_version": "1.2.0",
       "_view_name": "StyleView",
       "bar_color": null,
       "description_width": ""
      }
     },
     "87b0f342e0f84551a6ebdf428f7fa955": {
      "model_module": "@jupyter-widgets/controls",
      "model_module_version": "1.5.0",
      "model_name": "ProgressStyleModel",
      "state": {
       "_model_module": "@jupyter-widgets/controls",
       "_model_module_version": "1.5.0",
       "_model_name": "ProgressStyleModel",
       "_view_count": null,
       "_view_module": "@jupyter-widgets/base",
       "_view_module_version": "1.2.0",
       "_view_name": "StyleView",
       "bar_color": null,
       "description_width": ""
      }
     },
     "8ad3b6f5382a4908a9b2569d72c95ba3": {
      "model_module": "@jupyter-widgets/controls",
      "model_module_version": "1.5.0",
      "model_name": "DescriptionStyleModel",
      "state": {
       "_model_module": "@jupyter-widgets/controls",
       "_model_module_version": "1.5.0",
       "_model_name": "DescriptionStyleModel",
       "_view_count": null,
       "_view_module": "@jupyter-widgets/base",
       "_view_module_version": "1.2.0",
       "_view_name": "StyleView",
       "description_width": ""
      }
     },
     "8b18cac1064648379ac6d6d368f4a007": {
      "model_module": "@jupyter-widgets/controls",
      "model_module_version": "1.5.0",
      "model_name": "HTMLModel",
      "state": {
       "_dom_classes": [],
       "_model_module": "@jupyter-widgets/controls",
       "_model_module_version": "1.5.0",
       "_model_name": "HTMLModel",
       "_view_count": null,
       "_view_module": "@jupyter-widgets/controls",
       "_view_module_version": "1.5.0",
       "_view_name": "HTMLView",
       "description": "",
       "description_tooltip": null,
       "layout": "IPY_MODEL_d78968710f5b460cbfbffe0f97b7f52f",
       "placeholder": "​",
       "style": "IPY_MODEL_8ad3b6f5382a4908a9b2569d72c95ba3",
       "value": "model.safetensors: 100%"
      }
     },
     "8b47f542459548138636f6e1b636a209": {
      "model_module": "@jupyter-widgets/controls",
      "model_module_version": "1.5.0",
      "model_name": "DescriptionStyleModel",
      "state": {
       "_model_module": "@jupyter-widgets/controls",
       "_model_module_version": "1.5.0",
       "_model_name": "DescriptionStyleModel",
       "_view_count": null,
       "_view_module": "@jupyter-widgets/base",
       "_view_module_version": "1.2.0",
       "_view_name": "StyleView",
       "description_width": ""
      }
     },
     "8d430a13b246493494f41501ed475d49": {
      "model_module": "@jupyter-widgets/base",
      "model_module_version": "1.2.0",
      "model_name": "LayoutModel",
      "state": {
       "_model_module": "@jupyter-widgets/base",
       "_model_module_version": "1.2.0",
       "_model_name": "LayoutModel",
       "_view_count": null,
       "_view_module": "@jupyter-widgets/base",
       "_view_module_version": "1.2.0",
       "_view_name": "LayoutView",
       "align_content": null,
       "align_items": null,
       "align_self": null,
       "border": null,
       "bottom": null,
       "display": null,
       "flex": null,
       "flex_flow": null,
       "grid_area": null,
       "grid_auto_columns": null,
       "grid_auto_flow": null,
       "grid_auto_rows": null,
       "grid_column": null,
       "grid_gap": null,
       "grid_row": null,
       "grid_template_areas": null,
       "grid_template_columns": null,
       "grid_template_rows": null,
       "height": null,
       "justify_content": null,
       "justify_items": null,
       "left": null,
       "margin": null,
       "max_height": null,
       "max_width": null,
       "min_height": null,
       "min_width": null,
       "object_fit": null,
       "object_position": null,
       "order": null,
       "overflow": null,
       "overflow_x": null,
       "overflow_y": null,
       "padding": null,
       "right": null,
       "top": null,
       "visibility": null,
       "width": null
      }
     },
     "9107fd9db194418195fc5468244d216b": {
      "model_module": "@jupyter-widgets/controls",
      "model_module_version": "1.5.0",
      "model_name": "DescriptionStyleModel",
      "state": {
       "_model_module": "@jupyter-widgets/controls",
       "_model_module_version": "1.5.0",
       "_model_name": "DescriptionStyleModel",
       "_view_count": null,
       "_view_module": "@jupyter-widgets/base",
       "_view_module_version": "1.2.0",
       "_view_name": "StyleView",
       "description_width": ""
      }
     },
     "91373f7ca03f4f6586894f951ea8867e": {
      "model_module": "@jupyter-widgets/controls",
      "model_module_version": "1.5.0",
      "model_name": "DescriptionStyleModel",
      "state": {
       "_model_module": "@jupyter-widgets/controls",
       "_model_module_version": "1.5.0",
       "_model_name": "DescriptionStyleModel",
       "_view_count": null,
       "_view_module": "@jupyter-widgets/base",
       "_view_module_version": "1.2.0",
       "_view_name": "StyleView",
       "description_width": ""
      }
     },
     "92893ad728e44716abca3d254768dfae": {
      "model_module": "@jupyter-widgets/base",
      "model_module_version": "1.2.0",
      "model_name": "LayoutModel",
      "state": {
       "_model_module": "@jupyter-widgets/base",
       "_model_module_version": "1.2.0",
       "_model_name": "LayoutModel",
       "_view_count": null,
       "_view_module": "@jupyter-widgets/base",
       "_view_module_version": "1.2.0",
       "_view_name": "LayoutView",
       "align_content": null,
       "align_items": null,
       "align_self": null,
       "border": null,
       "bottom": null,
       "display": null,
       "flex": null,
       "flex_flow": null,
       "grid_area": null,
       "grid_auto_columns": null,
       "grid_auto_flow": null,
       "grid_auto_rows": null,
       "grid_column": null,
       "grid_gap": null,
       "grid_row": null,
       "grid_template_areas": null,
       "grid_template_columns": null,
       "grid_template_rows": null,
       "height": null,
       "justify_content": null,
       "justify_items": null,
       "left": null,
       "margin": null,
       "max_height": null,
       "max_width": null,
       "min_height": null,
       "min_width": null,
       "object_fit": null,
       "object_position": null,
       "order": null,
       "overflow": null,
       "overflow_x": null,
       "overflow_y": null,
       "padding": null,
       "right": null,
       "top": null,
       "visibility": null,
       "width": null
      }
     },
     "9369a13554d44372b1a9bb6cc916e612": {
      "model_module": "@jupyter-widgets/base",
      "model_module_version": "1.2.0",
      "model_name": "LayoutModel",
      "state": {
       "_model_module": "@jupyter-widgets/base",
       "_model_module_version": "1.2.0",
       "_model_name": "LayoutModel",
       "_view_count": null,
       "_view_module": "@jupyter-widgets/base",
       "_view_module_version": "1.2.0",
       "_view_name": "LayoutView",
       "align_content": null,
       "align_items": null,
       "align_self": null,
       "border": null,
       "bottom": null,
       "display": null,
       "flex": null,
       "flex_flow": null,
       "grid_area": null,
       "grid_auto_columns": null,
       "grid_auto_flow": null,
       "grid_auto_rows": null,
       "grid_column": null,
       "grid_gap": null,
       "grid_row": null,
       "grid_template_areas": null,
       "grid_template_columns": null,
       "grid_template_rows": null,
       "height": null,
       "justify_content": null,
       "justify_items": null,
       "left": null,
       "margin": null,
       "max_height": null,
       "max_width": null,
       "min_height": null,
       "min_width": null,
       "object_fit": null,
       "object_position": null,
       "order": null,
       "overflow": null,
       "overflow_x": null,
       "overflow_y": null,
       "padding": null,
       "right": null,
       "top": null,
       "visibility": null,
       "width": null
      }
     },
     "936ac81276644b128e544878d8a65d45": {
      "model_module": "@jupyter-widgets/controls",
      "model_module_version": "1.5.0",
      "model_name": "HTMLModel",
      "state": {
       "_dom_classes": [],
       "_model_module": "@jupyter-widgets/controls",
       "_model_module_version": "1.5.0",
       "_model_name": "HTMLModel",
       "_view_count": null,
       "_view_module": "@jupyter-widgets/controls",
       "_view_module_version": "1.5.0",
       "_view_name": "HTMLView",
       "description": "",
       "description_tooltip": null,
       "layout": "IPY_MODEL_25a5956dfef94515b47d6ae870028dd2",
       "placeholder": "​",
       "style": "IPY_MODEL_8b47f542459548138636f6e1b636a209",
       "value": " 438M/438M [00:01&lt;00:00, 317MB/s]"
      }
     },
     "94a9ac467065474580f931fca1b7d84b": {
      "model_module": "@jupyter-widgets/base",
      "model_module_version": "1.2.0",
      "model_name": "LayoutModel",
      "state": {
       "_model_module": "@jupyter-widgets/base",
       "_model_module_version": "1.2.0",
       "_model_name": "LayoutModel",
       "_view_count": null,
       "_view_module": "@jupyter-widgets/base",
       "_view_module_version": "1.2.0",
       "_view_name": "LayoutView",
       "align_content": null,
       "align_items": null,
       "align_self": null,
       "border": null,
       "bottom": null,
       "display": null,
       "flex": null,
       "flex_flow": null,
       "grid_area": null,
       "grid_auto_columns": null,
       "grid_auto_flow": null,
       "grid_auto_rows": null,
       "grid_column": null,
       "grid_gap": null,
       "grid_row": null,
       "grid_template_areas": null,
       "grid_template_columns": null,
       "grid_template_rows": null,
       "height": null,
       "justify_content": null,
       "justify_items": null,
       "left": null,
       "margin": null,
       "max_height": null,
       "max_width": null,
       "min_height": null,
       "min_width": null,
       "object_fit": null,
       "object_position": null,
       "order": null,
       "overflow": null,
       "overflow_x": null,
       "overflow_y": null,
       "padding": null,
       "right": null,
       "top": null,
       "visibility": null,
       "width": null
      }
     },
     "9582c31371204f00aff10b5cd3687d0b": {
      "model_module": "@jupyter-widgets/controls",
      "model_module_version": "1.5.0",
      "model_name": "DescriptionStyleModel",
      "state": {
       "_model_module": "@jupyter-widgets/controls",
       "_model_module_version": "1.5.0",
       "_model_name": "DescriptionStyleModel",
       "_view_count": null,
       "_view_module": "@jupyter-widgets/base",
       "_view_module_version": "1.2.0",
       "_view_name": "StyleView",
       "description_width": ""
      }
     },
     "96f3f6a60961441fa9df1978aa976bb2": {
      "model_module": "@jupyter-widgets/controls",
      "model_module_version": "1.5.0",
      "model_name": "DescriptionStyleModel",
      "state": {
       "_model_module": "@jupyter-widgets/controls",
       "_model_module_version": "1.5.0",
       "_model_name": "DescriptionStyleModel",
       "_view_count": null,
       "_view_module": "@jupyter-widgets/base",
       "_view_module_version": "1.2.0",
       "_view_name": "StyleView",
       "description_width": ""
      }
     },
     "9cb465e5c86542aa8b91d924246b25e6": {
      "model_module": "@jupyter-widgets/controls",
      "model_module_version": "1.5.0",
      "model_name": "HTMLModel",
      "state": {
       "_dom_classes": [],
       "_model_module": "@jupyter-widgets/controls",
       "_model_module_version": "1.5.0",
       "_model_name": "HTMLModel",
       "_view_count": null,
       "_view_module": "@jupyter-widgets/controls",
       "_view_module_version": "1.5.0",
       "_view_name": "HTMLView",
       "description": "",
       "description_tooltip": null,
       "layout": "IPY_MODEL_d769d5a765354e6fa4fefc2b1355477d",
       "placeholder": "​",
       "style": "IPY_MODEL_f785be7e34c745d2b8074439659ffc0d",
       "value": " 466k/466k [00:00&lt;00:00, 5.37MB/s]"
      }
     },
     "9e285ce0e78246b9a8330195e9cf3499": {
      "model_module": "@jupyter-widgets/controls",
      "model_module_version": "1.5.0",
      "model_name": "HBoxModel",
      "state": {
       "_dom_classes": [],
       "_model_module": "@jupyter-widgets/controls",
       "_model_module_version": "1.5.0",
       "_model_name": "HBoxModel",
       "_view_count": null,
       "_view_module": "@jupyter-widgets/controls",
       "_view_module_version": "1.5.0",
       "_view_name": "HBoxView",
       "box_style": "",
       "children": [
        "IPY_MODEL_ce16187e7dfa46f0aa9951d8a9bf56fe",
        "IPY_MODEL_634fe12f28ac4a679a083c65b85d7222",
        "IPY_MODEL_73593c385efe4016860a878aebd77841"
       ],
       "layout": "IPY_MODEL_9fb1671c980046b8bcfcebf65b27319b"
      }
     },
     "9fb1671c980046b8bcfcebf65b27319b": {
      "model_module": "@jupyter-widgets/base",
      "model_module_version": "1.2.0",
      "model_name": "LayoutModel",
      "state": {
       "_model_module": "@jupyter-widgets/base",
       "_model_module_version": "1.2.0",
       "_model_name": "LayoutModel",
       "_view_count": null,
       "_view_module": "@jupyter-widgets/base",
       "_view_module_version": "1.2.0",
       "_view_name": "LayoutView",
       "align_content": null,
       "align_items": null,
       "align_self": null,
       "border": null,
       "bottom": null,
       "display": null,
       "flex": null,
       "flex_flow": null,
       "grid_area": null,
       "grid_auto_columns": null,
       "grid_auto_flow": null,
       "grid_auto_rows": null,
       "grid_column": null,
       "grid_gap": null,
       "grid_row": null,
       "grid_template_areas": null,
       "grid_template_columns": null,
       "grid_template_rows": null,
       "height": null,
       "justify_content": null,
       "justify_items": null,
       "left": null,
       "margin": null,
       "max_height": null,
       "max_width": null,
       "min_height": null,
       "min_width": null,
       "object_fit": null,
       "object_position": null,
       "order": null,
       "overflow": null,
       "overflow_x": null,
       "overflow_y": null,
       "padding": null,
       "right": null,
       "top": null,
       "visibility": null,
       "width": null
      }
     },
     "a0b527e16d464e20935bb08a1b9dacc1": {
      "model_module": "@jupyter-widgets/controls",
      "model_module_version": "1.5.0",
      "model_name": "FloatProgressModel",
      "state": {
       "_dom_classes": [],
       "_model_module": "@jupyter-widgets/controls",
       "_model_module_version": "1.5.0",
       "_model_name": "FloatProgressModel",
       "_view_count": null,
       "_view_module": "@jupyter-widgets/controls",
       "_view_module_version": "1.5.0",
       "_view_name": "ProgressView",
       "bar_style": "success",
       "description": "",
       "description_tooltip": null,
       "layout": "IPY_MODEL_826dd8f0a7f241b8892858545057d1e7",
       "max": 629.0,
       "min": 0.0,
       "orientation": "horizontal",
       "style": "IPY_MODEL_2cb6be75c2204e7cb5844da8262779b5",
       "value": 629.0
      }
     },
     "a8ef24da528b4b24bddbca022483bb46": {
      "model_module": "@jupyter-widgets/controls",
      "model_module_version": "1.5.0",
      "model_name": "FloatProgressModel",
      "state": {
       "_dom_classes": [],
       "_model_module": "@jupyter-widgets/controls",
       "_model_module_version": "1.5.0",
       "_model_name": "FloatProgressModel",
       "_view_count": null,
       "_view_module": "@jupyter-widgets/controls",
       "_view_module_version": "1.5.0",
       "_view_name": "ProgressView",
       "bar_style": "success",
       "description": "",
       "description_tooltip": null,
       "layout": "IPY_MODEL_1feceb01dff74dbaa21a82986644fd9f",
       "max": 231508.0,
       "min": 0.0,
       "orientation": "horizontal",
       "style": "IPY_MODEL_0ca51a10520341fa991ce94353457274",
       "value": 231508.0
      }
     },
     "ab4de0944d8445759a32f3dff08a2712": {
      "model_module": "@jupyter-widgets/base",
      "model_module_version": "1.2.0",
      "model_name": "LayoutModel",
      "state": {
       "_model_module": "@jupyter-widgets/base",
       "_model_module_version": "1.2.0",
       "_model_name": "LayoutModel",
       "_view_count": null,
       "_view_module": "@jupyter-widgets/base",
       "_view_module_version": "1.2.0",
       "_view_name": "LayoutView",
       "align_content": null,
       "align_items": null,
       "align_self": null,
       "border": null,
       "bottom": null,
       "display": null,
       "flex": null,
       "flex_flow": null,
       "grid_area": null,
       "grid_auto_columns": null,
       "grid_auto_flow": null,
       "grid_auto_rows": null,
       "grid_column": null,
       "grid_gap": null,
       "grid_row": null,
       "grid_template_areas": null,
       "grid_template_columns": null,
       "grid_template_rows": null,
       "height": null,
       "justify_content": null,
       "justify_items": null,
       "left": null,
       "margin": null,
       "max_height": null,
       "max_width": null,
       "min_height": null,
       "min_width": null,
       "object_fit": null,
       "object_position": null,
       "order": null,
       "overflow": null,
       "overflow_x": null,
       "overflow_y": null,
       "padding": null,
       "right": null,
       "top": null,
       "visibility": null,
       "width": null
      }
     },
     "ab698733a2174965a9c6c97359d19f57": {
      "model_module": "@jupyter-widgets/base",
      "model_module_version": "1.2.0",
      "model_name": "LayoutModel",
      "state": {
       "_model_module": "@jupyter-widgets/base",
       "_model_module_version": "1.2.0",
       "_model_name": "LayoutModel",
       "_view_count": null,
       "_view_module": "@jupyter-widgets/base",
       "_view_module_version": "1.2.0",
       "_view_name": "LayoutView",
       "align_content": null,
       "align_items": null,
       "align_self": null,
       "border": null,
       "bottom": null,
       "display": null,
       "flex": null,
       "flex_flow": null,
       "grid_area": null,
       "grid_auto_columns": null,
       "grid_auto_flow": null,
       "grid_auto_rows": null,
       "grid_column": null,
       "grid_gap": null,
       "grid_row": null,
       "grid_template_areas": null,
       "grid_template_columns": null,
       "grid_template_rows": null,
       "height": null,
       "justify_content": null,
       "justify_items": null,
       "left": null,
       "margin": null,
       "max_height": null,
       "max_width": null,
       "min_height": null,
       "min_width": null,
       "object_fit": null,
       "object_position": null,
       "order": null,
       "overflow": null,
       "overflow_x": null,
       "overflow_y": null,
       "padding": null,
       "right": null,
       "top": null,
       "visibility": null,
       "width": null
      }
     },
     "adafa20782684498aff048a3833d3004": {
      "model_module": "@jupyter-widgets/controls",
      "model_module_version": "1.5.0",
      "model_name": "FloatProgressModel",
      "state": {
       "_dom_classes": [],
       "_model_module": "@jupyter-widgets/controls",
       "_model_module_version": "1.5.0",
       "_model_name": "FloatProgressModel",
       "_view_count": null,
       "_view_module": "@jupyter-widgets/controls",
       "_view_module_version": "1.5.0",
       "_view_name": "ProgressView",
       "bar_style": "success",
       "description": "",
       "description_tooltip": null,
       "layout": "IPY_MODEL_fea2c627aaa84184829bee025c391714",
       "max": 267832558.0,
       "min": 0.0,
       "orientation": "horizontal",
       "style": "IPY_MODEL_3d4319e61dae401297ca84f902e19d93",
       "value": 267832558.0
      }
     },
     "b205846541a0451cb5694c7efca04209": {
      "model_module": "@jupyter-widgets/base",
      "model_module_version": "1.2.0",
      "model_name": "LayoutModel",
      "state": {
       "_model_module": "@jupyter-widgets/base",
       "_model_module_version": "1.2.0",
       "_model_name": "LayoutModel",
       "_view_count": null,
       "_view_module": "@jupyter-widgets/base",
       "_view_module_version": "1.2.0",
       "_view_name": "LayoutView",
       "align_content": null,
       "align_items": null,
       "align_self": null,
       "border": null,
       "bottom": null,
       "display": null,
       "flex": null,
       "flex_flow": null,
       "grid_area": null,
       "grid_auto_columns": null,
       "grid_auto_flow": null,
       "grid_auto_rows": null,
       "grid_column": null,
       "grid_gap": null,
       "grid_row": null,
       "grid_template_areas": null,
       "grid_template_columns": null,
       "grid_template_rows": null,
       "height": null,
       "justify_content": null,
       "justify_items": null,
       "left": null,
       "margin": null,
       "max_height": null,
       "max_width": null,
       "min_height": null,
       "min_width": null,
       "object_fit": null,
       "object_position": null,
       "order": null,
       "overflow": null,
       "overflow_x": null,
       "overflow_y": null,
       "padding": null,
       "right": null,
       "top": null,
       "visibility": null,
       "width": null
      }
     },
     "b4b5d61409c64fa580f49a02426cbd7f": {
      "model_module": "@jupyter-widgets/controls",
      "model_module_version": "1.5.0",
      "model_name": "FloatProgressModel",
      "state": {
       "_dom_classes": [],
       "_model_module": "@jupyter-widgets/controls",
       "_model_module_version": "1.5.0",
       "_model_name": "FloatProgressModel",
       "_view_count": null,
       "_view_module": "@jupyter-widgets/controls",
       "_view_module_version": "1.5.0",
       "_view_name": "ProgressView",
       "bar_style": "success",
       "description": "",
       "description_tooltip": null,
       "layout": "IPY_MODEL_ab698733a2174965a9c6c97359d19f57",
       "max": 437975140.0,
       "min": 0.0,
       "orientation": "horizontal",
       "style": "IPY_MODEL_8481c780d7304c6484cd59e40ac86c37",
       "value": 437975140.0
      }
     },
     "ba16b2338818463e956dd7d5eecdbb42": {
      "model_module": "@jupyter-widgets/controls",
      "model_module_version": "1.5.0",
      "model_name": "ProgressStyleModel",
      "state": {
       "_model_module": "@jupyter-widgets/controls",
       "_model_module_version": "1.5.0",
       "_model_name": "ProgressStyleModel",
       "_view_count": null,
       "_view_module": "@jupyter-widgets/base",
       "_view_module_version": "1.2.0",
       "_view_name": "StyleView",
       "bar_color": null,
       "description_width": ""
      }
     },
     "bdacc231dce74d6885035d09c9bedb70": {
      "model_module": "@jupyter-widgets/controls",
      "model_module_version": "1.5.0",
      "model_name": "HBoxModel",
      "state": {
       "_dom_classes": [],
       "_model_module": "@jupyter-widgets/controls",
       "_model_module_version": "1.5.0",
       "_model_name": "HBoxModel",
       "_view_count": null,
       "_view_module": "@jupyter-widgets/controls",
       "_view_module_version": "1.5.0",
       "_view_name": "HBoxView",
       "box_style": "",
       "children": [
        "IPY_MODEL_19c7c91326f44deea1ab05bbadf1b7e3",
        "IPY_MODEL_f557fc0058d8447b8e455c25067bc27c",
        "IPY_MODEL_e450c4eed9cf4dc9bd591db815a2a07d"
       ],
       "layout": "IPY_MODEL_f2a06654084843c1b3392f8871bad735"
      }
     },
     "bf4aea3ff71b4d9d878db03f3f39839a": {
      "model_module": "@jupyter-widgets/controls",
      "model_module_version": "1.5.0",
      "model_name": "HTMLModel",
      "state": {
       "_dom_classes": [],
       "_model_module": "@jupyter-widgets/controls",
       "_model_module_version": "1.5.0",
       "_model_name": "HTMLModel",
       "_view_count": null,
       "_view_module": "@jupyter-widgets/controls",
       "_view_module_version": "1.5.0",
       "_view_name": "HTMLView",
       "description": "",
       "description_tooltip": null,
       "layout": "IPY_MODEL_8063c75cf2734c00bdb104bdfca0d16b",
       "placeholder": "​",
       "style": "IPY_MODEL_9582c31371204f00aff10b5cd3687d0b",
       "value": " 935/935 [00:00&lt;00:00, 57.5kB/s]"
      }
     },
     "c3a3a9b9e4df4d6b964ef7c1a26a07b4": {
      "model_module": "@jupyter-widgets/base",
      "model_module_version": "1.2.0",
      "model_name": "LayoutModel",
      "state": {
       "_model_module": "@jupyter-widgets/base",
       "_model_module_version": "1.2.0",
       "_model_name": "LayoutModel",
       "_view_count": null,
       "_view_module": "@jupyter-widgets/base",
       "_view_module_version": "1.2.0",
       "_view_name": "LayoutView",
       "align_content": null,
       "align_items": null,
       "align_self": null,
       "border": null,
       "bottom": null,
       "display": null,
       "flex": null,
       "flex_flow": null,
       "grid_area": null,
       "grid_auto_columns": null,
       "grid_auto_flow": null,
       "grid_auto_rows": null,
       "grid_column": null,
       "grid_gap": null,
       "grid_row": null,
       "grid_template_areas": null,
       "grid_template_columns": null,
       "grid_template_rows": null,
       "height": null,
       "justify_content": null,
       "justify_items": null,
       "left": null,
       "margin": null,
       "max_height": null,
       "max_width": null,
       "min_height": null,
       "min_width": null,
       "object_fit": null,
       "object_position": null,
       "order": null,
       "overflow": null,
       "overflow_x": null,
       "overflow_y": null,
       "padding": null,
       "right": null,
       "top": null,
       "visibility": null,
       "width": null
      }
     },
     "c5b617b74f634912958f802a6b897598": {
      "model_module": "@jupyter-widgets/controls",
      "model_module_version": "1.5.0",
      "model_name": "HTMLModel",
      "state": {
       "_dom_classes": [],
       "_model_module": "@jupyter-widgets/controls",
       "_model_module_version": "1.5.0",
       "_model_name": "HTMLModel",
       "_view_count": null,
       "_view_module": "@jupyter-widgets/controls",
       "_view_module_version": "1.5.0",
       "_view_name": "HTMLView",
       "description": "",
       "description_tooltip": null,
       "layout": "IPY_MODEL_661f20aab74a4737b177178cc58fa39b",
       "placeholder": "​",
       "style": "IPY_MODEL_407ad113ae5c4c7488ac5d0f458c0982",
       "value": "vocab.txt: 100%"
      }
     },
     "c61ccf2df1f443b59ace8a8a5e5fac24": {
      "model_module": "@jupyter-widgets/base",
      "model_module_version": "1.2.0",
      "model_name": "LayoutModel",
      "state": {
       "_model_module": "@jupyter-widgets/base",
       "_model_module_version": "1.2.0",
       "_model_name": "LayoutModel",
       "_view_count": null,
       "_view_module": "@jupyter-widgets/base",
       "_view_module_version": "1.2.0",
       "_view_name": "LayoutView",
       "align_content": null,
       "align_items": null,
       "align_self": null,
       "border": null,
       "bottom": null,
       "display": null,
       "flex": null,
       "flex_flow": null,
       "grid_area": null,
       "grid_auto_columns": null,
       "grid_auto_flow": null,
       "grid_auto_rows": null,
       "grid_column": null,
       "grid_gap": null,
       "grid_row": null,
       "grid_template_areas": null,
       "grid_template_columns": null,
       "grid_template_rows": null,
       "height": null,
       "justify_content": null,
       "justify_items": null,
       "left": null,
       "margin": null,
       "max_height": null,
       "max_width": null,
       "min_height": null,
       "min_width": null,
       "object_fit": null,
       "object_position": null,
       "order": null,
       "overflow": null,
       "overflow_x": null,
       "overflow_y": null,
       "padding": null,
       "right": null,
       "top": null,
       "visibility": null,
       "width": null
      }
     },
     "c722731343824471b56918e97595ff91": {
      "model_module": "@jupyter-widgets/controls",
      "model_module_version": "1.5.0",
      "model_name": "DescriptionStyleModel",
      "state": {
       "_model_module": "@jupyter-widgets/controls",
       "_model_module_version": "1.5.0",
       "_model_name": "DescriptionStyleModel",
       "_view_count": null,
       "_view_module": "@jupyter-widgets/base",
       "_view_module_version": "1.2.0",
       "_view_name": "StyleView",
       "description_width": ""
      }
     },
     "cb5b3b4423ac4c75903404c1f13ae88a": {
      "model_module": "@jupyter-widgets/controls",
      "model_module_version": "1.5.0",
      "model_name": "DescriptionStyleModel",
      "state": {
       "_model_module": "@jupyter-widgets/controls",
       "_model_module_version": "1.5.0",
       "_model_name": "DescriptionStyleModel",
       "_view_count": null,
       "_view_module": "@jupyter-widgets/base",
       "_view_module_version": "1.2.0",
       "_view_name": "StyleView",
       "description_width": ""
      }
     },
     "cc08fdf0eb2c4080b1032d64b3a9d62a": {
      "model_module": "@jupyter-widgets/controls",
      "model_module_version": "1.5.0",
      "model_name": "ProgressStyleModel",
      "state": {
       "_model_module": "@jupyter-widgets/controls",
       "_model_module_version": "1.5.0",
       "_model_name": "ProgressStyleModel",
       "_view_count": null,
       "_view_module": "@jupyter-widgets/base",
       "_view_module_version": "1.2.0",
       "_view_name": "StyleView",
       "bar_color": null,
       "description_width": ""
      }
     },
     "cc934c82c8ae475a96195934ce1a57c9": {
      "model_module": "@jupyter-widgets/controls",
      "model_module_version": "1.5.0",
      "model_name": "HBoxModel",
      "state": {
       "_dom_classes": [],
       "_model_module": "@jupyter-widgets/controls",
       "_model_module_version": "1.5.0",
       "_model_name": "HBoxModel",
       "_view_count": null,
       "_view_module": "@jupyter-widgets/controls",
       "_view_module_version": "1.5.0",
       "_view_name": "HBoxView",
       "box_style": "",
       "children": [
        "IPY_MODEL_c5b617b74f634912958f802a6b897598",
        "IPY_MODEL_a8ef24da528b4b24bddbca022483bb46",
        "IPY_MODEL_06f673b1e9ec4da78f8e7f466892f797"
       ],
       "layout": "IPY_MODEL_577626b12a6f4829bdef7d0a484f0c50"
      }
     },
     "ce16187e7dfa46f0aa9951d8a9bf56fe": {
      "model_module": "@jupyter-widgets/controls",
      "model_module_version": "1.5.0",
      "model_name": "HTMLModel",
      "state": {
       "_dom_classes": [],
       "_model_module": "@jupyter-widgets/controls",
       "_model_module_version": "1.5.0",
       "_model_name": "HTMLModel",
       "_view_count": null,
       "_view_module": "@jupyter-widgets/controls",
       "_view_module_version": "1.5.0",
       "_view_name": "HTMLView",
       "description": "",
       "description_tooltip": null,
       "layout": "IPY_MODEL_482ff9670ed342dc894674da840820f1",
       "placeholder": "​",
       "style": "IPY_MODEL_96f3f6a60961441fa9df1978aa976bb2",
       "value": "tokenizer_config.json: 100%"
      }
     },
     "d10f66367bd44c87b35e8fcb65428f00": {
      "model_module": "@jupyter-widgets/base",
      "model_module_version": "1.2.0",
      "model_name": "LayoutModel",
      "state": {
       "_model_module": "@jupyter-widgets/base",
       "_model_module_version": "1.2.0",
       "_model_name": "LayoutModel",
       "_view_count": null,
       "_view_module": "@jupyter-widgets/base",
       "_view_module_version": "1.2.0",
       "_view_name": "LayoutView",
       "align_content": null,
       "align_items": null,
       "align_self": null,
       "border": null,
       "bottom": null,
       "display": null,
       "flex": null,
       "flex_flow": null,
       "grid_area": null,
       "grid_auto_columns": null,
       "grid_auto_flow": null,
       "grid_auto_rows": null,
       "grid_column": null,
       "grid_gap": null,
       "grid_row": null,
       "grid_template_areas": null,
       "grid_template_columns": null,
       "grid_template_rows": null,
       "height": null,
       "justify_content": null,
       "justify_items": null,
       "left": null,
       "margin": null,
       "max_height": null,
       "max_width": null,
       "min_height": null,
       "min_width": null,
       "object_fit": null,
       "object_position": null,
       "order": null,
       "overflow": null,
       "overflow_x": null,
       "overflow_y": null,
       "padding": null,
       "right": null,
       "top": null,
       "visibility": null,
       "width": null
      }
     },
     "d3267e76df61470eaa516f379abda012": {
      "model_module": "@jupyter-widgets/controls",
      "model_module_version": "1.5.0",
      "model_name": "HTMLModel",
      "state": {
       "_dom_classes": [],
       "_model_module": "@jupyter-widgets/controls",
       "_model_module_version": "1.5.0",
       "_model_name": "HTMLModel",
       "_view_count": null,
       "_view_module": "@jupyter-widgets/controls",
       "_view_module_version": "1.5.0",
       "_view_name": "HTMLView",
       "description": "",
       "description_tooltip": null,
       "layout": "IPY_MODEL_18bbdc42081a4f5f8306e8b5c3ef04d6",
       "placeholder": "​",
       "style": "IPY_MODEL_7e7c92b9f897422dae3dd499cb873855",
       "value": "tokenizer_config.json: 100%"
      }
     },
     "d70f5500423e49d7937077c5191102ac": {
      "model_module": "@jupyter-widgets/controls",
      "model_module_version": "1.5.0",
      "model_name": "DescriptionStyleModel",
      "state": {
       "_model_module": "@jupyter-widgets/controls",
       "_model_module_version": "1.5.0",
       "_model_name": "DescriptionStyleModel",
       "_view_count": null,
       "_view_module": "@jupyter-widgets/base",
       "_view_module_version": "1.2.0",
       "_view_name": "StyleView",
       "description_width": ""
      }
     },
     "d769d5a765354e6fa4fefc2b1355477d": {
      "model_module": "@jupyter-widgets/base",
      "model_module_version": "1.2.0",
      "model_name": "LayoutModel",
      "state": {
       "_model_module": "@jupyter-widgets/base",
       "_model_module_version": "1.2.0",
       "_model_name": "LayoutModel",
       "_view_count": null,
       "_view_module": "@jupyter-widgets/base",
       "_view_module_version": "1.2.0",
       "_view_name": "LayoutView",
       "align_content": null,
       "align_items": null,
       "align_self": null,
       "border": null,
       "bottom": null,
       "display": null,
       "flex": null,
       "flex_flow": null,
       "grid_area": null,
       "grid_auto_columns": null,
       "grid_auto_flow": null,
       "grid_auto_rows": null,
       "grid_column": null,
       "grid_gap": null,
       "grid_row": null,
       "grid_template_areas": null,
       "grid_template_columns": null,
       "grid_template_rows": null,
       "height": null,
       "justify_content": null,
       "justify_items": null,
       "left": null,
       "margin": null,
       "max_height": null,
       "max_width": null,
       "min_height": null,
       "min_width": null,
       "object_fit": null,
       "object_position": null,
       "order": null,
       "overflow": null,
       "overflow_x": null,
       "overflow_y": null,
       "padding": null,
       "right": null,
       "top": null,
       "visibility": null,
       "width": null
      }
     },
     "d78968710f5b460cbfbffe0f97b7f52f": {
      "model_module": "@jupyter-widgets/base",
      "model_module_version": "1.2.0",
      "model_name": "LayoutModel",
      "state": {
       "_model_module": "@jupyter-widgets/base",
       "_model_module_version": "1.2.0",
       "_model_name": "LayoutModel",
       "_view_count": null,
       "_view_module": "@jupyter-widgets/base",
       "_view_module_version": "1.2.0",
       "_view_name": "LayoutView",
       "align_content": null,
       "align_items": null,
       "align_self": null,
       "border": null,
       "bottom": null,
       "display": null,
       "flex": null,
       "flex_flow": null,
       "grid_area": null,
       "grid_auto_columns": null,
       "grid_auto_flow": null,
       "grid_auto_rows": null,
       "grid_column": null,
       "grid_gap": null,
       "grid_row": null,
       "grid_template_areas": null,
       "grid_template_columns": null,
       "grid_template_rows": null,
       "height": null,
       "justify_content": null,
       "justify_items": null,
       "left": null,
       "margin": null,
       "max_height": null,
       "max_width": null,
       "min_height": null,
       "min_width": null,
       "object_fit": null,
       "object_position": null,
       "order": null,
       "overflow": null,
       "overflow_x": null,
       "overflow_y": null,
       "padding": null,
       "right": null,
       "top": null,
       "visibility": null,
       "width": null
      }
     },
     "d7a615b14915474192a64b3a235dbac0": {
      "model_module": "@jupyter-widgets/base",
      "model_module_version": "1.2.0",
      "model_name": "LayoutModel",
      "state": {
       "_model_module": "@jupyter-widgets/base",
       "_model_module_version": "1.2.0",
       "_model_name": "LayoutModel",
       "_view_count": null,
       "_view_module": "@jupyter-widgets/base",
       "_view_module_version": "1.2.0",
       "_view_name": "LayoutView",
       "align_content": null,
       "align_items": null,
       "align_self": null,
       "border": null,
       "bottom": null,
       "display": null,
       "flex": null,
       "flex_flow": null,
       "grid_area": null,
       "grid_auto_columns": null,
       "grid_auto_flow": null,
       "grid_auto_rows": null,
       "grid_column": null,
       "grid_gap": null,
       "grid_row": null,
       "grid_template_areas": null,
       "grid_template_columns": null,
       "grid_template_rows": null,
       "height": null,
       "justify_content": null,
       "justify_items": null,
       "left": null,
       "margin": null,
       "max_height": null,
       "max_width": null,
       "min_height": null,
       "min_width": null,
       "object_fit": null,
       "object_position": null,
       "order": null,
       "overflow": null,
       "overflow_x": null,
       "overflow_y": null,
       "padding": null,
       "right": null,
       "top": null,
       "visibility": null,
       "width": null
      }
     },
     "dd949861c17041d1a229820f7961d250": {
      "model_module": "@jupyter-widgets/base",
      "model_module_version": "1.2.0",
      "model_name": "LayoutModel",
      "state": {
       "_model_module": "@jupyter-widgets/base",
       "_model_module_version": "1.2.0",
       "_model_name": "LayoutModel",
       "_view_count": null,
       "_view_module": "@jupyter-widgets/base",
       "_view_module_version": "1.2.0",
       "_view_name": "LayoutView",
       "align_content": null,
       "align_items": null,
       "align_self": null,
       "border": null,
       "bottom": null,
       "display": null,
       "flex": null,
       "flex_flow": null,
       "grid_area": null,
       "grid_auto_columns": null,
       "grid_auto_flow": null,
       "grid_auto_rows": null,
       "grid_column": null,
       "grid_gap": null,
       "grid_row": null,
       "grid_template_areas": null,
       "grid_template_columns": null,
       "grid_template_rows": null,
       "height": null,
       "justify_content": null,
       "justify_items": null,
       "left": null,
       "margin": null,
       "max_height": null,
       "max_width": null,
       "min_height": null,
       "min_width": null,
       "object_fit": null,
       "object_position": null,
       "order": null,
       "overflow": null,
       "overflow_x": null,
       "overflow_y": null,
       "padding": null,
       "right": null,
       "top": null,
       "visibility": null,
       "width": null
      }
     },
     "df502cd7d0de4d07b34b2fa4f5ce6cd6": {
      "model_module": "@jupyter-widgets/controls",
      "model_module_version": "1.5.0",
      "model_name": "HBoxModel",
      "state": {
       "_dom_classes": [],
       "_model_module": "@jupyter-widgets/controls",
       "_model_module_version": "1.5.0",
       "_model_name": "HBoxModel",
       "_view_count": null,
       "_view_module": "@jupyter-widgets/controls",
       "_view_module_version": "1.5.0",
       "_view_name": "HBoxView",
       "box_style": "",
       "children": [
        "IPY_MODEL_7e99a248cbd04ab1b6e64f6766b2ea8c",
        "IPY_MODEL_b4b5d61409c64fa580f49a02426cbd7f",
        "IPY_MODEL_936ac81276644b128e544878d8a65d45"
       ],
       "layout": "IPY_MODEL_dd949861c17041d1a229820f7961d250"
      }
     },
     "e0e5a8292b7842829ebe44f02510e7bb": {
      "model_module": "@jupyter-widgets/controls",
      "model_module_version": "1.5.0",
      "model_name": "FloatProgressModel",
      "state": {
       "_dom_classes": [],
       "_model_module": "@jupyter-widgets/controls",
       "_model_module_version": "1.5.0",
       "_model_name": "FloatProgressModel",
       "_view_count": null,
       "_view_module": "@jupyter-widgets/controls",
       "_view_module_version": "1.5.0",
       "_view_name": "ProgressView",
       "bar_style": "success",
       "description": "",
       "description_tooltip": null,
       "layout": "IPY_MODEL_24058f6808154b0dbc8ffc3d2936b3cf",
       "max": 112.0,
       "min": 0.0,
       "orientation": "horizontal",
       "style": "IPY_MODEL_4031e4065ee84e088d2884b44efcaa07",
       "value": 112.0
      }
     },
     "e450c4eed9cf4dc9bd591db815a2a07d": {
      "model_module": "@jupyter-widgets/controls",
      "model_module_version": "1.5.0",
      "model_name": "HTMLModel",
      "state": {
       "_dom_classes": [],
       "_model_module": "@jupyter-widgets/controls",
       "_model_module_version": "1.5.0",
       "_model_name": "HTMLModel",
       "_view_count": null,
       "_view_module": "@jupyter-widgets/controls",
       "_view_module_version": "1.5.0",
       "_view_name": "HTMLView",
       "description": "",
       "description_tooltip": null,
       "layout": "IPY_MODEL_f35c051d98234d2c98d6c0efcca91f39",
       "placeholder": "​",
       "style": "IPY_MODEL_221629563ced46afb45e33831aad2e7b",
       "value": " 232k/232k [00:00&lt;00:00, 1.41MB/s]"
      }
     },
     "e6a585ee9bac40cd8d1984e5e2a4cb3d": {
      "model_module": "@jupyter-widgets/controls",
      "model_module_version": "1.5.0",
      "model_name": "HTMLModel",
      "state": {
       "_dom_classes": [],
       "_model_module": "@jupyter-widgets/controls",
       "_model_module_version": "1.5.0",
       "_model_name": "HTMLModel",
       "_view_count": null,
       "_view_module": "@jupyter-widgets/controls",
       "_view_module_version": "1.5.0",
       "_view_name": "HTMLView",
       "description": "",
       "description_tooltip": null,
       "layout": "IPY_MODEL_c3a3a9b9e4df4d6b964ef7c1a26a07b4",
       "placeholder": "​",
       "style": "IPY_MODEL_c722731343824471b56918e97595ff91",
       "value": "special_tokens_map.json: 100%"
      }
     },
     "e7490ce0935c4dc0bfcc729e7691b0fc": {
      "model_module": "@jupyter-widgets/controls",
      "model_module_version": "1.5.0",
      "model_name": "HBoxModel",
      "state": {
       "_dom_classes": [],
       "_model_module": "@jupyter-widgets/controls",
       "_model_module_version": "1.5.0",
       "_model_name": "HBoxModel",
       "_view_count": null,
       "_view_module": "@jupyter-widgets/controls",
       "_view_module_version": "1.5.0",
       "_view_name": "HBoxView",
       "box_style": "",
       "children": [
        "IPY_MODEL_e6a585ee9bac40cd8d1984e5e2a4cb3d",
        "IPY_MODEL_e0e5a8292b7842829ebe44f02510e7bb",
        "IPY_MODEL_046b8b19c4a34c6da9c604ef59db1aaf"
       ],
       "layout": "IPY_MODEL_92893ad728e44716abca3d254768dfae"
      }
     },
     "f2a06654084843c1b3392f8871bad735": {
      "model_module": "@jupyter-widgets/base",
      "model_module_version": "1.2.0",
      "model_name": "LayoutModel",
      "state": {
       "_model_module": "@jupyter-widgets/base",
       "_model_module_version": "1.2.0",
       "_model_name": "LayoutModel",
       "_view_count": null,
       "_view_module": "@jupyter-widgets/base",
       "_view_module_version": "1.2.0",
       "_view_name": "LayoutView",
       "align_content": null,
       "align_items": null,
       "align_self": null,
       "border": null,
       "bottom": null,
       "display": null,
       "flex": null,
       "flex_flow": null,
       "grid_area": null,
       "grid_auto_columns": null,
       "grid_auto_flow": null,
       "grid_auto_rows": null,
       "grid_column": null,
       "grid_gap": null,
       "grid_row": null,
       "grid_template_areas": null,
       "grid_template_columns": null,
       "grid_template_rows": null,
       "height": null,
       "justify_content": null,
       "justify_items": null,
       "left": null,
       "margin": null,
       "max_height": null,
       "max_width": null,
       "min_height": null,
       "min_width": null,
       "object_fit": null,
       "object_position": null,
       "order": null,
       "overflow": null,
       "overflow_x": null,
       "overflow_y": null,
       "padding": null,
       "right": null,
       "top": null,
       "visibility": null,
       "width": null
      }
     },
     "f35c051d98234d2c98d6c0efcca91f39": {
      "model_module": "@jupyter-widgets/base",
      "model_module_version": "1.2.0",
      "model_name": "LayoutModel",
      "state": {
       "_model_module": "@jupyter-widgets/base",
       "_model_module_version": "1.2.0",
       "_model_name": "LayoutModel",
       "_view_count": null,
       "_view_module": "@jupyter-widgets/base",
       "_view_module_version": "1.2.0",
       "_view_name": "LayoutView",
       "align_content": null,
       "align_items": null,
       "align_self": null,
       "border": null,
       "bottom": null,
       "display": null,
       "flex": null,
       "flex_flow": null,
       "grid_area": null,
       "grid_auto_columns": null,
       "grid_auto_flow": null,
       "grid_auto_rows": null,
       "grid_column": null,
       "grid_gap": null,
       "grid_row": null,
       "grid_template_areas": null,
       "grid_template_columns": null,
       "grid_template_rows": null,
       "height": null,
       "justify_content": null,
       "justify_items": null,
       "left": null,
       "margin": null,
       "max_height": null,
       "max_width": null,
       "min_height": null,
       "min_width": null,
       "object_fit": null,
       "object_position": null,
       "order": null,
       "overflow": null,
       "overflow_x": null,
       "overflow_y": null,
       "padding": null,
       "right": null,
       "top": null,
       "visibility": null,
       "width": null
      }
     },
     "f42a9a29cdda4a3baee2e7df756e11fb": {
      "model_module": "@jupyter-widgets/base",
      "model_module_version": "1.2.0",
      "model_name": "LayoutModel",
      "state": {
       "_model_module": "@jupyter-widgets/base",
       "_model_module_version": "1.2.0",
       "_model_name": "LayoutModel",
       "_view_count": null,
       "_view_module": "@jupyter-widgets/base",
       "_view_module_version": "1.2.0",
       "_view_name": "LayoutView",
       "align_content": null,
       "align_items": null,
       "align_self": null,
       "border": null,
       "bottom": null,
       "display": null,
       "flex": null,
       "flex_flow": null,
       "grid_area": null,
       "grid_auto_columns": null,
       "grid_auto_flow": null,
       "grid_auto_rows": null,
       "grid_column": null,
       "grid_gap": null,
       "grid_row": null,
       "grid_template_areas": null,
       "grid_template_columns": null,
       "grid_template_rows": null,
       "height": null,
       "justify_content": null,
       "justify_items": null,
       "left": null,
       "margin": null,
       "max_height": null,
       "max_width": null,
       "min_height": null,
       "min_width": null,
       "object_fit": null,
       "object_position": null,
       "order": null,
       "overflow": null,
       "overflow_x": null,
       "overflow_y": null,
       "padding": null,
       "right": null,
       "top": null,
       "visibility": null,
       "width": null
      }
     },
     "f557fc0058d8447b8e455c25067bc27c": {
      "model_module": "@jupyter-widgets/controls",
      "model_module_version": "1.5.0",
      "model_name": "FloatProgressModel",
      "state": {
       "_dom_classes": [],
       "_model_module": "@jupyter-widgets/controls",
       "_model_module_version": "1.5.0",
       "_model_name": "FloatProgressModel",
       "_view_count": null,
       "_view_module": "@jupyter-widgets/controls",
       "_view_module_version": "1.5.0",
       "_view_name": "ProgressView",
       "bar_style": "success",
       "description": "",
       "description_tooltip": null,
       "layout": "IPY_MODEL_0e75365105634facad059dfb716f0f87",
       "max": 231508.0,
       "min": 0.0,
       "orientation": "horizontal",
       "style": "IPY_MODEL_1aa5d28688eb4b9c98567af6312ee033",
       "value": 231508.0
      }
     },
     "f57319e266b448d89ce347f77da3f979": {
      "model_module": "@jupyter-widgets/controls",
      "model_module_version": "1.5.0",
      "model_name": "DescriptionStyleModel",
      "state": {
       "_model_module": "@jupyter-widgets/controls",
       "_model_module_version": "1.5.0",
       "_model_name": "DescriptionStyleModel",
       "_view_count": null,
       "_view_module": "@jupyter-widgets/base",
       "_view_module_version": "1.2.0",
       "_view_name": "StyleView",
       "description_width": ""
      }
     },
     "f785be7e34c745d2b8074439659ffc0d": {
      "model_module": "@jupyter-widgets/controls",
      "model_module_version": "1.5.0",
      "model_name": "DescriptionStyleModel",
      "state": {
       "_model_module": "@jupyter-widgets/controls",
       "_model_module_version": "1.5.0",
       "_model_name": "DescriptionStyleModel",
       "_view_count": null,
       "_view_module": "@jupyter-widgets/base",
       "_view_module_version": "1.2.0",
       "_view_name": "StyleView",
       "description_width": ""
      }
     },
     "fe473172b6c44720b9a9cc750cc54b96": {
      "model_module": "@jupyter-widgets/base",
      "model_module_version": "1.2.0",
      "model_name": "LayoutModel",
      "state": {
       "_model_module": "@jupyter-widgets/base",
       "_model_module_version": "1.2.0",
       "_model_name": "LayoutModel",
       "_view_count": null,
       "_view_module": "@jupyter-widgets/base",
       "_view_module_version": "1.2.0",
       "_view_name": "LayoutView",
       "align_content": null,
       "align_items": null,
       "align_self": null,
       "border": null,
       "bottom": null,
       "display": null,
       "flex": null,
       "flex_flow": null,
       "grid_area": null,
       "grid_auto_columns": null,
       "grid_auto_flow": null,
       "grid_auto_rows": null,
       "grid_column": null,
       "grid_gap": null,
       "grid_row": null,
       "grid_template_areas": null,
       "grid_template_columns": null,
       "grid_template_rows": null,
       "height": null,
       "justify_content": null,
       "justify_items": null,
       "left": null,
       "margin": null,
       "max_height": null,
       "max_width": null,
       "min_height": null,
       "min_width": null,
       "object_fit": null,
       "object_position": null,
       "order": null,
       "overflow": null,
       "overflow_x": null,
       "overflow_y": null,
       "padding": null,
       "right": null,
       "top": null,
       "visibility": null,
       "width": null
      }
     },
     "fea2c627aaa84184829bee025c391714": {
      "model_module": "@jupyter-widgets/base",
      "model_module_version": "1.2.0",
      "model_name": "LayoutModel",
      "state": {
       "_model_module": "@jupyter-widgets/base",
       "_model_module_version": "1.2.0",
       "_model_name": "LayoutModel",
       "_view_count": null,
       "_view_module": "@jupyter-widgets/base",
       "_view_module_version": "1.2.0",
       "_view_name": "LayoutView",
       "align_content": null,
       "align_items": null,
       "align_self": null,
       "border": null,
       "bottom": null,
       "display": null,
       "flex": null,
       "flex_flow": null,
       "grid_area": null,
       "grid_auto_columns": null,
       "grid_auto_flow": null,
       "grid_auto_rows": null,
       "grid_column": null,
       "grid_gap": null,
       "grid_row": null,
       "grid_template_areas": null,
       "grid_template_columns": null,
       "grid_template_rows": null,
       "height": null,
       "justify_content": null,
       "justify_items": null,
       "left": null,
       "margin": null,
       "max_height": null,
       "max_width": null,
       "min_height": null,
       "min_width": null,
       "object_fit": null,
       "object_position": null,
       "order": null,
       "overflow": null,
       "overflow_x": null,
       "overflow_y": null,
       "padding": null,
       "right": null,
       "top": null,
       "visibility": null,
       "width": null
      }
     }
    },
    "version_major": 2,
    "version_minor": 0
   }
  }
 },
 "nbformat": 4,
 "nbformat_minor": 5
}
